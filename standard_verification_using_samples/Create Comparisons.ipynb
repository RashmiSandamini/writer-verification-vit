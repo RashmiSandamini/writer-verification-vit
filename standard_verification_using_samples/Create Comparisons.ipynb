{
 "cells": [
  {
   "cell_type": "code",
   "execution_count": null,
   "metadata": {
    "colab": {
     "base_uri": "https://localhost:8080/"
    },
    "executionInfo": {
     "elapsed": 5242,
     "status": "ok",
     "timestamp": 1753447905117,
     "user": {
      "displayName": "MDR Sandamini",
      "userId": "14130589177191734805"
     },
     "user_tz": -330
    },
    "id": "gPCFqzOBAULj",
    "outputId": "d499113c-2b9e-4ecb-f854-16f0635aec96"
   },
   "outputs": [],
   "source": [
    "import tensorflow as tf\n",
    "import pandas as pd\n",
    "import gdown\n",
    "import zipfile\n",
    "import os\n",
    "import itertools\n",
    "import random\n",
    "from itertools import combinations\n",
    "print(tf.__version__)\n",
    "!python --version\n",
    "print(\"TensorFlow version:\", tf.__version__)\n",
    "print(tf.config.list_physical_devices('GPU'))"
   ]
  },
  {
   "cell_type": "code",
   "execution_count": null,
   "metadata": {
    "colab": {
     "base_uri": "https://localhost:8080/"
    },
    "executionInfo": {
     "elapsed": 3760,
     "status": "ok",
     "timestamp": 1753447908894,
     "user": {
      "displayName": "MDR Sandamini",
      "userId": "14130589177191734805"
     },
     "user_tz": -330
    },
    "id": "io27Gkn1GzrG",
    "outputId": "1069ed30-729d-4436-c4d1-324c981a5016"
   },
   "outputs": [],
   "source": [
    "file_id = \"file_id\"\n",
    "gdown.download(f\"https://drive.google.com/uc?id={file_id}\", \"binary.zip\", quiet=False)\n",
    "\n",
    "with zipfile.ZipFile(\"binary.zip\", 'r') as zip_ref:\n",
    "    zip_ref.extractall()"
   ]
  },
  {
   "cell_type": "markdown",
   "metadata": {
    "id": "8pYKjAn2EJUr"
   },
   "source": [
    "## Parquet Creation Testing"
   ]
  },
  {
   "cell_type": "code",
   "execution_count": 3,
   "metadata": {
    "executionInfo": {
     "elapsed": 13,
     "status": "ok",
     "timestamp": 1753447908926,
     "user": {
      "displayName": "MDR Sandamini",
      "userId": "14130589177191734805"
     },
     "user_tz": -330
    },
    "id": "cJaG-mtkPOnc"
   },
   "outputs": [],
   "source": [
    "def path_from_name(writer, img_name):\n",
    "    parts = img_name.split('_')  # e.g., ['W083', 'S02', 'F']\n",
    "    subfolder = f\"{parts[1]}_{parts[2]}\"\n",
    "    return f\"{writer}/{subfolder}\""
   ]
  },
  {
   "cell_type": "code",
   "execution_count": null,
   "metadata": {
    "colab": {
     "base_uri": "https://localhost:8080/"
    },
    "executionInfo": {
     "elapsed": 157,
     "status": "ok",
     "timestamp": 1753447912331,
     "user": {
      "displayName": "MDR Sandamini",
      "userId": "14130589177191734805"
     },
     "user_tz": -330
    },
    "id": "8g8CR7-2EMod",
    "outputId": "dc6e38ab-0a59-4f46-b591-e1351afee0d3"
   },
   "outputs": [],
   "source": [
    "BASE_DIR = \"binary\"\n",
    "test_writers = ['W013', 'W016', 'W027', 'W032', 'W048', 'W056', 'W064', 'W065', 'W078', 'W082', 'W083', 'W084', 'W094', 'W098', 'W101']\n",
    "random.seed(42)\n",
    "\n",
    "same_writer_pairs = []\n",
    "diff_writer_pairs = []\n",
    "writer_images = {}\n",
    "\n",
    "for writer in test_writers:\n",
    "    path = os.path.join(BASE_DIR, writer)\n",
    "    if not os.path.isdir(path):\n",
    "        continue\n",
    "    images = [f[:-4] for f in os.listdir(path) if f.endswith(\".png\")]\n",
    "    if len(images) >= 2:\n",
    "        writer_images[writer] = sorted(images)\n",
    "for writer, imgs in writer_images.items():\n",
    "    pairs = list(itertools.combinations(imgs, 2))  \n",
    "    same_writer_pairs.extend([(writer, a, writer, b) for a, b in pairs])\n",
    "\n",
    "needed_diff_pairs = len(same_writer_pairs)\n",
    "existing_diff_pairs = set()\n",
    "\n",
    "while len(diff_writer_pairs) < needed_diff_pairs:\n",
    "    w1, w2 = random.sample(test_writers, 2)\n",
    "    imgs1 = writer_images.get(w1, [])\n",
    "    imgs2 = writer_images.get(w2, [])\n",
    "    if not imgs1 or not imgs2:\n",
    "        continue\n",
    "    i1 = random.choice(imgs1)\n",
    "    i2 = random.choice(imgs2)\n",
    "    pair = (w1, i1, w2, i2)\n",
    "    if pair not in existing_diff_pairs:\n",
    "        diff_writer_pairs.append(pair)\n",
    "        existing_diff_pairs.add(pair)\n",
    "\n",
    "all_rows = []\n",
    "\n",
    "for w1, i1, w2, i2 in same_writer_pairs:\n",
    "    all_rows.append({\"sample_1\": path_from_name(w1, i1), \"sample_2\": path_from_name(w2, i2), \"label\": 0})\n",
    "for w1, i1, w2, i2 in diff_writer_pairs:\n",
    "    all_rows.append({\"sample_1\": path_from_name(w1, i1), \"sample_2\": path_from_name(w2, i2), \"label\": 1})\n",
    "\n",
    "df = pd.DataFrame(all_rows)\n",
    "\n",
    "df = df.sample(frac=1, random_state=42).reset_index(drop=True)\n",
    "\n",
    "df.to_csv(\"test_writer_combinations.csv\", index=False)\n",
    "df.to_parquet(\"test_writer_combinations.parquet\", index=False)\n",
    "\n",
    "print(f\"Same-writer pairs: {len(same_writer_pairs)}\")\n",
    "print(f\"Different-writer pairs: {len(diff_writer_pairs)}\")\n"
   ]
  },
  {
   "cell_type": "markdown",
   "metadata": {
    "id": "yl80IvIlQa1l"
   },
   "source": [
    "## CVL Dataset"
   ]
  },
  {
   "cell_type": "code",
   "execution_count": null,
   "metadata": {
    "colab": {
     "base_uri": "https://localhost:8080/"
    },
    "executionInfo": {
     "elapsed": 6030,
     "status": "ok",
     "timestamp": 1753242199599,
     "user": {
      "displayName": "MDR Sandamini",
      "userId": "14130589177191734805"
     },
     "user_tz": -330
    },
    "id": "skpRD_cTXKDd",
    "outputId": "129b12aa-7b7c-4ca0-ab1d-2ef27f8ac3d8"
   },
   "outputs": [],
   "source": [
    "file_id = \"file_id\"\n",
    "gdown.download(f\"https://drive.google.com/uc?id={file_id}\", \"binary_cvl.zip\", quiet=False)\n",
    "\n",
    "with zipfile.ZipFile(\"binary_cvl.zip\", 'r') as zip_ref:\n",
    "    zip_ref.extractall()"
   ]
  },
  {
   "cell_type": "code",
   "execution_count": null,
   "metadata": {
    "id": "jo5QLUw0YqSk"
   },
   "outputs": [],
   "source": [
    "def path_from_name(writer, img_name):\n",
    "    print(writer,img_name)\n",
    "    parts = img_name.split('_')\n",
    "    subfolder = f\"{parts[1]}_{parts[2]}\"\n",
    "    return f\"{writer}/{subfolder}\""
   ]
  },
  {
   "cell_type": "code",
   "execution_count": null,
   "metadata": {
    "colab": {
     "base_uri": "https://localhost:8080/"
    },
    "executionInfo": {
     "elapsed": 41,
     "status": "ok",
     "timestamp": 1753243884474,
     "user": {
      "displayName": "MDR Sandamini",
      "userId": "14130589177191734805"
     },
     "user_tz": -330
    },
    "id": "j57dyxiBQdMM",
    "outputId": "86495424-3859-44fe-d32d-e5fa79495126"
   },
   "outputs": [],
   "source": [
    "BASE_DIR = \"binary_cvl\"\n",
    "test_writers = ['CVL0717', 'CVL0309', 'CVL1120', 'CVL0215', 'CVL0095', 'CVL0245', 'CVL0240', 'CVL0391', 'CVL0176', 'CVL0020', 'CVL0524', 'CVL0482', 'CVL0709', 'CVL0528', 'CVL0477', 'CVL0218', 'CVL0181', 'CVL0080', 'CVL0963', 'CVL0573', 'CVL0157', 'CVL0216', 'CVL0705', 'CVL0220', 'CVL0403', 'CVL0058', 'CVL0540', 'CVL0230', 'CVL0256', 'CVL0050', 'CVL0198', 'CVL1133', 'CVL0096', 'CVL0153', 'CVL0183', 'CVL0394', 'CVL0098', 'CVL0935', 'CVL0582', 'CVL0291', 'CVL0411', 'CVL0313', 'CVL0232', 'CVL0585', 'CVL0244', 'CVL0028', 'CVL0023']\n",
    "random.seed(42)\n",
    "\n",
    "same_writers = []\n",
    "diff_writer_pairs = []\n",
    "writer_images = {}\n",
    "\n",
    "for writer in test_writers:\n",
    "    path = os.path.join(BASE_DIR, writer)\n",
    "    if not os.path.isdir(path):\n",
    "        continue\n",
    "    images = [f[:-4] for f in os.listdir(path) if f.endswith(\".png\")]\n",
    "    if images:\n",
    "      writer_images[writer] = images\n",
    "    pairs = list(itertools.combinations(images, 2))\n",
    "    for pair in pairs:\n",
    "      same_writers.append((pair[0],pair[1],0))\n",
    "\n",
    "writer_list = list(writer_images.keys())\n",
    "\n",
    "used_writers = set()\n",
    "diff_writer_pairs = set()\n",
    "\n",
    "while len(diff_writer_pairs) < len(same_writers) or len(used_writers) < len(writer_list):\n",
    "    w1, w2 = random.sample(writer_list, 2)\n",
    "\n",
    "    img1 = random.choice(writer_images[w1])\n",
    "    img2 = random.choice(writer_images[w2])\n",
    "\n",
    "    pair = tuple(sorted((img1, img2)))\n",
    "\n",
    "    if pair not in diff_writer_pairs:\n",
    "        diff_writer_pairs.add(pair)\n",
    "        used_writers.update([w1, w2])\n",
    "\n",
    "diff_writer_labeled = [(p[0], p[1], 1) for p in list(diff_writer_pairs)[:len(same_writers)]]\n",
    "\n",
    "all_pairs = same_writers + diff_writer_labeled\n",
    "\n",
    "df_pairs = pd.DataFrame(all_pairs, columns=['sample_1', 'sample_2', 'label'])\n",
    "df_pairs = df_pairs.sample(frac=1, random_state=42).reset_index(drop=True)\n",
    "df_pairs.to_csv('test_writer_pairs_cvl.csv', index=False)\n",
    "df_pairs.to_parquet('test_writer_pairs_cvl.parquet', index=False)\n",
    "\n",
    "print(f\"Same-writer pairs: {len(same_writers)}\")\n",
    "print(f\"Different-writer pairs: {len(diff_writer_pairs)}\")\n"
   ]
  },
  {
   "cell_type": "code",
   "execution_count": null,
   "metadata": {
    "colab": {
     "base_uri": "https://localhost:8080/"
    },
    "executionInfo": {
     "elapsed": 114,
     "status": "ok",
     "timestamp": 1753241327281,
     "user": {
      "displayName": "MDR Sandamini",
      "userId": "14130589177191734805"
     },
     "user_tz": -330
    },
    "id": "SUfZYDtVQucJ",
    "outputId": "3f31bfb8-4f48-48ec-cb0d-d1b92ec75059"
   },
   "outputs": [],
   "source": [
    "df = pd.read_parquet('cvl_test.parquet')\n",
    "col1 = df['sample_1']\n",
    "col2 = df['sample_2']\n",
    "writers = set()\n",
    "for writer in col1:\n",
    "  parts = writer.split('/')\n",
    "  writers.add(parts[1])\n",
    "for writer in col2:\n",
    "  parts = writer.split('/')\n",
    "  writers.add(parts[1])"
   ]
  },
  {
   "cell_type": "markdown",
   "metadata": {
    "id": "yQiaIvoNpXLC"
   },
   "source": [
    "## IAM Dataset"
   ]
  },
  {
   "cell_type": "code",
   "execution_count": null,
   "metadata": {
    "colab": {
     "base_uri": "https://localhost:8080/"
    },
    "executionInfo": {
     "elapsed": 6842,
     "status": "ok",
     "timestamp": 1753248599520,
     "user": {
      "displayName": "Hikari Research",
      "userId": "13771564110195447892"
     },
     "user_tz": -330
    },
    "id": "kSei40WPqvQa",
    "outputId": "6df7211c-5c1f-4eb4-819d-f3b8070e53ce"
   },
   "outputs": [],
   "source": [
    "file_id = \"file_id\"\n",
    "gdown.download(f\"https://drive.google.com/uc?id={file_id}\", \"binary_iam.zip\", quiet=False)\n",
    "\n",
    "with zipfile.ZipFile(\"binary_iam.zip\", 'r') as zip_ref:\n",
    "    zip_ref.extractall()"
   ]
  },
  {
   "cell_type": "code",
   "execution_count": null,
   "metadata": {
    "colab": {
     "base_uri": "https://localhost:8080/"
    },
    "executionInfo": {
     "elapsed": 40,
     "status": "ok",
     "timestamp": 1753250069785,
     "user": {
      "displayName": "Hikari Research",
      "userId": "13771564110195447892"
     },
     "user_tz": -330
    },
    "id": "fmqd-rUPpW2v",
    "outputId": "a7943b9a-5903-40a7-b2a1-d21a6e95180f"
   },
   "outputs": [],
   "source": [
    "BASE_DIR = \"binary_iam\"\n",
    "test_writers = []\n",
    "random.seed(42)\n",
    "\n",
    "writers = os.listdir(BASE_DIR)\n",
    "print(writers)\n",
    "\n",
    "for writer in writers:\n",
    "  test_writers.append(writer)\n",
    "\n",
    "same_writers = []\n",
    "diff_writer_pairs = []\n",
    "writer_images = {}\n",
    "\n",
    "for writer in test_writers:\n",
    "    path = os.path.join(BASE_DIR, writer)\n",
    "    if not os.path.isdir(path):\n",
    "        continue\n",
    "    images = [f[:-4] for f in os.listdir(path) if f.endswith(\".png\")]\n",
    "    if not images:\n",
    "      continue\n",
    "\n",
    "    if writer == 'IAM000':\n",
    "      images = random.sample(images, min(6, len(images)))\n",
    "    writer_images[writer] = images\n",
    "    pairs = list(itertools.combinations(images, 2))\n",
    "    for pair in pairs:\n",
    "      same_writers.append((pair[0],pair[1],0))\n",
    "\n",
    "writer_list = list(writer_images.keys())\n",
    "\n",
    "used_writers = set()\n",
    "diff_writer_pairs = set()\n",
    "\n",
    "while len(diff_writer_pairs) < len(same_writers) or len(used_writers) < len(writer_list):\n",
    "    w1, w2 = random.sample(writer_list, 2)\n",
    "\n",
    "    img1 = random.choice(writer_images[w1])\n",
    "    img2 = random.choice(writer_images[w2])\n",
    "\n",
    "    pair = tuple(sorted((img1, img2)))\n",
    "\n",
    "    if pair not in diff_writer_pairs:\n",
    "        diff_writer_pairs.add(pair)\n",
    "        used_writers.update([w1, w2])\n",
    "\n",
    "diff_writer_labeled = [(p[0], p[1], 1) for p in list(diff_writer_pairs)[:len(same_writers)]]\n",
    "\n",
    "all_pairs = same_writers + diff_writer_labeled\n",
    "\n",
    "df_pairs = pd.DataFrame(all_pairs, columns=['sample_1', 'sample_2', 'label'])\n",
    "df_pairs = df_pairs.sample(frac=1, random_state=42).reset_index(drop=True)\n",
    "df_pairs.to_csv('test_writer_pairs_iam.csv', index=False)\n",
    "df_pairs.to_parquet('test_writer_pairs_iam.parquet', index=False)"
   ]
  }
 ],
 "metadata": {
  "accelerator": "GPU",
  "colab": {
   "collapsed_sections": [
    "8pYKjAn2EJUr",
    "yl80IvIlQa1l"
   ],
   "gpuType": "T4",
   "provenance": []
  },
  "kernelspec": {
   "display_name": "Python 3",
   "name": "python3"
  },
  "language_info": {
   "codemirror_mode": {
    "name": "ipython",
    "version": 3
   },
   "file_extension": ".py",
   "mimetype": "text/x-python",
   "name": "python",
   "nbconvert_exporter": "python",
   "pygments_lexer": "ipython3",
   "version": "3.12.7"
  }
 },
 "nbformat": 4,
 "nbformat_minor": 0
}
