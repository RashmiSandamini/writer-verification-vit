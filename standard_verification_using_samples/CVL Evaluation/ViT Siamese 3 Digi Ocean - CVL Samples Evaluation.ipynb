{
 "cells": [
  {
   "cell_type": "code",
   "execution_count": null,
   "metadata": {
    "colab": {
     "base_uri": "https://localhost:8080/"
    },
    "collapsed": true,
    "executionInfo": {
     "elapsed": 77220,
     "status": "ok",
     "timestamp": 1753245899215,
     "user": {
      "displayName": "Hikari Research",
      "userId": "13771564110195447892"
     },
     "user_tz": -330
    },
    "id": "ndc5WBXQ03Di",
    "outputId": "e0f056ec-a002-401f-b457-d950b27dd8ce"
   },
   "outputs": [],
   "source": [
    "!pip install torch torchvision transformers\n",
    "!pip install torchmetrics"
   ]
  },
  {
   "cell_type": "code",
   "execution_count": null,
   "metadata": {
    "colab": {
     "base_uri": "https://localhost:8080/"
    },
    "executionInfo": {
     "elapsed": 17855,
     "status": "ok",
     "timestamp": 1753245917086,
     "user": {
      "displayName": "Hikari Research",
      "userId": "13771564110195447892"
     },
     "user_tz": -330
    },
    "id": "gPCFqzOBAULj",
    "outputId": "9a6918b1-ca47-40e3-e96e-de1d887583f8"
   },
   "outputs": [],
   "source": [
    "import torch\n",
    "import torch.nn as nn\n",
    "import torch.nn.functional as F\n",
    "from torch.utils.data import Dataset, DataLoader\n",
    "from transformers import ViTModel, ViTConfig\n",
    "import pandas as pd\n",
    "import os\n",
    "import numpy as np\n",
    "import gdown\n",
    "import zipfile\n",
    "from tqdm import tqdm\n",
    "from sklearn.metrics import confusion_matrix\n",
    "from sklearn.metrics import accuracy_score, precision_recall_fscore_support, roc_auc_score,roc_curve\n",
    "\n",
    "BASE_DIR = \"Data_V9_ViT\"\n",
    "scaler = torch.amp.GradScaler('cuda')\n",
    "device = torch.device(\"cuda\" if torch.cuda.is_available() else \"cpu\")\n",
    "print(\"Using device:\", device)"
   ]
  },
  {
   "cell_type": "code",
   "execution_count": null,
   "metadata": {
    "colab": {
     "base_uri": "https://localhost:8080/"
    },
    "executionInfo": {
     "elapsed": 53487,
     "status": "ok",
     "timestamp": 1753245970578,
     "user": {
      "displayName": "Hikari Research",
      "userId": "13771564110195447892"
     },
     "user_tz": -330
    },
    "id": "ECr6uDA81qh0",
    "outputId": "2ac78bdc-2529-44c7-f706-fa7223a58206"
   },
   "outputs": [],
   "source": [
    "file_id = \"file_id\"\n",
    "gdown.download(f\"https://drive.google.com/uc?id={file_id}\", \"texture_cvl.zip\", quiet=False)\n",
    "with zipfile.ZipFile(\"texture_cvl.zip\", 'r') as zip_ref:\n",
    "    zip_ref.extractall(\"\")"
   ]
  },
  {
   "cell_type": "code",
   "execution_count": null,
   "metadata": {
    "id": "mkdgxYF2AAIt"
   },
   "outputs": [],
   "source": [
    "class LoadDataset(Dataset):\n",
    "    def __init__(self, parquet_path, base_dir=BASE_DIR):\n",
    "        super().__init__()\n",
    "        self.df = pd.read_parquet(parquet_path)\n",
    "\n",
    "    def __len__(self):\n",
    "        return len(self.df)\n",
    "\n",
    "    def __getitem__(self, idx):\n",
    "        row = self.df.iloc[idx]\n",
    "        label = float(row[\"label\"])\n",
    "        label_tensor = torch.tensor(label, dtype=torch.float32).unsqueeze(0)\n",
    "\n",
    "        dummy = torch.zeros(1)\n",
    "        return dummy, dummy, label_tensor, str(row[\"sample_1\"]), str(row[\"sample_2\"])"
   ]
  },
  {
   "cell_type": "code",
   "execution_count": null,
   "metadata": {
    "colab": {
     "base_uri": "https://localhost:8080/",
     "height": 247,
     "referenced_widgets": [
      "1b1df66b3fa44a37a4d41c07ad69d7a9",
      "6f0b294f5c774001b3910b7814e635e5",
      "778f0252f19e464eae5e410bd67b4537",
      "014e0edcb7c24b59b14efbcfda6f865c",
      "ddcb78536a2248eea17ac2109148e5bd",
      "112d20f411a1437496d259114fa3255d",
      "b887cafbd3184519b0459c9cd64d3f25",
      "26428d3cff914f36abe01d2010a7c673",
      "1da0923253d64e8f86f72354555784eb",
      "198b656208d3459ba285fe02694c7b88",
      "7cca7be695684bdd8be6c2757d735613",
      "23164b517237489e9cf6d438bc2999b3",
      "6719bfb5b6f44fa8a7a38d4eabe0811f",
      "06b8ebfa6ec7458f8be5c839b143522b",
      "fd711639f5d945c7bba79c069dd7aa85",
      "d159511a06c74d6e8ec9091245a1c265",
      "01d6244df9214db1a437e8f7ad7b6806",
      "191d262f5b25401d8450cafbc2732289",
      "2e27adbabc7d4c4bae848af37e8580f4",
      "f6f808a1c6384cfca4b83a83dd74fa94",
      "15e79e5ac69c4967a1da6e7cebbd52de",
      "60d7ff21a4ed4427a64c62bf1a1de339"
     ]
    },
    "executionInfo": {
     "elapsed": 4281,
     "status": "ok",
     "timestamp": 1753245974920,
     "user": {
      "displayName": "Hikari Research",
      "userId": "13771564110195447892"
     },
     "user_tz": -330
    },
    "id": "6JPlj9AWusbq",
    "outputId": "9bcb5380-8237-420f-c864-f4b837d2376d"
   },
   "outputs": [],
   "source": [
    "vit_name = \"google/vit-base-patch16-384\"\n",
    "config = ViTConfig.from_pretrained(vit_name)\n",
    "vit_backbone = ViTModel.from_pretrained(vit_name, config=config).to(device)\n",
    "\n",
    "for param in vit_backbone.embeddings.parameters():\n",
    "    param.requires_grad = False\n",
    "\n",
    "for i in range(6):\n",
    "    for param in vit_backbone.encoder.layer[i].parameters():\n",
    "        param.requires_grad = False\n"
   ]
  },
  {
   "cell_type": "code",
   "execution_count": null,
   "metadata": {
    "id": "UkA1I9e7yzku"
   },
   "outputs": [],
   "source": [
    "class ViTEmbedder(nn.Module):\n",
    "    def __init__(self, vit_model):\n",
    "        super().__init__()\n",
    "        self.vit = vit_model\n",
    "\n",
    "    def forward(self, x):\n",
    "        outputs = self.vit(pixel_values=x)     \n",
    "        return outputs.pooler_output      \n",
    "\n",
    "vit_embedder = ViTEmbedder(vit_backbone).to(device)"
   ]
  },
  {
   "cell_type": "code",
   "execution_count": null,
   "metadata": {
    "id": "BN0MmN3XOKzW"
   },
   "outputs": [],
   "source": [
    "class ProjectionHead(nn.Module):\n",
    "    def __init__(self, in_dim=768, hidden_dims=[1024, 512, 256], dropout=0.1):\n",
    "        super().__init__()\n",
    "        layers = []\n",
    "        prev = in_dim\n",
    "        for h in hidden_dims:\n",
    "            layers += [\n",
    "                nn.Linear(prev, h),\n",
    "                nn.LayerNorm(h),\n",
    "                nn.GELU(),\n",
    "            ]\n",
    "            prev = h\n",
    "        self.net = nn.Sequential(*layers)\n",
    "\n",
    "    def forward(self, x):\n",
    "        z = self.net(x)          \n",
    "        return F.normalize(z, p=2, dim=1)\n",
    "\n",
    "proj_head = ProjectionHead(\n",
    "    in_dim=768,\n",
    "    hidden_dims=[512, 256, 128],\n",
    "    dropout=0.1\n",
    ").to(device)"
   ]
  },
  {
   "cell_type": "code",
   "execution_count": null,
   "metadata": {
    "id": "rS4wyUhg3gk0"
   },
   "outputs": [],
   "source": [
    "class EuclideanDistance(nn.Module):\n",
    "    def __init__(self, eps: float = 1e-7):\n",
    "        super().__init__()\n",
    "        self.eps = eps\n",
    "\n",
    "    def forward(self, x: torch.Tensor, y: torch.Tensor) -> torch.Tensor:\n",
    "        diff_sq = (x - y).pow(2)\n",
    "        sum_sq = diff_sq.sum(dim=1, keepdim=True)\n",
    "        sum_sq = torch.clamp(sum_sq, min=self.eps)\n",
    "        return torch.sqrt(sum_sq)"
   ]
  },
  {
   "cell_type": "code",
   "execution_count": null,
   "metadata": {
    "id": "qe--YAqC3stO"
   },
   "outputs": [],
   "source": [
    "class SiameseViT(nn.Module):\n",
    "    def __init__(self, embedder, head):\n",
    "        super().__init__()\n",
    "        self.embedder = embedder\n",
    "        self.head = head\n",
    "        self.distance = EuclideanDistance()\n",
    "\n",
    "    def forward_once(self, img):\n",
    "        cls_emb = self.embedder(img)\n",
    "        emb256 = self.head(cls_emb)\n",
    "        return emb256\n",
    "\n",
    "    def forward(self, img_a, img_b):\n",
    "        emb_a = self.forward_once(img_a)\n",
    "        emb_b = self.forward_once(img_b)\n",
    "        dist = self.distance(emb_a, emb_b)\n",
    "        return dist\n",
    "\n",
    "siamese_model = SiameseViT(vit_embedder, proj_head).to(device)"
   ]
  },
  {
   "cell_type": "code",
   "execution_count": null,
   "metadata": {
    "id": "-UMZ525h4F1o"
   },
   "outputs": [],
   "source": [
    "class ContrastiveLoss(nn.Module):\n",
    "    def __init__(self, margin=1.0):\n",
    "        super().__init__()\n",
    "        self.margin = margin\n",
    "\n",
    "    def forward(self, dist, label):\n",
    "\n",
    "        label = label.view(-1, 1)\n",
    "        pos_loss = (1.0 - label) * torch.pow(dist, 2)\n",
    "        neg_loss = label * torch.pow(torch.clamp(self.margin - dist, min=0.0), 2)\n",
    "        loss = torch.mean(pos_loss + neg_loss)\n",
    "        return loss\n",
    "\n",
    "criterion = ContrastiveLoss(margin=1.0).to(device)"
   ]
  },
  {
   "cell_type": "markdown",
   "metadata": {
    "id": "NUjmjaJDIlCe"
   },
   "source": [
    "## Averaging Section\n"
   ]
  },
  {
   "cell_type": "code",
   "execution_count": null,
   "metadata": {
    "id": "Y1GnSgMPIn9q"
   },
   "outputs": [],
   "source": [
    "def load_and_average_textures(folder_path, model, device):\n",
    "    texture_files = sorted([\n",
    "        f for f in os.listdir(folder_path) if f.endswith(\".pt\")\n",
    "    ])\n",
    "    embeddings = []\n",
    "    with torch.no_grad():\n",
    "        for tf in texture_files:\n",
    "            tensor = torch.load(os.path.join(folder_path, tf)).unsqueeze(0).to(device)\n",
    "            emb = model.forward_once(tensor)  \n",
    "            embeddings.append(emb.squeeze(0))  \n",
    "    avg_embedding = torch.stack(embeddings).mean(dim=0) \n",
    "    return avg_embedding"
   ]
  },
  {
   "cell_type": "code",
   "execution_count": null,
   "metadata": {
    "id": "Rbu34IT6LLq9"
   },
   "outputs": [],
   "source": [
    "def collect_scores(model, loader, device, texture_root):\n",
    "    model.eval()\n",
    "    all_scores = []\n",
    "    all_labels = []\n",
    "    all_pairs = []\n",
    "\n",
    "    with torch.no_grad():\n",
    "        for _, _, label, name1_list, name2_list in tqdm(loader, desc=\"Collecting Scores\"):\n",
    "            label = label.to(device)\n",
    "\n",
    "            # name1, name2 are paths like W001/S01_N/W001_S01_N\n",
    "            for name1, name2, lbl in zip(name1_list, name2_list, label):\n",
    "              sample_1 = name1.split('_')[0]\n",
    "              sample_2 = name2.split('_')[0]\n",
    "              folder1 = os.path.join(texture_root, sample_1, name1)\n",
    "              folder2 = os.path.join(texture_root, sample_2, name2)\n",
    "\n",
    "              emb1 = load_and_average_textures(folder1, model, device)\n",
    "              emb2 = load_and_average_textures(folder2, model, device)\n",
    "\n",
    "              dist = torch.norm(emb1 - emb2, p=2).unsqueeze(0)\n",
    "\n",
    "              all_scores.append(dist)\n",
    "              all_labels.append(lbl.view(-1))\n",
    "              all_pairs.append((name1, name2))\n",
    "\n",
    "    all_scores = torch.cat(all_scores).cpu().numpy()\n",
    "    all_labels = torch.cat(all_labels).cpu().numpy().astype(int)\n",
    "\n",
    "    return all_scores, all_labels, all_pairs"
   ]
  },
  {
   "cell_type": "markdown",
   "metadata": {
    "id": "_vKi07bR5d9n"
   },
   "source": [
    "## Evaluating Section"
   ]
  },
  {
   "cell_type": "code",
   "execution_count": null,
   "metadata": {
    "colab": {
     "base_uri": "https://localhost:8080/",
     "height": 147
    },
    "executionInfo": {
     "elapsed": 8556,
     "status": "ok",
     "timestamp": 1753245983564,
     "user": {
      "displayName": "Hikari Research",
      "userId": "13771564110195447892"
     },
     "user_tz": -330
    },
    "id": "j2IlkruS1vg7",
    "outputId": "ac68decd-5a76-43be-db5d-45b52867d5ee"
   },
   "outputs": [],
   "source": [
    "file_id = \"1ASQuT-LU5H1f_ydTrytQ-f5k8l-C7-yw\"\n",
    "gdown.download(f\"https://drive.google.com/uc?id={file_id}\", \"best_model.pt\", quiet=False)"
   ]
  },
  {
   "cell_type": "code",
   "execution_count": null,
   "metadata": {
    "colab": {
     "base_uri": "https://localhost:8080/",
     "height": 109
    },
    "executionInfo": {
     "elapsed": 2213,
     "status": "ok",
     "timestamp": 1753245985830,
     "user": {
      "displayName": "Hikari Research",
      "userId": "13771564110195447892"
     },
     "user_tz": -330
    },
    "id": "lLiw4O9zJ5fM",
    "outputId": "aa3d0806-b586-44ab-a206-989e35fb5d88"
   },
   "outputs": [],
   "source": [
    "file_id = \"file_id\"\n",
    "gdown.download(f\"https://drive.google.com/uc?id={file_id}\", \"cvl_test.parquet\", quiet=False)"
   ]
  },
  {
   "cell_type": "code",
   "execution_count": null,
   "metadata": {
    "colab": {
     "base_uri": "https://localhost:8080/"
    },
    "executionInfo": {
     "elapsed": 393,
     "status": "ok",
     "timestamp": 1753245986225,
     "user": {
      "displayName": "Hikari Research",
      "userId": "13771564110195447892"
     },
     "user_tz": -330
    },
    "id": "zhk-eSeV1xNm",
    "outputId": "0c42017c-2e46-46cc-a867-a1d0c221c062"
   },
   "outputs": [],
   "source": [
    "siamese_model = SiameseViT(vit_embedder, proj_head).to(device)\n",
    "siamese_model.load_state_dict(torch.load(\"best_model.pt\", map_location=device))"
   ]
  },
  {
   "cell_type": "code",
   "execution_count": null,
   "metadata": {
    "id": "t3wZhaw710Wk"
   },
   "outputs": [],
   "source": [
    "BATCH_SIZE_VAL = 512\n",
    "\n",
    "test_dataset = LoadDataset(\n",
    "    parquet_path=\"cvl_test.parquet\"\n",
    ")\n",
    "\n",
    "test_loader = DataLoader(\n",
    "    test_dataset,\n",
    "    batch_size=BATCH_SIZE_VAL,\n",
    "    shuffle=True,\n",
    "    num_workers=0,\n",
    "    pin_memory=True\n",
    ")"
   ]
  },
  {
   "cell_type": "code",
   "execution_count": null,
   "metadata": {
    "id": "ld_jscKiYleH"
   },
   "outputs": [],
   "source": [
    "thresholds = {\n",
    "    'eer': 0.7371158,\n",
    "    'f1': 0.72520995,\n",
    "    'bf': 0.7593953\n",
    "}"
   ]
  },
  {
   "cell_type": "code",
   "execution_count": null,
   "metadata": {
    "colab": {
     "base_uri": "https://localhost:8080/"
    },
    "executionInfo": {
     "elapsed": 100751,
     "status": "ok",
     "timestamp": 1753246087113,
     "user": {
      "displayName": "Hikari Research",
      "userId": "13771564110195447892"
     },
     "user_tz": -330
    },
    "id": "_00RJpB518Ia",
    "outputId": "4557a14f-253d-451a-fc86-8c5504dd3dfa"
   },
   "outputs": [],
   "source": [
    "test_scores, test_labels, sample_pairs = collect_scores(siamese_model, test_loader, device, \"texture_cvl\")\n",
    "def compute_far_frr(y_true, y_pred):\n",
    "    tn, fp, fn, tp = confusion_matrix(y_true, y_pred, labels=[1, 0]).ravel()\n",
    "    far = fp / (fp + tn) if (fp + tn) > 0 else 0.0\n",
    "    frr = fn / (fn + tp) if (fn + tp) > 0 else 0.0\n",
    "    return far, frr\n",
    "\n",
    "for name, thr in thresholds.items():\n",
    "    preds = (test_scores >= thr).astype(int)\n",
    "    acc   = accuracy_score(test_labels, preds)\n",
    "    prec, rec, f1, _ = precision_recall_fscore_support(test_labels, preds, average=\"binary\")\n",
    "    auc  = roc_auc_score(test_labels, test_scores)\n",
    "    fpr, tpr, thresholdss = roc_curve(test_labels, test_scores)\n",
    "    fnr = 1 - tpr\n",
    "    eer_threshold_idx = np.argmin(np.abs(fpr - fnr))\n",
    "    eer = (fpr[eer_threshold_idx] + fnr[eer_threshold_idx]) / 2\n",
    "    eer_threshold = thresholdss[eer_threshold_idx]\n",
    "    far, frr = compute_far_frr(test_labels, preds)\n",
    "    \n",
    "    print(f\"\\nThreshold used     : {name}\")\n",
    "    print(f\"Threshold value    : {thr:.3f}\")\n",
    "    print(f\"ROC-AUC            : {auc:.4f}\")\n",
    "    print(f\"Accuracy           : {acc:.4f}\")\n",
    "    print(f\"Precision          : {prec:.4f}\")\n",
    "    print(f\"Recall             : {rec:.4f}\")\n",
    "    print(f\"F1-score           : {f1:.4f}\")\n",
    "    print(f\"EER                : {eer:.4f}\")\n",
    "    print(f\"FAR                : {far:.4f}\")\n",
    "    print(f\"FRR                : {frr:.4f}\")"
   ]
  }
 ],
 "metadata": {
  "accelerator": "GPU",
  "colab": {
   "gpuType": "A100",
   "machine_shape": "hm",
   "provenance": []
  },
  "kernelspec": {
   "display_name": "Python 3",
   "name": "python3"
  },
  "language_info": {
   "codemirror_mode": {
    "name": "ipython",
    "version": 3
   },
   "file_extension": ".py",
   "mimetype": "text/x-python",
   "name": "python",
   "nbconvert_exporter": "python",
   "pygments_lexer": "ipython3",
   "version": "3.12.7"
  },
  "widgets": {
   "application/vnd.jupyter.widget-state+json": {
    "014e0edcb7c24b59b14efbcfda6f865c": {
     "model_module": "@jupyter-widgets/controls",
     "model_module_version": "1.5.0",
     "model_name": "HTMLModel",
     "state": {
      "_dom_classes": [],
      "_model_module": "@jupyter-widgets/controls",
      "_model_module_version": "1.5.0",
      "_model_name": "HTMLModel",
      "_view_count": null,
      "_view_module": "@jupyter-widgets/controls",
      "_view_module_version": "1.5.0",
      "_view_name": "HTMLView",
      "description": "",
      "description_tooltip": null,
      "layout": "IPY_MODEL_198b656208d3459ba285fe02694c7b88",
      "placeholder": "​",
      "style": "IPY_MODEL_7cca7be695684bdd8be6c2757d735613",
      "value": " 69.7k/? [00:00&lt;00:00, 6.53MB/s]"
     }
    },
    "01d6244df9214db1a437e8f7ad7b6806": {
     "model_module": "@jupyter-widgets/base",
     "model_module_version": "1.2.0",
     "model_name": "LayoutModel",
     "state": {
      "_model_module": "@jupyter-widgets/base",
      "_model_module_version": "1.2.0",
      "_model_name": "LayoutModel",
      "_view_count": null,
      "_view_module": "@jupyter-widgets/base",
      "_view_module_version": "1.2.0",
      "_view_name": "LayoutView",
      "align_content": null,
      "align_items": null,
      "align_self": null,
      "border": null,
      "bottom": null,
      "display": null,
      "flex": null,
      "flex_flow": null,
      "grid_area": null,
      "grid_auto_columns": null,
      "grid_auto_flow": null,
      "grid_auto_rows": null,
      "grid_column": null,
      "grid_gap": null,
      "grid_row": null,
      "grid_template_areas": null,
      "grid_template_columns": null,
      "grid_template_rows": null,
      "height": null,
      "justify_content": null,
      "justify_items": null,
      "left": null,
      "margin": null,
      "max_height": null,
      "max_width": null,
      "min_height": null,
      "min_width": null,
      "object_fit": null,
      "object_position": null,
      "order": null,
      "overflow": null,
      "overflow_x": null,
      "overflow_y": null,
      "padding": null,
      "right": null,
      "top": null,
      "visibility": null,
      "width": null
     }
    },
    "06b8ebfa6ec7458f8be5c839b143522b": {
     "model_module": "@jupyter-widgets/controls",
     "model_module_version": "1.5.0",
     "model_name": "FloatProgressModel",
     "state": {
      "_dom_classes": [],
      "_model_module": "@jupyter-widgets/controls",
      "_model_module_version": "1.5.0",
      "_model_name": "FloatProgressModel",
      "_view_count": null,
      "_view_module": "@jupyter-widgets/controls",
      "_view_module_version": "1.5.0",
      "_view_name": "ProgressView",
      "bar_style": "success",
      "description": "",
      "description_tooltip": null,
      "layout": "IPY_MODEL_2e27adbabc7d4c4bae848af37e8580f4",
      "max": 347461216,
      "min": 0,
      "orientation": "horizontal",
      "style": "IPY_MODEL_f6f808a1c6384cfca4b83a83dd74fa94",
      "value": 347461216
     }
    },
    "112d20f411a1437496d259114fa3255d": {
     "model_module": "@jupyter-widgets/base",
     "model_module_version": "1.2.0",
     "model_name": "LayoutModel",
     "state": {
      "_model_module": "@jupyter-widgets/base",
      "_model_module_version": "1.2.0",
      "_model_name": "LayoutModel",
      "_view_count": null,
      "_view_module": "@jupyter-widgets/base",
      "_view_module_version": "1.2.0",
      "_view_name": "LayoutView",
      "align_content": null,
      "align_items": null,
      "align_self": null,
      "border": null,
      "bottom": null,
      "display": null,
      "flex": null,
      "flex_flow": null,
      "grid_area": null,
      "grid_auto_columns": null,
      "grid_auto_flow": null,
      "grid_auto_rows": null,
      "grid_column": null,
      "grid_gap": null,
      "grid_row": null,
      "grid_template_areas": null,
      "grid_template_columns": null,
      "grid_template_rows": null,
      "height": null,
      "justify_content": null,
      "justify_items": null,
      "left": null,
      "margin": null,
      "max_height": null,
      "max_width": null,
      "min_height": null,
      "min_width": null,
      "object_fit": null,
      "object_position": null,
      "order": null,
      "overflow": null,
      "overflow_x": null,
      "overflow_y": null,
      "padding": null,
      "right": null,
      "top": null,
      "visibility": null,
      "width": null
     }
    },
    "15e79e5ac69c4967a1da6e7cebbd52de": {
     "model_module": "@jupyter-widgets/base",
     "model_module_version": "1.2.0",
     "model_name": "LayoutModel",
     "state": {
      "_model_module": "@jupyter-widgets/base",
      "_model_module_version": "1.2.0",
      "_model_name": "LayoutModel",
      "_view_count": null,
      "_view_module": "@jupyter-widgets/base",
      "_view_module_version": "1.2.0",
      "_view_name": "LayoutView",
      "align_content": null,
      "align_items": null,
      "align_self": null,
      "border": null,
      "bottom": null,
      "display": null,
      "flex": null,
      "flex_flow": null,
      "grid_area": null,
      "grid_auto_columns": null,
      "grid_auto_flow": null,
      "grid_auto_rows": null,
      "grid_column": null,
      "grid_gap": null,
      "grid_row": null,
      "grid_template_areas": null,
      "grid_template_columns": null,
      "grid_template_rows": null,
      "height": null,
      "justify_content": null,
      "justify_items": null,
      "left": null,
      "margin": null,
      "max_height": null,
      "max_width": null,
      "min_height": null,
      "min_width": null,
      "object_fit": null,
      "object_position": null,
      "order": null,
      "overflow": null,
      "overflow_x": null,
      "overflow_y": null,
      "padding": null,
      "right": null,
      "top": null,
      "visibility": null,
      "width": null
     }
    },
    "191d262f5b25401d8450cafbc2732289": {
     "model_module": "@jupyter-widgets/controls",
     "model_module_version": "1.5.0",
     "model_name": "DescriptionStyleModel",
     "state": {
      "_model_module": "@jupyter-widgets/controls",
      "_model_module_version": "1.5.0",
      "_model_name": "DescriptionStyleModel",
      "_view_count": null,
      "_view_module": "@jupyter-widgets/base",
      "_view_module_version": "1.2.0",
      "_view_name": "StyleView",
      "description_width": ""
     }
    },
    "198b656208d3459ba285fe02694c7b88": {
     "model_module": "@jupyter-widgets/base",
     "model_module_version": "1.2.0",
     "model_name": "LayoutModel",
     "state": {
      "_model_module": "@jupyter-widgets/base",
      "_model_module_version": "1.2.0",
      "_model_name": "LayoutModel",
      "_view_count": null,
      "_view_module": "@jupyter-widgets/base",
      "_view_module_version": "1.2.0",
      "_view_name": "LayoutView",
      "align_content": null,
      "align_items": null,
      "align_self": null,
      "border": null,
      "bottom": null,
      "display": null,
      "flex": null,
      "flex_flow": null,
      "grid_area": null,
      "grid_auto_columns": null,
      "grid_auto_flow": null,
      "grid_auto_rows": null,
      "grid_column": null,
      "grid_gap": null,
      "grid_row": null,
      "grid_template_areas": null,
      "grid_template_columns": null,
      "grid_template_rows": null,
      "height": null,
      "justify_content": null,
      "justify_items": null,
      "left": null,
      "margin": null,
      "max_height": null,
      "max_width": null,
      "min_height": null,
      "min_width": null,
      "object_fit": null,
      "object_position": null,
      "order": null,
      "overflow": null,
      "overflow_x": null,
      "overflow_y": null,
      "padding": null,
      "right": null,
      "top": null,
      "visibility": null,
      "width": null
     }
    },
    "1b1df66b3fa44a37a4d41c07ad69d7a9": {
     "model_module": "@jupyter-widgets/controls",
     "model_module_version": "1.5.0",
     "model_name": "HBoxModel",
     "state": {
      "_dom_classes": [],
      "_model_module": "@jupyter-widgets/controls",
      "_model_module_version": "1.5.0",
      "_model_name": "HBoxModel",
      "_view_count": null,
      "_view_module": "@jupyter-widgets/controls",
      "_view_module_version": "1.5.0",
      "_view_name": "HBoxView",
      "box_style": "",
      "children": [
       "IPY_MODEL_6f0b294f5c774001b3910b7814e635e5",
       "IPY_MODEL_778f0252f19e464eae5e410bd67b4537",
       "IPY_MODEL_014e0edcb7c24b59b14efbcfda6f865c"
      ],
      "layout": "IPY_MODEL_ddcb78536a2248eea17ac2109148e5bd"
     }
    },
    "1da0923253d64e8f86f72354555784eb": {
     "model_module": "@jupyter-widgets/controls",
     "model_module_version": "1.5.0",
     "model_name": "ProgressStyleModel",
     "state": {
      "_model_module": "@jupyter-widgets/controls",
      "_model_module_version": "1.5.0",
      "_model_name": "ProgressStyleModel",
      "_view_count": null,
      "_view_module": "@jupyter-widgets/base",
      "_view_module_version": "1.2.0",
      "_view_name": "StyleView",
      "bar_color": null,
      "description_width": ""
     }
    },
    "23164b517237489e9cf6d438bc2999b3": {
     "model_module": "@jupyter-widgets/controls",
     "model_module_version": "1.5.0",
     "model_name": "HBoxModel",
     "state": {
      "_dom_classes": [],
      "_model_module": "@jupyter-widgets/controls",
      "_model_module_version": "1.5.0",
      "_model_name": "HBoxModel",
      "_view_count": null,
      "_view_module": "@jupyter-widgets/controls",
      "_view_module_version": "1.5.0",
      "_view_name": "HBoxView",
      "box_style": "",
      "children": [
       "IPY_MODEL_6719bfb5b6f44fa8a7a38d4eabe0811f",
       "IPY_MODEL_06b8ebfa6ec7458f8be5c839b143522b",
       "IPY_MODEL_fd711639f5d945c7bba79c069dd7aa85"
      ],
      "layout": "IPY_MODEL_d159511a06c74d6e8ec9091245a1c265"
     }
    },
    "26428d3cff914f36abe01d2010a7c673": {
     "model_module": "@jupyter-widgets/base",
     "model_module_version": "1.2.0",
     "model_name": "LayoutModel",
     "state": {
      "_model_module": "@jupyter-widgets/base",
      "_model_module_version": "1.2.0",
      "_model_name": "LayoutModel",
      "_view_count": null,
      "_view_module": "@jupyter-widgets/base",
      "_view_module_version": "1.2.0",
      "_view_name": "LayoutView",
      "align_content": null,
      "align_items": null,
      "align_self": null,
      "border": null,
      "bottom": null,
      "display": null,
      "flex": null,
      "flex_flow": null,
      "grid_area": null,
      "grid_auto_columns": null,
      "grid_auto_flow": null,
      "grid_auto_rows": null,
      "grid_column": null,
      "grid_gap": null,
      "grid_row": null,
      "grid_template_areas": null,
      "grid_template_columns": null,
      "grid_template_rows": null,
      "height": null,
      "justify_content": null,
      "justify_items": null,
      "left": null,
      "margin": null,
      "max_height": null,
      "max_width": null,
      "min_height": null,
      "min_width": null,
      "object_fit": null,
      "object_position": null,
      "order": null,
      "overflow": null,
      "overflow_x": null,
      "overflow_y": null,
      "padding": null,
      "right": null,
      "top": null,
      "visibility": null,
      "width": "20px"
     }
    },
    "2e27adbabc7d4c4bae848af37e8580f4": {
     "model_module": "@jupyter-widgets/base",
     "model_module_version": "1.2.0",
     "model_name": "LayoutModel",
     "state": {
      "_model_module": "@jupyter-widgets/base",
      "_model_module_version": "1.2.0",
      "_model_name": "LayoutModel",
      "_view_count": null,
      "_view_module": "@jupyter-widgets/base",
      "_view_module_version": "1.2.0",
      "_view_name": "LayoutView",
      "align_content": null,
      "align_items": null,
      "align_self": null,
      "border": null,
      "bottom": null,
      "display": null,
      "flex": null,
      "flex_flow": null,
      "grid_area": null,
      "grid_auto_columns": null,
      "grid_auto_flow": null,
      "grid_auto_rows": null,
      "grid_column": null,
      "grid_gap": null,
      "grid_row": null,
      "grid_template_areas": null,
      "grid_template_columns": null,
      "grid_template_rows": null,
      "height": null,
      "justify_content": null,
      "justify_items": null,
      "left": null,
      "margin": null,
      "max_height": null,
      "max_width": null,
      "min_height": null,
      "min_width": null,
      "object_fit": null,
      "object_position": null,
      "order": null,
      "overflow": null,
      "overflow_x": null,
      "overflow_y": null,
      "padding": null,
      "right": null,
      "top": null,
      "visibility": null,
      "width": null
     }
    },
    "60d7ff21a4ed4427a64c62bf1a1de339": {
     "model_module": "@jupyter-widgets/controls",
     "model_module_version": "1.5.0",
     "model_name": "DescriptionStyleModel",
     "state": {
      "_model_module": "@jupyter-widgets/controls",
      "_model_module_version": "1.5.0",
      "_model_name": "DescriptionStyleModel",
      "_view_count": null,
      "_view_module": "@jupyter-widgets/base",
      "_view_module_version": "1.2.0",
      "_view_name": "StyleView",
      "description_width": ""
     }
    },
    "6719bfb5b6f44fa8a7a38d4eabe0811f": {
     "model_module": "@jupyter-widgets/controls",
     "model_module_version": "1.5.0",
     "model_name": "HTMLModel",
     "state": {
      "_dom_classes": [],
      "_model_module": "@jupyter-widgets/controls",
      "_model_module_version": "1.5.0",
      "_model_name": "HTMLModel",
      "_view_count": null,
      "_view_module": "@jupyter-widgets/controls",
      "_view_module_version": "1.5.0",
      "_view_name": "HTMLView",
      "description": "",
      "description_tooltip": null,
      "layout": "IPY_MODEL_01d6244df9214db1a437e8f7ad7b6806",
      "placeholder": "​",
      "style": "IPY_MODEL_191d262f5b25401d8450cafbc2732289",
      "value": "model.safetensors: 100%"
     }
    },
    "6f0b294f5c774001b3910b7814e635e5": {
     "model_module": "@jupyter-widgets/controls",
     "model_module_version": "1.5.0",
     "model_name": "HTMLModel",
     "state": {
      "_dom_classes": [],
      "_model_module": "@jupyter-widgets/controls",
      "_model_module_version": "1.5.0",
      "_model_name": "HTMLModel",
      "_view_count": null,
      "_view_module": "@jupyter-widgets/controls",
      "_view_module_version": "1.5.0",
      "_view_name": "HTMLView",
      "description": "",
      "description_tooltip": null,
      "layout": "IPY_MODEL_112d20f411a1437496d259114fa3255d",
      "placeholder": "​",
      "style": "IPY_MODEL_b887cafbd3184519b0459c9cd64d3f25",
      "value": "config.json: "
     }
    },
    "778f0252f19e464eae5e410bd67b4537": {
     "model_module": "@jupyter-widgets/controls",
     "model_module_version": "1.5.0",
     "model_name": "FloatProgressModel",
     "state": {
      "_dom_classes": [],
      "_model_module": "@jupyter-widgets/controls",
      "_model_module_version": "1.5.0",
      "_model_name": "FloatProgressModel",
      "_view_count": null,
      "_view_module": "@jupyter-widgets/controls",
      "_view_module_version": "1.5.0",
      "_view_name": "ProgressView",
      "bar_style": "success",
      "description": "",
      "description_tooltip": null,
      "layout": "IPY_MODEL_26428d3cff914f36abe01d2010a7c673",
      "max": 1,
      "min": 0,
      "orientation": "horizontal",
      "style": "IPY_MODEL_1da0923253d64e8f86f72354555784eb",
      "value": 1
     }
    },
    "7cca7be695684bdd8be6c2757d735613": {
     "model_module": "@jupyter-widgets/controls",
     "model_module_version": "1.5.0",
     "model_name": "DescriptionStyleModel",
     "state": {
      "_model_module": "@jupyter-widgets/controls",
      "_model_module_version": "1.5.0",
      "_model_name": "DescriptionStyleModel",
      "_view_count": null,
      "_view_module": "@jupyter-widgets/base",
      "_view_module_version": "1.2.0",
      "_view_name": "StyleView",
      "description_width": ""
     }
    },
    "b887cafbd3184519b0459c9cd64d3f25": {
     "model_module": "@jupyter-widgets/controls",
     "model_module_version": "1.5.0",
     "model_name": "DescriptionStyleModel",
     "state": {
      "_model_module": "@jupyter-widgets/controls",
      "_model_module_version": "1.5.0",
      "_model_name": "DescriptionStyleModel",
      "_view_count": null,
      "_view_module": "@jupyter-widgets/base",
      "_view_module_version": "1.2.0",
      "_view_name": "StyleView",
      "description_width": ""
     }
    },
    "d159511a06c74d6e8ec9091245a1c265": {
     "model_module": "@jupyter-widgets/base",
     "model_module_version": "1.2.0",
     "model_name": "LayoutModel",
     "state": {
      "_model_module": "@jupyter-widgets/base",
      "_model_module_version": "1.2.0",
      "_model_name": "LayoutModel",
      "_view_count": null,
      "_view_module": "@jupyter-widgets/base",
      "_view_module_version": "1.2.0",
      "_view_name": "LayoutView",
      "align_content": null,
      "align_items": null,
      "align_self": null,
      "border": null,
      "bottom": null,
      "display": null,
      "flex": null,
      "flex_flow": null,
      "grid_area": null,
      "grid_auto_columns": null,
      "grid_auto_flow": null,
      "grid_auto_rows": null,
      "grid_column": null,
      "grid_gap": null,
      "grid_row": null,
      "grid_template_areas": null,
      "grid_template_columns": null,
      "grid_template_rows": null,
      "height": null,
      "justify_content": null,
      "justify_items": null,
      "left": null,
      "margin": null,
      "max_height": null,
      "max_width": null,
      "min_height": null,
      "min_width": null,
      "object_fit": null,
      "object_position": null,
      "order": null,
      "overflow": null,
      "overflow_x": null,
      "overflow_y": null,
      "padding": null,
      "right": null,
      "top": null,
      "visibility": null,
      "width": null
     }
    },
    "ddcb78536a2248eea17ac2109148e5bd": {
     "model_module": "@jupyter-widgets/base",
     "model_module_version": "1.2.0",
     "model_name": "LayoutModel",
     "state": {
      "_model_module": "@jupyter-widgets/base",
      "_model_module_version": "1.2.0",
      "_model_name": "LayoutModel",
      "_view_count": null,
      "_view_module": "@jupyter-widgets/base",
      "_view_module_version": "1.2.0",
      "_view_name": "LayoutView",
      "align_content": null,
      "align_items": null,
      "align_self": null,
      "border": null,
      "bottom": null,
      "display": null,
      "flex": null,
      "flex_flow": null,
      "grid_area": null,
      "grid_auto_columns": null,
      "grid_auto_flow": null,
      "grid_auto_rows": null,
      "grid_column": null,
      "grid_gap": null,
      "grid_row": null,
      "grid_template_areas": null,
      "grid_template_columns": null,
      "grid_template_rows": null,
      "height": null,
      "justify_content": null,
      "justify_items": null,
      "left": null,
      "margin": null,
      "max_height": null,
      "max_width": null,
      "min_height": null,
      "min_width": null,
      "object_fit": null,
      "object_position": null,
      "order": null,
      "overflow": null,
      "overflow_x": null,
      "overflow_y": null,
      "padding": null,
      "right": null,
      "top": null,
      "visibility": null,
      "width": null
     }
    },
    "f6f808a1c6384cfca4b83a83dd74fa94": {
     "model_module": "@jupyter-widgets/controls",
     "model_module_version": "1.5.0",
     "model_name": "ProgressStyleModel",
     "state": {
      "_model_module": "@jupyter-widgets/controls",
      "_model_module_version": "1.5.0",
      "_model_name": "ProgressStyleModel",
      "_view_count": null,
      "_view_module": "@jupyter-widgets/base",
      "_view_module_version": "1.2.0",
      "_view_name": "StyleView",
      "bar_color": null,
      "description_width": ""
     }
    },
    "fd711639f5d945c7bba79c069dd7aa85": {
     "model_module": "@jupyter-widgets/controls",
     "model_module_version": "1.5.0",
     "model_name": "HTMLModel",
     "state": {
      "_dom_classes": [],
      "_model_module": "@jupyter-widgets/controls",
      "_model_module_version": "1.5.0",
      "_model_name": "HTMLModel",
      "_view_count": null,
      "_view_module": "@jupyter-widgets/controls",
      "_view_module_version": "1.5.0",
      "_view_name": "HTMLView",
      "description": "",
      "description_tooltip": null,
      "layout": "IPY_MODEL_15e79e5ac69c4967a1da6e7cebbd52de",
      "placeholder": "​",
      "style": "IPY_MODEL_60d7ff21a4ed4427a64c62bf1a1de339",
      "value": " 347M/347M [00:02&lt;00:00, 217MB/s]"
     }
    }
   }
  }
 },
 "nbformat": 4,
 "nbformat_minor": 0
}
