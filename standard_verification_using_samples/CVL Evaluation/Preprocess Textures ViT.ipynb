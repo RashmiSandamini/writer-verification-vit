{
 "cells": [
  {
   "cell_type": "code",
   "execution_count": null,
   "metadata": {
    "executionInfo": {
     "elapsed": 5946,
     "status": "ok",
     "timestamp": 1753244726350,
     "user": {
      "displayName": "MDR Sandamini",
      "userId": "14130589177191734805"
     },
     "user_tz": -330
    },
    "id": "lovN1KMJlSgm"
   },
   "outputs": [],
   "source": [
    "import os\n",
    "import torch\n",
    "from PIL import Image\n",
    "from torchvision import transforms\n",
    "import gdown\n",
    "import zipfile"
   ]
  },
  {
   "cell_type": "code",
   "execution_count": null,
   "metadata": {
    "colab": {
     "base_uri": "https://localhost:8080/"
    },
    "executionInfo": {
     "elapsed": 5601,
     "status": "ok",
     "timestamp": 1753244731957,
     "user": {
      "displayName": "MDR Sandamini",
      "userId": "14130589177191734805"
     },
     "user_tz": -330
    },
    "id": "-j1_-XKuli1J",
    "outputId": "d8c59c8f-66c6-4921-8d8c-2da7a4b0f4dc"
   },
   "outputs": [],
   "source": [
    "file_id = \"file_id\"\n",
    "gdown.download(f\"https://drive.google.com/uc?id={file_id}\", \"texture_cvl_before.zip\", quiet=False)\n",
    "with zipfile.ZipFile(\"texture_cvl_before.zip\", 'r') as zip_ref:\n",
    "    zip_ref.extractall(\"texture_cvl_before\")"
   ]
  },
  {
   "cell_type": "code",
   "execution_count": null,
   "metadata": {
    "colab": {
     "base_uri": "https://localhost:8080/"
    },
    "collapsed": true,
    "executionInfo": {
     "elapsed": 111738,
     "status": "ok",
     "timestamp": 1753244843701,
     "user": {
      "displayName": "MDR Sandamini",
      "userId": "14130589177191734805"
     },
     "user_tz": -330
    },
    "id": "0m_lgOUnmZiI",
    "outputId": "a8f76e55-a007-47cf-8f32-ad49bac50d00"
   },
   "outputs": [],
   "source": [
    "CVL_SRC = \"texture_cvl_before\"\n",
    "PRE_CVL = \"texture_cvl\"\n",
    "IMG_SIZE = (384, 384)\n",
    "\n",
    "transform = transforms.Compose([\n",
    "    transforms.Resize(IMG_SIZE),\n",
    "    transforms.Grayscale(num_output_channels=3),\n",
    "    transforms.ToTensor(),\n",
    "    transforms.Normalize(mean=(0.5, 0.5, 0.5),\n",
    "                         std =(0.5, 0.5, 0.5)),\n",
    "])\n",
    "\n",
    "def process_and_save(src_root, dst_root):\n",
    "\n",
    "    for root, _, files in os.walk(src_root):\n",
    "        for fname in files:\n",
    "            if not fname.lower().endswith(('.png', '.jpg', '.jpeg')):\n",
    "                continue\n",
    "\n",
    "            rel_dir = os.path.relpath(root, src_root)\n",
    "            dst_dir = os.path.join(dst_root, rel_dir)\n",
    "            os.makedirs(dst_dir, exist_ok=True)\n",
    "\n",
    "            base, _ = os.path.splitext(fname)\n",
    "            src_path = os.path.join(root, fname)\n",
    "            dst_path = os.path.join(dst_dir, base + \".pt\")\n",
    "\n",
    "            try:\n",
    "                img = Image.open(src_path)\n",
    "                tensor = transform(img)\n",
    "                torch.save(tensor, dst_path)\n",
    "                print(f\"Saved: {dst_path}\")\n",
    "            except Exception as e:\n",
    "                print(f\"Error processing {src_path}: {e}\")\n",
    "\n",
    "process_and_save(CVL_SRC, PRE_CVL)"
   ]
  },
  {
   "cell_type": "code",
   "execution_count": null,
   "metadata": {
    "colab": {
     "base_uri": "https://localhost:8080/"
    },
    "collapsed": true,
    "executionInfo": {
     "elapsed": 239799,
     "status": "ok",
     "timestamp": 1753245083522,
     "user": {
      "displayName": "MDR Sandamini",
      "userId": "14130589177191734805"
     },
     "user_tz": -330
    },
    "id": "ZHfS3nw4pwde",
    "outputId": "62091147-f312-45af-a586-55299999d58c"
   },
   "outputs": [],
   "source": [
    "!zip -r texture_cvl.zip texture_cvl"
   ]
  },
  {
   "cell_type": "code",
   "execution_count": null,
   "metadata": {
    "colab": {
     "base_uri": "https://localhost:8080/"
    },
    "executionInfo": {
     "elapsed": 41520,
     "status": "ok",
     "timestamp": 1753245132604,
     "user": {
      "displayName": "MDR Sandamini",
      "userId": "14130589177191734805"
     },
     "user_tz": -330
    },
    "id": "A2ESbZirqYWF",
    "outputId": "e8347f4d-56dd-4691-a77c-1a0c88cb0d51"
   },
   "outputs": [],
   "source": [
    "from google.colab import drive\n",
    "drive.mount('/content/drive')\n",
    "\n",
    "target_directory = \"/content/drive/MyDrive/PATH\"\n",
    "!cp texture_cvl.zip \"{target_directory}/\""
   ]
  }
 ],
 "metadata": {
  "colab": {
   "provenance": []
  },
  "kernelspec": {
   "display_name": "Python 3",
   "name": "python3"
  },
  "language_info": {
   "name": "python"
  }
 },
 "nbformat": 4,
 "nbformat_minor": 0
}
