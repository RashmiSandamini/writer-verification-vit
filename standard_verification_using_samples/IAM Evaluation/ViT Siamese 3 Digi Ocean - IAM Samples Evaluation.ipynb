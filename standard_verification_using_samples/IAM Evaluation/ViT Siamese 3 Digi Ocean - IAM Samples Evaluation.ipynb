{
 "cells": [
  {
   "cell_type": "code",
   "execution_count": null,
   "metadata": {
    "colab": {
     "base_uri": "https://localhost:8080/"
    },
    "collapsed": true,
    "executionInfo": {
     "elapsed": 76569,
     "status": "ok",
     "timestamp": 1753250919967,
     "user": {
      "displayName": "Hikari Research",
      "userId": "13771564110195447892"
     },
     "user_tz": -330
    },
    "id": "ndc5WBXQ03Di",
    "outputId": "584fb1d2-08d5-4c5e-ebc7-69b1cb75934b"
   },
   "outputs": [],
   "source": [
    "!pip install torch torchvision transformers\n",
    "!pip install torchmetrics"
   ]
  },
  {
   "cell_type": "code",
   "execution_count": null,
   "metadata": {
    "colab": {
     "base_uri": "https://localhost:8080/"
    },
    "executionInfo": {
     "elapsed": 16555,
     "status": "ok",
     "timestamp": 1753250936525,
     "user": {
      "displayName": "Hikari Research",
      "userId": "13771564110195447892"
     },
     "user_tz": -330
    },
    "id": "gPCFqzOBAULj",
    "outputId": "b94f309f-4891-4d9b-e49a-35119c4b458d"
   },
   "outputs": [],
   "source": [
    "import torch\n",
    "import torch.nn as nn\n",
    "import torch.nn.functional as F\n",
    "from torch.utils.data import Dataset, DataLoader\n",
    "from transformers import ViTModel, ViTConfig\n",
    "import pandas as pd\n",
    "import os\n",
    "import numpy as np\n",
    "import gdown\n",
    "import zipfile\n",
    "from tqdm import tqdm\n",
    "from sklearn.metrics import accuracy_score, precision_recall_fscore_support, roc_auc_score,roc_curve\n",
    "\n",
    "BASE_DIR = \"Data_V9_ViT\"\n",
    "scaler = torch.amp.GradScaler('cuda')\n",
    "device = torch.device(\"cuda\" if torch.cuda.is_available() else \"cpu\")\n",
    "print(\"Using device:\", device)"
   ]
  },
  {
   "cell_type": "code",
   "execution_count": null,
   "metadata": {
    "colab": {
     "base_uri": "https://localhost:8080/"
    },
    "executionInfo": {
     "elapsed": 49945,
     "status": "ok",
     "timestamp": 1753250986474,
     "user": {
      "displayName": "Hikari Research",
      "userId": "13771564110195447892"
     },
     "user_tz": -330
    },
    "id": "ECr6uDA81qh0",
    "outputId": "2ed1d99e-1b0b-4687-8880-4d8442306ba1"
   },
   "outputs": [],
   "source": [
    "file_id = \"file_id\"\n",
    "gdown.download(f\"https://drive.google.com/uc?id={file_id}\", \"texture_iam.zip\", quiet=False)\n",
    "with zipfile.ZipFile(\"texture_iam.zip\", 'r') as zip_ref:\n",
    "    zip_ref.extractall(\"\")"
   ]
  },
  {
   "cell_type": "code",
   "execution_count": null,
   "metadata": {
    "id": "mkdgxYF2AAIt"
   },
   "outputs": [],
   "source": [
    "class LoadDataset(Dataset):\n",
    "    def __init__(self, parquet_path, base_dir=BASE_DIR):\n",
    "        super().__init__()\n",
    "        self.df = pd.read_parquet(parquet_path)\n",
    "        # self.base_dir = base_dir.rstrip(\"/\")\n",
    "\n",
    "    def __len__(self):\n",
    "        return len(self.df)\n",
    "\n",
    "    def __getitem__(self, idx):\n",
    "        row = self.df.iloc[idx]\n",
    "        label = float(row[\"label\"])\n",
    "        label_tensor = torch.tensor(label, dtype=torch.float32).unsqueeze(0)\n",
    "\n",
    "        dummy = torch.zeros(1)\n",
    "        return dummy, dummy, label_tensor, str(row[\"sample_1\"]), str(row[\"sample_2\"])"
   ]
  },
  {
   "cell_type": "code",
   "execution_count": null,
   "metadata": {
    "colab": {
     "base_uri": "https://localhost:8080/",
     "height": 247,
     "referenced_widgets": [
      "17151f49bf9f4422be5dcd926167426b",
      "979b01d5ed4f45af98ae1c43e45dbd22",
      "f9d343aacc9e456592b758c3003149bf",
      "302634c671b64fe29bd7334492b8a880",
      "ca4a43c81a574c5ebb12b4b7d476a3ab",
      "386f4f470b184e67a93cb88627ed98ac",
      "5465330072e2461dacd5346d7b46ed27",
      "6d11807bcd9342a5ab230f2a93730f72",
      "ca6800c2d1db4174ba5129f2c4bb470c",
      "9a4b763e021f40d0b458eac8d34738ee",
      "07ed62c592d14ffead8794428b0bb25e",
      "2e2db0ce4561436383a7ef8db8f35dc4",
      "b748cc60a7034eddb115bf4e09de51c8",
      "fbbcd738da7549c58706e6b5c37edfcd",
      "c5d435e7b2af47189f9f4cf5c35d2d41",
      "cd68f9bc804344bb9c93d49234ad64e1",
      "59f95c3074064c0688f6a06709561c22",
      "394a91480a2e43e0bec1f41a4ff3241f",
      "e8e5ab73746b490dadf9bd6d293ba85d",
      "ac5bec0a05ce438daf0b2b61890480d3",
      "b7cb0ce54192458aa686897dbce1562b",
      "90a87f14610c420aa594db0e56753473"
     ]
    },
    "executionInfo": {
     "elapsed": 3297,
     "status": "ok",
     "timestamp": 1753250989796,
     "user": {
      "displayName": "Hikari Research",
      "userId": "13771564110195447892"
     },
     "user_tz": -330
    },
    "id": "6JPlj9AWusbq",
    "outputId": "495190e6-9320-499a-8768-9207482ac057"
   },
   "outputs": [],
   "source": [
    "vit_name = \"google/vit-base-patch16-384\"\n",
    "config = ViTConfig.from_pretrained(vit_name)\n",
    "vit_backbone = ViTModel.from_pretrained(vit_name, config=config).to(device)\n",
    "\n",
    "for param in vit_backbone.embeddings.parameters():\n",
    "    param.requires_grad = False\n",
    "\n",
    "for i in range(6):\n",
    "    for param in vit_backbone.encoder.layer[i].parameters():\n",
    "        param.requires_grad = False\n"
   ]
  },
  {
   "cell_type": "code",
   "execution_count": null,
   "metadata": {
    "id": "UkA1I9e7yzku"
   },
   "outputs": [],
   "source": [
    "class ViTEmbedder(nn.Module):\n",
    "    def __init__(self, vit_model):\n",
    "        super().__init__()\n",
    "        self.vit = vit_model\n",
    "\n",
    "    def forward(self, x):\n",
    "        outputs = self.vit(pixel_values=x)   \n",
    "        return outputs.pooler_output          \n",
    "\n",
    "vit_embedder = ViTEmbedder(vit_backbone).to(device)"
   ]
  },
  {
   "cell_type": "code",
   "execution_count": null,
   "metadata": {
    "id": "BN0MmN3XOKzW"
   },
   "outputs": [],
   "source": [
    "class ProjectionHead(nn.Module):\n",
    "    def __init__(self, in_dim=768, hidden_dims=[1024, 512, 256], dropout=0.1):\n",
    "        super().__init__()\n",
    "        layers = []\n",
    "        prev = in_dim\n",
    "        for h in hidden_dims:\n",
    "            layers += [\n",
    "                nn.Linear(prev, h),\n",
    "                nn.LayerNorm(h),\n",
    "                nn.GELU(),\n",
    "            ]\n",
    "            prev = h\n",
    "        self.net = nn.Sequential(*layers)\n",
    "\n",
    "    def forward(self, x):\n",
    "        z = self.net(x)          \n",
    "        return F.normalize(z, p=2, dim=1)\n",
    "\n",
    "proj_head = ProjectionHead(\n",
    "    in_dim=768,\n",
    "    hidden_dims=[512, 256, 128],\n",
    "    dropout=0.1\n",
    ").to(device)"
   ]
  },
  {
   "cell_type": "code",
   "execution_count": null,
   "metadata": {
    "id": "rS4wyUhg3gk0"
   },
   "outputs": [],
   "source": [
    "class EuclideanDistance(nn.Module):\n",
    "    def __init__(self, eps: float = 1e-7):\n",
    "        super().__init__()\n",
    "        self.eps = eps\n",
    "\n",
    "    def forward(self, x: torch.Tensor, y: torch.Tensor) -> torch.Tensor:\n",
    "        diff_sq = (x - y).pow(2)\n",
    "        sum_sq = diff_sq.sum(dim=1, keepdim=True)\n",
    "        sum_sq = torch.clamp(sum_sq, min=self.eps)\n",
    "        return torch.sqrt(sum_sq)"
   ]
  },
  {
   "cell_type": "code",
   "execution_count": null,
   "metadata": {
    "id": "qe--YAqC3stO"
   },
   "outputs": [],
   "source": [
    "class SiameseViT(nn.Module):\n",
    "    def __init__(self, embedder, head):\n",
    "        super().__init__()\n",
    "        self.embedder = embedder\n",
    "        self.head = head\n",
    "        self.distance = EuclideanDistance()\n",
    "\n",
    "    def forward_once(self, img):\n",
    "        cls_emb = self.embedder(img)\n",
    "        emb256 = self.head(cls_emb)\n",
    "        return emb256\n",
    "\n",
    "    def forward(self, img_a, img_b):\n",
    "        emb_a = self.forward_once(img_a)\n",
    "        emb_b = self.forward_once(img_b)\n",
    "        dist = self.distance(emb_a, emb_b)\n",
    "        return dist\n",
    "\n",
    "siamese_model = SiameseViT(vit_embedder, proj_head).to(device)"
   ]
  },
  {
   "cell_type": "code",
   "execution_count": null,
   "metadata": {
    "id": "-UMZ525h4F1o"
   },
   "outputs": [],
   "source": [
    "class ContrastiveLoss(nn.Module):\n",
    "    def __init__(self, margin=1.0):\n",
    "        super().__init__()\n",
    "        self.margin = margin\n",
    "\n",
    "    def forward(self, dist, label):\n",
    "\n",
    "        label = label.view(-1, 1)  \n",
    "        pos_loss = (1.0 - label) * torch.pow(dist, 2)\n",
    "        neg_loss = label * torch.pow(torch.clamp(self.margin - dist, min=0.0), 2)\n",
    "        loss = torch.mean(pos_loss + neg_loss)\n",
    "        return loss\n",
    "\n",
    "criterion = ContrastiveLoss(margin=1.0).to(device)"
   ]
  },
  {
   "cell_type": "markdown",
   "metadata": {
    "id": "NUjmjaJDIlCe"
   },
   "source": [
    "## Averaging Section\n"
   ]
  },
  {
   "cell_type": "code",
   "execution_count": null,
   "metadata": {
    "id": "Y1GnSgMPIn9q"
   },
   "outputs": [],
   "source": [
    "def load_and_average_textures(folder_path, model, device):\n",
    "    texture_files = sorted([\n",
    "        f for f in os.listdir(folder_path) if f.endswith(\".pt\")\n",
    "    ])\n",
    "    embeddings = []\n",
    "    with torch.no_grad():\n",
    "        for tf in texture_files:\n",
    "            tensor = torch.load(os.path.join(folder_path, tf)).unsqueeze(0).to(device)\n",
    "            emb = model.forward_once(tensor) \n",
    "            embeddings.append(emb.squeeze(0)) \n",
    "    avg_embedding = torch.stack(embeddings).mean(dim=0) \n",
    "    return avg_embedding\n"
   ]
  },
  {
   "cell_type": "code",
   "execution_count": null,
   "metadata": {
    "id": "Rbu34IT6LLq9"
   },
   "outputs": [],
   "source": [
    "def collect_scores(model, loader, device, texture_root):\n",
    "    model.eval()\n",
    "    all_scores = []\n",
    "    all_labels = []\n",
    "    all_pairs = []\n",
    "\n",
    "    with torch.no_grad():\n",
    "        for _, _, label, name1_list, name2_list in tqdm(loader, desc=\"Collecting Scores\"):\n",
    "            label = label.to(device)\n",
    "\n",
    "            # name1, name2 are paths like W001/S01_N/W001_S01_N\n",
    "            for name1, name2, lbl in zip(name1_list, name2_list, label):\n",
    "              sample_1 = name1.split('_')[0]\n",
    "              sample_2 = name2.split('_')[0]\n",
    "              folder1 = os.path.join(texture_root, sample_1, name1)\n",
    "              folder2 = os.path.join(texture_root, sample_2, name2)\n",
    "\n",
    "              emb1 = load_and_average_textures(folder1, model, device)\n",
    "              emb2 = load_and_average_textures(folder2, model, device)\n",
    "\n",
    "              dist = torch.norm(emb1 - emb2, p=2).unsqueeze(0)\n",
    "\n",
    "              all_scores.append(dist)\n",
    "              all_labels.append(lbl.view(-1))\n",
    "              all_pairs.append((name1, name2))\n",
    "\n",
    "    all_scores = torch.cat(all_scores).cpu().numpy()\n",
    "    all_labels = torch.cat(all_labels).cpu().numpy().astype(int)\n",
    "\n",
    "    return all_scores, all_labels, all_pairs\n"
   ]
  },
  {
   "cell_type": "markdown",
   "metadata": {
    "id": "_vKi07bR5d9n"
   },
   "source": [
    "## Evaluating Section"
   ]
  },
  {
   "cell_type": "code",
   "execution_count": null,
   "metadata": {
    "colab": {
     "base_uri": "https://localhost:8080/",
     "height": 127
    },
    "executionInfo": {
     "elapsed": 5103,
     "status": "ok",
     "timestamp": 1753250995018,
     "user": {
      "displayName": "Hikari Research",
      "userId": "13771564110195447892"
     },
     "user_tz": -330
    },
    "id": "j2IlkruS1vg7",
    "outputId": "464de534-9356-48e6-a3d9-6308fb59c9f2"
   },
   "outputs": [],
   "source": [
    "file_id = \"1ASQuT-LU5H1f_ydTrytQ-f5k8l-C7-yw\"\n",
    "gdown.download(f\"https://drive.google.com/uc?id={file_id}\", \"best_model.pt\", quiet=False)"
   ]
  },
  {
   "cell_type": "code",
   "execution_count": null,
   "metadata": {
    "colab": {
     "base_uri": "https://localhost:8080/",
     "height": 109
    },
    "executionInfo": {
     "elapsed": 1618,
     "status": "ok",
     "timestamp": 1753250996639,
     "user": {
      "displayName": "Hikari Research",
      "userId": "13771564110195447892"
     },
     "user_tz": -330
    },
    "id": "lLiw4O9zJ5fM",
    "outputId": "63f2638f-65a6-4249-f8da-cc656330430f"
   },
   "outputs": [],
   "source": [
    "file_id = \"file_id\"\n",
    "gdown.download(f\"https://drive.google.com/uc?id={file_id}\", \"iam_test.parquet\", quiet=False)"
   ]
  },
  {
   "cell_type": "code",
   "execution_count": null,
   "metadata": {
    "colab": {
     "base_uri": "https://localhost:8080/"
    },
    "executionInfo": {
     "elapsed": 362,
     "status": "ok",
     "timestamp": 1753250997005,
     "user": {
      "displayName": "Hikari Research",
      "userId": "13771564110195447892"
     },
     "user_tz": -330
    },
    "id": "zhk-eSeV1xNm",
    "outputId": "0098ad7f-1553-4c6d-db11-a34411b3a75b"
   },
   "outputs": [],
   "source": [
    "siamese_model = SiameseViT(vit_embedder, proj_head).to(device)\n",
    "siamese_model.load_state_dict(torch.load(\"best_model.pt\", map_location=device))"
   ]
  },
  {
   "cell_type": "code",
   "execution_count": null,
   "metadata": {
    "id": "t3wZhaw710Wk"
   },
   "outputs": [],
   "source": [
    "BATCH_SIZE_VAL = 512\n",
    "\n",
    "test_dataset = LoadDataset(\n",
    "    parquet_path=\"iam_test.parquet\"\n",
    ")\n",
    "\n",
    "test_loader = DataLoader(\n",
    "    test_dataset,\n",
    "    batch_size=BATCH_SIZE_VAL,\n",
    "    shuffle=True,\n",
    "    num_workers=0,\n",
    "    pin_memory=True\n",
    ")"
   ]
  },
  {
   "cell_type": "code",
   "execution_count": null,
   "metadata": {
    "id": "ld_jscKiYleH"
   },
   "outputs": [],
   "source": [
    "thresholds = {\n",
    "    'eer': 0.7371158,\n",
    "    'f1': 0.72520995,\n",
    "    'bf': 0.7593953\n",
    "}"
   ]
  },
  {
   "cell_type": "code",
   "execution_count": null,
   "metadata": {
    "colab": {
     "base_uri": "https://localhost:8080/"
    },
    "executionInfo": {
     "elapsed": 442100,
     "status": "ok",
     "timestamp": 1753251439368,
     "user": {
      "displayName": "Hikari Research",
      "userId": "13771564110195447892"
     },
     "user_tz": -330
    },
    "id": "_00RJpB518Ia",
    "outputId": "f85fb224-36cb-431f-b76a-783fa4b080c6"
   },
   "outputs": [],
   "source": [
    "test_scores, test_labels, sample_pairs = collect_scores(siamese_model, test_loader, device, \"texture_iam\")\n",
    "\n",
    "def compute_far_frr(y_true, y_pred):\n",
    "    tn, fp, fn, tp = confusion_matrix(y_true, y_pred, labels=[1, 0]).ravel()\n",
    "    far = fp / (fp + tn) if (fp + tn) > 0 else 0.0\n",
    "    frr = fn / (fn + tp) if (fn + tp) > 0 else 0.0\n",
    "    return far, frr\n",
    "\n",
    "for name, thr in thresholds.items():\n",
    "    preds = (test_scores >= thr).astype(int)\n",
    "    acc   = accuracy_score(test_labels, preds)\n",
    "    prec, rec, f1, _ = precision_recall_fscore_support(test_labels, preds, average=\"binary\")\n",
    "    auc  = roc_auc_score(test_labels, test_scores)\n",
    "    fpr, tpr, thresholdss = roc_curve(test_labels, test_scores)\n",
    "    fnr = 1 - tpr\n",
    "    eer_threshold_idx = np.argmin(np.abs(fpr - fnr))\n",
    "    eer = (fpr[eer_threshold_idx] + fnr[eer_threshold_idx]) / 2\n",
    "    eer_threshold = thresholdss[eer_threshold_idx]\n",
    "    far, frr = compute_far_frr(test_labels, preds)\n",
    "\n",
    "    print(f\"\\nThreshold used     : {name}\")\n",
    "    print(f\"Threshold value    : {thr:.3f}\")\n",
    "    print(f\"ROC-AUC            : {auc:.4f}\")\n",
    "    print(f\"Accuracy           : {acc:.4f}\")\n",
    "    print(f\"Precision          : {prec:.4f}\")\n",
    "    print(f\"Recall             : {rec:.4f}\")\n",
    "    print(f\"F1-score           : {f1:.4f}\")\n",
    "    print(f\"EER                : {eer:.4f}\")\n",
    "    print(f\"FAR                : {far:.4f}\")\n",
    "    print(f\"FRR                : {frr:.4f}\")"
   ]
  }
 ],
 "metadata": {
  "accelerator": "GPU",
  "colab": {
   "gpuType": "A100",
   "machine_shape": "hm",
   "provenance": []
  },
  "kernelspec": {
   "display_name": "Python 3",
   "name": "python3"
  },
  "language_info": {
   "codemirror_mode": {
    "name": "ipython",
    "version": 3
   },
   "file_extension": ".py",
   "mimetype": "text/x-python",
   "name": "python",
   "nbconvert_exporter": "python",
   "pygments_lexer": "ipython3",
   "version": "3.12.7"
  },
  "widgets": {
   "application/vnd.jupyter.widget-state+json": {
    "07ed62c592d14ffead8794428b0bb25e": {
     "model_module": "@jupyter-widgets/controls",
     "model_module_version": "1.5.0",
     "model_name": "DescriptionStyleModel",
     "state": {
      "_model_module": "@jupyter-widgets/controls",
      "_model_module_version": "1.5.0",
      "_model_name": "DescriptionStyleModel",
      "_view_count": null,
      "_view_module": "@jupyter-widgets/base",
      "_view_module_version": "1.2.0",
      "_view_name": "StyleView",
      "description_width": ""
     }
    },
    "17151f49bf9f4422be5dcd926167426b": {
     "model_module": "@jupyter-widgets/controls",
     "model_module_version": "1.5.0",
     "model_name": "HBoxModel",
     "state": {
      "_dom_classes": [],
      "_model_module": "@jupyter-widgets/controls",
      "_model_module_version": "1.5.0",
      "_model_name": "HBoxModel",
      "_view_count": null,
      "_view_module": "@jupyter-widgets/controls",
      "_view_module_version": "1.5.0",
      "_view_name": "HBoxView",
      "box_style": "",
      "children": [
       "IPY_MODEL_979b01d5ed4f45af98ae1c43e45dbd22",
       "IPY_MODEL_f9d343aacc9e456592b758c3003149bf",
       "IPY_MODEL_302634c671b64fe29bd7334492b8a880"
      ],
      "layout": "IPY_MODEL_ca4a43c81a574c5ebb12b4b7d476a3ab"
     }
    },
    "2e2db0ce4561436383a7ef8db8f35dc4": {
     "model_module": "@jupyter-widgets/controls",
     "model_module_version": "1.5.0",
     "model_name": "HBoxModel",
     "state": {
      "_dom_classes": [],
      "_model_module": "@jupyter-widgets/controls",
      "_model_module_version": "1.5.0",
      "_model_name": "HBoxModel",
      "_view_count": null,
      "_view_module": "@jupyter-widgets/controls",
      "_view_module_version": "1.5.0",
      "_view_name": "HBoxView",
      "box_style": "",
      "children": [
       "IPY_MODEL_b748cc60a7034eddb115bf4e09de51c8",
       "IPY_MODEL_fbbcd738da7549c58706e6b5c37edfcd",
       "IPY_MODEL_c5d435e7b2af47189f9f4cf5c35d2d41"
      ],
      "layout": "IPY_MODEL_cd68f9bc804344bb9c93d49234ad64e1"
     }
    },
    "302634c671b64fe29bd7334492b8a880": {
     "model_module": "@jupyter-widgets/controls",
     "model_module_version": "1.5.0",
     "model_name": "HTMLModel",
     "state": {
      "_dom_classes": [],
      "_model_module": "@jupyter-widgets/controls",
      "_model_module_version": "1.5.0",
      "_model_name": "HTMLModel",
      "_view_count": null,
      "_view_module": "@jupyter-widgets/controls",
      "_view_module_version": "1.5.0",
      "_view_name": "HTMLView",
      "description": "",
      "description_tooltip": null,
      "layout": "IPY_MODEL_9a4b763e021f40d0b458eac8d34738ee",
      "placeholder": "​",
      "style": "IPY_MODEL_07ed62c592d14ffead8794428b0bb25e",
      "value": " 69.7k/? [00:00&lt;00:00, 7.13MB/s]"
     }
    },
    "386f4f470b184e67a93cb88627ed98ac": {
     "model_module": "@jupyter-widgets/base",
     "model_module_version": "1.2.0",
     "model_name": "LayoutModel",
     "state": {
      "_model_module": "@jupyter-widgets/base",
      "_model_module_version": "1.2.0",
      "_model_name": "LayoutModel",
      "_view_count": null,
      "_view_module": "@jupyter-widgets/base",
      "_view_module_version": "1.2.0",
      "_view_name": "LayoutView",
      "align_content": null,
      "align_items": null,
      "align_self": null,
      "border": null,
      "bottom": null,
      "display": null,
      "flex": null,
      "flex_flow": null,
      "grid_area": null,
      "grid_auto_columns": null,
      "grid_auto_flow": null,
      "grid_auto_rows": null,
      "grid_column": null,
      "grid_gap": null,
      "grid_row": null,
      "grid_template_areas": null,
      "grid_template_columns": null,
      "grid_template_rows": null,
      "height": null,
      "justify_content": null,
      "justify_items": null,
      "left": null,
      "margin": null,
      "max_height": null,
      "max_width": null,
      "min_height": null,
      "min_width": null,
      "object_fit": null,
      "object_position": null,
      "order": null,
      "overflow": null,
      "overflow_x": null,
      "overflow_y": null,
      "padding": null,
      "right": null,
      "top": null,
      "visibility": null,
      "width": null
     }
    },
    "394a91480a2e43e0bec1f41a4ff3241f": {
     "model_module": "@jupyter-widgets/controls",
     "model_module_version": "1.5.0",
     "model_name": "DescriptionStyleModel",
     "state": {
      "_model_module": "@jupyter-widgets/controls",
      "_model_module_version": "1.5.0",
      "_model_name": "DescriptionStyleModel",
      "_view_count": null,
      "_view_module": "@jupyter-widgets/base",
      "_view_module_version": "1.2.0",
      "_view_name": "StyleView",
      "description_width": ""
     }
    },
    "5465330072e2461dacd5346d7b46ed27": {
     "model_module": "@jupyter-widgets/controls",
     "model_module_version": "1.5.0",
     "model_name": "DescriptionStyleModel",
     "state": {
      "_model_module": "@jupyter-widgets/controls",
      "_model_module_version": "1.5.0",
      "_model_name": "DescriptionStyleModel",
      "_view_count": null,
      "_view_module": "@jupyter-widgets/base",
      "_view_module_version": "1.2.0",
      "_view_name": "StyleView",
      "description_width": ""
     }
    },
    "59f95c3074064c0688f6a06709561c22": {
     "model_module": "@jupyter-widgets/base",
     "model_module_version": "1.2.0",
     "model_name": "LayoutModel",
     "state": {
      "_model_module": "@jupyter-widgets/base",
      "_model_module_version": "1.2.0",
      "_model_name": "LayoutModel",
      "_view_count": null,
      "_view_module": "@jupyter-widgets/base",
      "_view_module_version": "1.2.0",
      "_view_name": "LayoutView",
      "align_content": null,
      "align_items": null,
      "align_self": null,
      "border": null,
      "bottom": null,
      "display": null,
      "flex": null,
      "flex_flow": null,
      "grid_area": null,
      "grid_auto_columns": null,
      "grid_auto_flow": null,
      "grid_auto_rows": null,
      "grid_column": null,
      "grid_gap": null,
      "grid_row": null,
      "grid_template_areas": null,
      "grid_template_columns": null,
      "grid_template_rows": null,
      "height": null,
      "justify_content": null,
      "justify_items": null,
      "left": null,
      "margin": null,
      "max_height": null,
      "max_width": null,
      "min_height": null,
      "min_width": null,
      "object_fit": null,
      "object_position": null,
      "order": null,
      "overflow": null,
      "overflow_x": null,
      "overflow_y": null,
      "padding": null,
      "right": null,
      "top": null,
      "visibility": null,
      "width": null
     }
    },
    "6d11807bcd9342a5ab230f2a93730f72": {
     "model_module": "@jupyter-widgets/base",
     "model_module_version": "1.2.0",
     "model_name": "LayoutModel",
     "state": {
      "_model_module": "@jupyter-widgets/base",
      "_model_module_version": "1.2.0",
      "_model_name": "LayoutModel",
      "_view_count": null,
      "_view_module": "@jupyter-widgets/base",
      "_view_module_version": "1.2.0",
      "_view_name": "LayoutView",
      "align_content": null,
      "align_items": null,
      "align_self": null,
      "border": null,
      "bottom": null,
      "display": null,
      "flex": null,
      "flex_flow": null,
      "grid_area": null,
      "grid_auto_columns": null,
      "grid_auto_flow": null,
      "grid_auto_rows": null,
      "grid_column": null,
      "grid_gap": null,
      "grid_row": null,
      "grid_template_areas": null,
      "grid_template_columns": null,
      "grid_template_rows": null,
      "height": null,
      "justify_content": null,
      "justify_items": null,
      "left": null,
      "margin": null,
      "max_height": null,
      "max_width": null,
      "min_height": null,
      "min_width": null,
      "object_fit": null,
      "object_position": null,
      "order": null,
      "overflow": null,
      "overflow_x": null,
      "overflow_y": null,
      "padding": null,
      "right": null,
      "top": null,
      "visibility": null,
      "width": "20px"
     }
    },
    "90a87f14610c420aa594db0e56753473": {
     "model_module": "@jupyter-widgets/controls",
     "model_module_version": "1.5.0",
     "model_name": "DescriptionStyleModel",
     "state": {
      "_model_module": "@jupyter-widgets/controls",
      "_model_module_version": "1.5.0",
      "_model_name": "DescriptionStyleModel",
      "_view_count": null,
      "_view_module": "@jupyter-widgets/base",
      "_view_module_version": "1.2.0",
      "_view_name": "StyleView",
      "description_width": ""
     }
    },
    "979b01d5ed4f45af98ae1c43e45dbd22": {
     "model_module": "@jupyter-widgets/controls",
     "model_module_version": "1.5.0",
     "model_name": "HTMLModel",
     "state": {
      "_dom_classes": [],
      "_model_module": "@jupyter-widgets/controls",
      "_model_module_version": "1.5.0",
      "_model_name": "HTMLModel",
      "_view_count": null,
      "_view_module": "@jupyter-widgets/controls",
      "_view_module_version": "1.5.0",
      "_view_name": "HTMLView",
      "description": "",
      "description_tooltip": null,
      "layout": "IPY_MODEL_386f4f470b184e67a93cb88627ed98ac",
      "placeholder": "​",
      "style": "IPY_MODEL_5465330072e2461dacd5346d7b46ed27",
      "value": "config.json: "
     }
    },
    "9a4b763e021f40d0b458eac8d34738ee": {
     "model_module": "@jupyter-widgets/base",
     "model_module_version": "1.2.0",
     "model_name": "LayoutModel",
     "state": {
      "_model_module": "@jupyter-widgets/base",
      "_model_module_version": "1.2.0",
      "_model_name": "LayoutModel",
      "_view_count": null,
      "_view_module": "@jupyter-widgets/base",
      "_view_module_version": "1.2.0",
      "_view_name": "LayoutView",
      "align_content": null,
      "align_items": null,
      "align_self": null,
      "border": null,
      "bottom": null,
      "display": null,
      "flex": null,
      "flex_flow": null,
      "grid_area": null,
      "grid_auto_columns": null,
      "grid_auto_flow": null,
      "grid_auto_rows": null,
      "grid_column": null,
      "grid_gap": null,
      "grid_row": null,
      "grid_template_areas": null,
      "grid_template_columns": null,
      "grid_template_rows": null,
      "height": null,
      "justify_content": null,
      "justify_items": null,
      "left": null,
      "margin": null,
      "max_height": null,
      "max_width": null,
      "min_height": null,
      "min_width": null,
      "object_fit": null,
      "object_position": null,
      "order": null,
      "overflow": null,
      "overflow_x": null,
      "overflow_y": null,
      "padding": null,
      "right": null,
      "top": null,
      "visibility": null,
      "width": null
     }
    },
    "ac5bec0a05ce438daf0b2b61890480d3": {
     "model_module": "@jupyter-widgets/controls",
     "model_module_version": "1.5.0",
     "model_name": "ProgressStyleModel",
     "state": {
      "_model_module": "@jupyter-widgets/controls",
      "_model_module_version": "1.5.0",
      "_model_name": "ProgressStyleModel",
      "_view_count": null,
      "_view_module": "@jupyter-widgets/base",
      "_view_module_version": "1.2.0",
      "_view_name": "StyleView",
      "bar_color": null,
      "description_width": ""
     }
    },
    "b748cc60a7034eddb115bf4e09de51c8": {
     "model_module": "@jupyter-widgets/controls",
     "model_module_version": "1.5.0",
     "model_name": "HTMLModel",
     "state": {
      "_dom_classes": [],
      "_model_module": "@jupyter-widgets/controls",
      "_model_module_version": "1.5.0",
      "_model_name": "HTMLModel",
      "_view_count": null,
      "_view_module": "@jupyter-widgets/controls",
      "_view_module_version": "1.5.0",
      "_view_name": "HTMLView",
      "description": "",
      "description_tooltip": null,
      "layout": "IPY_MODEL_59f95c3074064c0688f6a06709561c22",
      "placeholder": "​",
      "style": "IPY_MODEL_394a91480a2e43e0bec1f41a4ff3241f",
      "value": "model.safetensors: 100%"
     }
    },
    "b7cb0ce54192458aa686897dbce1562b": {
     "model_module": "@jupyter-widgets/base",
     "model_module_version": "1.2.0",
     "model_name": "LayoutModel",
     "state": {
      "_model_module": "@jupyter-widgets/base",
      "_model_module_version": "1.2.0",
      "_model_name": "LayoutModel",
      "_view_count": null,
      "_view_module": "@jupyter-widgets/base",
      "_view_module_version": "1.2.0",
      "_view_name": "LayoutView",
      "align_content": null,
      "align_items": null,
      "align_self": null,
      "border": null,
      "bottom": null,
      "display": null,
      "flex": null,
      "flex_flow": null,
      "grid_area": null,
      "grid_auto_columns": null,
      "grid_auto_flow": null,
      "grid_auto_rows": null,
      "grid_column": null,
      "grid_gap": null,
      "grid_row": null,
      "grid_template_areas": null,
      "grid_template_columns": null,
      "grid_template_rows": null,
      "height": null,
      "justify_content": null,
      "justify_items": null,
      "left": null,
      "margin": null,
      "max_height": null,
      "max_width": null,
      "min_height": null,
      "min_width": null,
      "object_fit": null,
      "object_position": null,
      "order": null,
      "overflow": null,
      "overflow_x": null,
      "overflow_y": null,
      "padding": null,
      "right": null,
      "top": null,
      "visibility": null,
      "width": null
     }
    },
    "c5d435e7b2af47189f9f4cf5c35d2d41": {
     "model_module": "@jupyter-widgets/controls",
     "model_module_version": "1.5.0",
     "model_name": "HTMLModel",
     "state": {
      "_dom_classes": [],
      "_model_module": "@jupyter-widgets/controls",
      "_model_module_version": "1.5.0",
      "_model_name": "HTMLModel",
      "_view_count": null,
      "_view_module": "@jupyter-widgets/controls",
      "_view_module_version": "1.5.0",
      "_view_name": "HTMLView",
      "description": "",
      "description_tooltip": null,
      "layout": "IPY_MODEL_b7cb0ce54192458aa686897dbce1562b",
      "placeholder": "​",
      "style": "IPY_MODEL_90a87f14610c420aa594db0e56753473",
      "value": " 347M/347M [00:01&lt;00:00, 329MB/s]"
     }
    },
    "ca4a43c81a574c5ebb12b4b7d476a3ab": {
     "model_module": "@jupyter-widgets/base",
     "model_module_version": "1.2.0",
     "model_name": "LayoutModel",
     "state": {
      "_model_module": "@jupyter-widgets/base",
      "_model_module_version": "1.2.0",
      "_model_name": "LayoutModel",
      "_view_count": null,
      "_view_module": "@jupyter-widgets/base",
      "_view_module_version": "1.2.0",
      "_view_name": "LayoutView",
      "align_content": null,
      "align_items": null,
      "align_self": null,
      "border": null,
      "bottom": null,
      "display": null,
      "flex": null,
      "flex_flow": null,
      "grid_area": null,
      "grid_auto_columns": null,
      "grid_auto_flow": null,
      "grid_auto_rows": null,
      "grid_column": null,
      "grid_gap": null,
      "grid_row": null,
      "grid_template_areas": null,
      "grid_template_columns": null,
      "grid_template_rows": null,
      "height": null,
      "justify_content": null,
      "justify_items": null,
      "left": null,
      "margin": null,
      "max_height": null,
      "max_width": null,
      "min_height": null,
      "min_width": null,
      "object_fit": null,
      "object_position": null,
      "order": null,
      "overflow": null,
      "overflow_x": null,
      "overflow_y": null,
      "padding": null,
      "right": null,
      "top": null,
      "visibility": null,
      "width": null
     }
    },
    "ca6800c2d1db4174ba5129f2c4bb470c": {
     "model_module": "@jupyter-widgets/controls",
     "model_module_version": "1.5.0",
     "model_name": "ProgressStyleModel",
     "state": {
      "_model_module": "@jupyter-widgets/controls",
      "_model_module_version": "1.5.0",
      "_model_name": "ProgressStyleModel",
      "_view_count": null,
      "_view_module": "@jupyter-widgets/base",
      "_view_module_version": "1.2.0",
      "_view_name": "StyleView",
      "bar_color": null,
      "description_width": ""
     }
    },
    "cd68f9bc804344bb9c93d49234ad64e1": {
     "model_module": "@jupyter-widgets/base",
     "model_module_version": "1.2.0",
     "model_name": "LayoutModel",
     "state": {
      "_model_module": "@jupyter-widgets/base",
      "_model_module_version": "1.2.0",
      "_model_name": "LayoutModel",
      "_view_count": null,
      "_view_module": "@jupyter-widgets/base",
      "_view_module_version": "1.2.0",
      "_view_name": "LayoutView",
      "align_content": null,
      "align_items": null,
      "align_self": null,
      "border": null,
      "bottom": null,
      "display": null,
      "flex": null,
      "flex_flow": null,
      "grid_area": null,
      "grid_auto_columns": null,
      "grid_auto_flow": null,
      "grid_auto_rows": null,
      "grid_column": null,
      "grid_gap": null,
      "grid_row": null,
      "grid_template_areas": null,
      "grid_template_columns": null,
      "grid_template_rows": null,
      "height": null,
      "justify_content": null,
      "justify_items": null,
      "left": null,
      "margin": null,
      "max_height": null,
      "max_width": null,
      "min_height": null,
      "min_width": null,
      "object_fit": null,
      "object_position": null,
      "order": null,
      "overflow": null,
      "overflow_x": null,
      "overflow_y": null,
      "padding": null,
      "right": null,
      "top": null,
      "visibility": null,
      "width": null
     }
    },
    "e8e5ab73746b490dadf9bd6d293ba85d": {
     "model_module": "@jupyter-widgets/base",
     "model_module_version": "1.2.0",
     "model_name": "LayoutModel",
     "state": {
      "_model_module": "@jupyter-widgets/base",
      "_model_module_version": "1.2.0",
      "_model_name": "LayoutModel",
      "_view_count": null,
      "_view_module": "@jupyter-widgets/base",
      "_view_module_version": "1.2.0",
      "_view_name": "LayoutView",
      "align_content": null,
      "align_items": null,
      "align_self": null,
      "border": null,
      "bottom": null,
      "display": null,
      "flex": null,
      "flex_flow": null,
      "grid_area": null,
      "grid_auto_columns": null,
      "grid_auto_flow": null,
      "grid_auto_rows": null,
      "grid_column": null,
      "grid_gap": null,
      "grid_row": null,
      "grid_template_areas": null,
      "grid_template_columns": null,
      "grid_template_rows": null,
      "height": null,
      "justify_content": null,
      "justify_items": null,
      "left": null,
      "margin": null,
      "max_height": null,
      "max_width": null,
      "min_height": null,
      "min_width": null,
      "object_fit": null,
      "object_position": null,
      "order": null,
      "overflow": null,
      "overflow_x": null,
      "overflow_y": null,
      "padding": null,
      "right": null,
      "top": null,
      "visibility": null,
      "width": null
     }
    },
    "f9d343aacc9e456592b758c3003149bf": {
     "model_module": "@jupyter-widgets/controls",
     "model_module_version": "1.5.0",
     "model_name": "FloatProgressModel",
     "state": {
      "_dom_classes": [],
      "_model_module": "@jupyter-widgets/controls",
      "_model_module_version": "1.5.0",
      "_model_name": "FloatProgressModel",
      "_view_count": null,
      "_view_module": "@jupyter-widgets/controls",
      "_view_module_version": "1.5.0",
      "_view_name": "ProgressView",
      "bar_style": "success",
      "description": "",
      "description_tooltip": null,
      "layout": "IPY_MODEL_6d11807bcd9342a5ab230f2a93730f72",
      "max": 1,
      "min": 0,
      "orientation": "horizontal",
      "style": "IPY_MODEL_ca6800c2d1db4174ba5129f2c4bb470c",
      "value": 1
     }
    },
    "fbbcd738da7549c58706e6b5c37edfcd": {
     "model_module": "@jupyter-widgets/controls",
     "model_module_version": "1.5.0",
     "model_name": "FloatProgressModel",
     "state": {
      "_dom_classes": [],
      "_model_module": "@jupyter-widgets/controls",
      "_model_module_version": "1.5.0",
      "_model_name": "FloatProgressModel",
      "_view_count": null,
      "_view_module": "@jupyter-widgets/controls",
      "_view_module_version": "1.5.0",
      "_view_name": "ProgressView",
      "bar_style": "success",
      "description": "",
      "description_tooltip": null,
      "layout": "IPY_MODEL_e8e5ab73746b490dadf9bd6d293ba85d",
      "max": 347461216,
      "min": 0,
      "orientation": "horizontal",
      "style": "IPY_MODEL_ac5bec0a05ce438daf0b2b61890480d3",
      "value": 347461216
     }
    }
   }
  }
 },
 "nbformat": 4,
 "nbformat_minor": 0
}
