{
 "cells": [
  {
   "cell_type": "code",
   "execution_count": null,
   "metadata": {
    "colab": {
     "base_uri": "https://localhost:8080/"
    },
    "collapsed": true,
    "executionInfo": {
     "elapsed": 81235,
     "status": "ok",
     "timestamp": 1753335951740,
     "user": {
      "displayName": "Hikari Research",
      "userId": "13771564110195447892"
     },
     "user_tz": -330
    },
    "id": "ndc5WBXQ03Di",
    "outputId": "a8d72105-d169-403e-9459-cc444900b7d0"
   },
   "outputs": [],
   "source": [
    "!pip install torch torchvision transformers\n",
    "!pip install torchmetrics"
   ]
  },
  {
   "cell_type": "code",
   "execution_count": null,
   "metadata": {
    "colab": {
     "base_uri": "https://localhost:8080/"
    },
    "executionInfo": {
     "elapsed": 16589,
     "status": "ok",
     "timestamp": 1753335968347,
     "user": {
      "displayName": "Hikari Research",
      "userId": "13771564110195447892"
     },
     "user_tz": -330
    },
    "id": "gPCFqzOBAULj",
    "outputId": "d284efaf-80dd-442b-f56a-74d374df02eb"
   },
   "outputs": [],
   "source": [
    "import torch\n",
    "import torch.nn as nn\n",
    "import torch.nn.functional as F\n",
    "from torch.utils.data import Dataset, DataLoader\n",
    "from transformers import ViTModel, ViTConfig\n",
    "import pandas as pd\n",
    "import os\n",
    "import numpy as np\n",
    "import gdown\n",
    "import zipfile\n",
    "from tqdm import tqdm\n",
    "from sklearn.metrics import accuracy_score, precision_recall_fscore_support, roc_auc_score,roc_curve\n",
    "from sklearn.metrics import confusion_matrix\n",
    "\n",
    "BASE_DIR = \"Data_V9_ViT\"\n",
    "scaler = torch.amp.GradScaler('cuda')\n",
    "device = torch.device(\"cuda\" if torch.cuda.is_available() else \"cpu\")\n",
    "print(\"Using device:\", device)"
   ]
  },
  {
   "cell_type": "code",
   "execution_count": null,
   "metadata": {
    "colab": {
     "base_uri": "https://localhost:8080/"
    },
    "executionInfo": {
     "elapsed": 17607,
     "status": "ok",
     "timestamp": 1753335985952,
     "user": {
      "displayName": "Hikari Research",
      "userId": "13771564110195447892"
     },
     "user_tz": -330
    },
    "id": "ECr6uDA81qh0",
    "outputId": "6316c425-2f5e-44aa-d07f-70de6d0ef6e9"
   },
   "outputs": [],
   "source": [
    "file_id = \"FILE_ID\"\n",
    "gdown.download(f\"https://drive.google.com/uc?id={file_id}\", \"texture_uni.zip\", quiet=False)\n",
    "with zipfile.ZipFile(\"texture_uni.zip\", 'r') as zip_ref:\n",
    "    zip_ref.extractall(\"\")"
   ]
  },
  {
   "cell_type": "code",
   "execution_count": null,
   "metadata": {
    "id": "mkdgxYF2AAIt"
   },
   "outputs": [],
   "source": [
    "class LoadDataset(Dataset):\n",
    "    def __init__(self, parquet_path, base_dir=BASE_DIR):\n",
    "        super().__init__()\n",
    "        self.df = pd.read_parquet(parquet_path)\n",
    "        # self.base_dir = base_dir.rstrip(\"/\")\n",
    "\n",
    "    def __len__(self):\n",
    "        return len(self.df)\n",
    "\n",
    "    def __getitem__(self, idx):\n",
    "        row = self.df.iloc[idx]\n",
    "        label = float(row[\"label\"])\n",
    "        label_tensor = torch.tensor(label, dtype=torch.float32).unsqueeze(0)\n",
    "\n",
    "        dummy = torch.zeros(1)\n",
    "        return dummy, dummy, label_tensor, str(row[\"sample_1\"]), str(row[\"sample_2\"])"
   ]
  },
  {
   "cell_type": "code",
   "execution_count": null,
   "metadata": {
    "colab": {
     "base_uri": "https://localhost:8080/",
     "height": 247,
     "referenced_widgets": [
      "25f22901ecb2420295fd07dc88a1d694",
      "a7e66cfec8ea47eca8ce3b603cc8e6d8",
      "7bed422a2ddd4b4b859489b4c862f24e",
      "c65e854541ef408fabffe8da876cb935",
      "a70a8618c374494c8bd661a702e90826",
      "773f2c3024614ef7aa3f42bf31b00823",
      "d194ea0f4d74429b9c15056fca988ffa",
      "582f0278a6c94aeb91145b39be482fbd",
      "004e1e0a85eb4f9ebb6b1997799f9636",
      "04cde82e268f40bda6f1340340cf8e8a",
      "7aa1d34b928841ec9aff2450385a1dec",
      "1d3fddcfdfc04a01ad3daec7cf87acce",
      "76f5b41de4ce4520997d8868467edcb3",
      "c7cc73c53655437ba95e21d5bf0da855",
      "89e904db3ba44eb08b46ae101c1238d2",
      "7092e013617140b187aa6b761b16153f",
      "f0cace321e45488fb1d6517d25ce5f6f",
      "94e3f00996954cc28dfd50a2e91dbd7d",
      "72cac5cd94ef41d0b4f0df6785234b1d",
      "b2e79da5402b474da4a1e418dcf754d8",
      "c11f59a1e5fc48eb8404c7e08d1a3933",
      "f79730153dfb41f88e4c1a3a4dd4928f"
     ]
    },
    "executionInfo": {
     "elapsed": 3435,
     "status": "ok",
     "timestamp": 1753335989420,
     "user": {
      "displayName": "Hikari Research",
      "userId": "13771564110195447892"
     },
     "user_tz": -330
    },
    "id": "6JPlj9AWusbq",
    "outputId": "89282ed7-a648-494b-f79f-b92c61f4ca71"
   },
   "outputs": [],
   "source": [
    "vit_name = \"google/vit-base-patch16-384\"\n",
    "config = ViTConfig.from_pretrained(vit_name)\n",
    "vit_backbone = ViTModel.from_pretrained(vit_name, config=config).to(device)\n",
    "\n",
    "for param in vit_backbone.embeddings.parameters():\n",
    "    param.requires_grad = False\n",
    "\n",
    "for i in range(6):\n",
    "    for param in vit_backbone.encoder.layer[i].parameters():\n",
    "        param.requires_grad = False\n"
   ]
  },
  {
   "cell_type": "code",
   "execution_count": null,
   "metadata": {
    "id": "UkA1I9e7yzku"
   },
   "outputs": [],
   "source": [
    "class ViTEmbedder(nn.Module):\n",
    "    def __init__(self, vit_model):\n",
    "        super().__init__()\n",
    "        self.vit = vit_model\n",
    "\n",
    "    def forward(self, x):\n",
    "        outputs = self.vit(pixel_values=x)   \n",
    "        return outputs.pooler_output         \n",
    "\n",
    "vit_embedder = ViTEmbedder(vit_backbone).to(device)"
   ]
  },
  {
   "cell_type": "code",
   "execution_count": null,
   "metadata": {
    "id": "BN0MmN3XOKzW"
   },
   "outputs": [],
   "source": [
    "class ProjectionHead(nn.Module):\n",
    "    def __init__(self, in_dim=768, hidden_dims=[1024, 512, 256], dropout=0.1):\n",
    "        super().__init__()\n",
    "        layers = []\n",
    "        prev = in_dim\n",
    "        for h in hidden_dims:\n",
    "            layers += [\n",
    "                nn.Linear(prev, h),\n",
    "                nn.LayerNorm(h),\n",
    "                nn.GELU(),\n",
    "            ]\n",
    "            prev = h\n",
    "        self.net = nn.Sequential(*layers)\n",
    "\n",
    "    def forward(self, x):\n",
    "        z = self.net(x)        \n",
    "        return F.normalize(z, p=2, dim=1)\n",
    "\n",
    "proj_head = ProjectionHead(\n",
    "    in_dim=768,\n",
    "    hidden_dims=[512, 256, 128],\n",
    "    dropout=0.1\n",
    ").to(device)"
   ]
  },
  {
   "cell_type": "code",
   "execution_count": null,
   "metadata": {
    "id": "rS4wyUhg3gk0"
   },
   "outputs": [],
   "source": [
    "class EuclideanDistance(nn.Module):\n",
    "    def __init__(self, eps: float = 1e-7):\n",
    "        super().__init__()\n",
    "        self.eps = eps\n",
    "\n",
    "    def forward(self, x: torch.Tensor, y: torch.Tensor) -> torch.Tensor:\n",
    "        diff_sq = (x - y).pow(2)\n",
    "        sum_sq = diff_sq.sum(dim=1, keepdim=True)\n",
    "        sum_sq = torch.clamp(sum_sq, min=self.eps)\n",
    "        return torch.sqrt(sum_sq)"
   ]
  },
  {
   "cell_type": "code",
   "execution_count": null,
   "metadata": {
    "id": "qe--YAqC3stO"
   },
   "outputs": [],
   "source": [
    "class SiameseViT(nn.Module):\n",
    "    def __init__(self, embedder, head):\n",
    "        super().__init__()\n",
    "        self.embedder = embedder\n",
    "        self.head = head\n",
    "        self.distance = EuclideanDistance()\n",
    "\n",
    "    def forward_once(self, img):\n",
    "        cls_emb = self.embedder(img)\n",
    "        emb256 = self.head(cls_emb)\n",
    "        return emb256\n",
    "\n",
    "    def forward(self, img_a, img_b):\n",
    "        emb_a = self.forward_once(img_a)\n",
    "        emb_b = self.forward_once(img_b)\n",
    "        dist = self.distance(emb_a, emb_b)\n",
    "        return dist\n",
    "\n",
    "siamese_model = SiameseViT(vit_embedder, proj_head).to(device)"
   ]
  },
  {
   "cell_type": "code",
   "execution_count": null,
   "metadata": {
    "id": "-UMZ525h4F1o"
   },
   "outputs": [],
   "source": [
    "class ContrastiveLoss(nn.Module):\n",
    "    def __init__(self, margin=1.0):\n",
    "        super().__init__()\n",
    "        self.margin = margin\n",
    "\n",
    "    def forward(self, dist, label):\n",
    "\n",
    "        label = label.view(-1, 1) \n",
    "        pos_loss = (1.0 - label) * torch.pow(dist, 2)\n",
    "        neg_loss = label * torch.pow(torch.clamp(self.margin - dist, min=0.0), 2)\n",
    "        loss = torch.mean(pos_loss + neg_loss)\n",
    "        return loss\n",
    "\n",
    "criterion = ContrastiveLoss(margin=1.0).to(device)"
   ]
  },
  {
   "cell_type": "markdown",
   "metadata": {
    "id": "NUjmjaJDIlCe"
   },
   "source": [
    "## Averaging Section\n"
   ]
  },
  {
   "cell_type": "code",
   "execution_count": null,
   "metadata": {
    "id": "Y1GnSgMPIn9q"
   },
   "outputs": [],
   "source": [
    "def load_and_average_textures(folder_path, model, device):\n",
    "    texture_files = sorted([\n",
    "        f for f in os.listdir(folder_path) if f.endswith(\".pt\")\n",
    "    ])\n",
    "    embeddings = []\n",
    "    with torch.no_grad():\n",
    "        for tf in texture_files:\n",
    "            tensor = torch.load(os.path.join(folder_path, tf)).unsqueeze(0).to(device)\n",
    "            emb = model.forward_once(tensor)  \n",
    "            embeddings.append(emb.squeeze(0))  \n",
    "    avg_embedding = torch.stack(embeddings).mean(dim=0) \n",
    "    return avg_embedding"
   ]
  },
  {
   "cell_type": "code",
   "execution_count": null,
   "metadata": {
    "id": "Rbu34IT6LLq9"
   },
   "outputs": [],
   "source": [
    "def collect_scores(model, loader, device, texture_root):\n",
    "    model.eval()\n",
    "    all_scores = []\n",
    "    all_labels = []\n",
    "    all_pairs = []\n",
    "\n",
    "    with torch.no_grad():\n",
    "        for _, _, label, name1_list, name2_list in tqdm(loader, desc=\"Collecting Scores\"):\n",
    "            label = label.to(device)\n",
    "\n",
    "            # name1, name2 are paths like W001/S01_N/W001_S01_N\n",
    "            for name1, name2, lbl in zip(name1_list, name2_list, label):\n",
    "              folder1 = os.path.join(texture_root, name1)\n",
    "              folder2 = os.path.join(texture_root, name2)\n",
    "\n",
    "              emb1 = load_and_average_textures(folder1, model, device)\n",
    "              emb2 = load_and_average_textures(folder2, model, device)\n",
    "\n",
    "              dist = torch.norm(emb1 - emb2, p=2).unsqueeze(0)\n",
    "\n",
    "              all_scores.append(dist)\n",
    "              all_labels.append(lbl.view(-1))\n",
    "              all_pairs.append((name1, name2))\n",
    "\n",
    "    all_scores = torch.cat(all_scores).cpu().numpy()\n",
    "    all_labels = torch.cat(all_labels).cpu().numpy().astype(int)\n",
    "\n",
    "    return all_scores, all_labels, all_pairs"
   ]
  },
  {
   "cell_type": "markdown",
   "metadata": {
    "id": "_vKi07bR5d9n"
   },
   "source": [
    "## Evaluating Section"
   ]
  },
  {
   "cell_type": "code",
   "execution_count": null,
   "metadata": {
    "colab": {
     "base_uri": "https://localhost:8080/",
     "height": 147
    },
    "executionInfo": {
     "elapsed": 3032,
     "status": "ok",
     "timestamp": 1753335992733,
     "user": {
      "displayName": "Hikari Research",
      "userId": "13771564110195447892"
     },
     "user_tz": -330
    },
    "id": "j2IlkruS1vg7",
    "outputId": "0ba86a90-fab8-4bcc-f911-15680b44caf7"
   },
   "outputs": [],
   "source": [
    "file_id = \"1ASQuT-LU5H1f_ydTrytQ-f5k8l-C7-yw\"\n",
    "gdown.download(f\"https://drive.google.com/uc?id={file_id}\", \"best_model.pt\", quiet=False)"
   ]
  },
  {
   "cell_type": "code",
   "execution_count": null,
   "metadata": {
    "colab": {
     "base_uri": "https://localhost:8080/",
     "height": 109
    },
    "executionInfo": {
     "elapsed": 1547,
     "status": "ok",
     "timestamp": 1753333860146,
     "user": {
      "displayName": "Hikari Research",
      "userId": "13771564110195447892"
     },
     "user_tz": -330
    },
    "id": "lLiw4O9zJ5fM",
    "outputId": "a5a3d706-4ce4-47bf-d1f6-f23481ca9759"
   },
   "outputs": [],
   "source": [
    "file_id = \"file_id\"\n",
    "gdown.download(f\"https://drive.google.com/uc?id={file_id}\", \"uni_test.parquet\", quiet=False)"
   ]
  },
  {
   "cell_type": "code",
   "execution_count": null,
   "metadata": {
    "colab": {
     "base_uri": "https://localhost:8080/"
    },
    "executionInfo": {
     "elapsed": 278,
     "status": "ok",
     "timestamp": 1753335993027,
     "user": {
      "displayName": "Hikari Research",
      "userId": "13771564110195447892"
     },
     "user_tz": -330
    },
    "id": "zhk-eSeV1xNm",
    "outputId": "d07a513b-1e7b-46f7-d885-0fb78016daca"
   },
   "outputs": [],
   "source": [
    "siamese_model = SiameseViT(vit_embedder, proj_head).to(device)\n",
    "siamese_model.load_state_dict(torch.load(\"best_model.pt\", map_location=device))"
   ]
  },
  {
   "cell_type": "code",
   "execution_count": null,
   "metadata": {
    "id": "t3wZhaw710Wk"
   },
   "outputs": [],
   "source": [
    "BATCH_SIZE_VAL = 512\n",
    "\n",
    "test_dataset = LoadDataset(\n",
    "    parquet_path=\"uni_test.parquet\"\n",
    ")\n",
    "\n",
    "test_loader = DataLoader(\n",
    "    test_dataset,\n",
    "    batch_size=BATCH_SIZE_VAL,\n",
    "    shuffle=True,\n",
    "    num_workers=0,\n",
    "    pin_memory=True\n",
    ")"
   ]
  },
  {
   "cell_type": "code",
   "execution_count": null,
   "metadata": {
    "id": "ld_jscKiYleH"
   },
   "outputs": [],
   "source": [
    "thresholds = {\n",
    "    'eer': 0.7371158,\n",
    "    'f1': 0.72520995,\n",
    "    'bf': 0.7593953\n",
    "}"
   ]
  },
  {
   "cell_type": "code",
   "execution_count": null,
   "metadata": {
    "colab": {
     "base_uri": "https://localhost:8080/"
    },
    "executionInfo": {
     "elapsed": 64533,
     "status": "ok",
     "timestamp": 1753103338259,
     "user": {
      "displayName": "Hikari Research",
      "userId": "13771564110195447892"
     },
     "user_tz": -330
    },
    "id": "_00RJpB518Ia",
    "outputId": "94af8e64-e954-4fbf-d9ab-8ea3e2d4b709"
   },
   "outputs": [],
   "source": [
    "test_scores, test_labels, sample_pairs = collect_scores(siamese_model, test_loader, device, \"texture_uni\")\n",
    "\n",
    "def compute_far_frr(y_true, y_pred):\n",
    "    tn, fp, fn, tp = confusion_matrix(y_true, y_pred, labels=[1, 0]).ravel()\n",
    "    far = fp / (fp + tn) if (fp + tn) > 0 else 0.0\n",
    "    frr = fn / (fn + tp) if (fn + tp) > 0 else 0.0\n",
    "    return far, frr\n",
    "\n",
    "for name, thr in thresholds.items():\n",
    "    preds = (test_scores >= thr).astype(int)\n",
    "    acc   = accuracy_score(test_labels, preds)\n",
    "    prec, rec, f1, _ = precision_recall_fscore_support(test_labels, preds, average=\"binary\")\n",
    "    auc  = roc_auc_score(test_labels, test_scores)\n",
    "    fpr, tpr, thresholdss = roc_curve(test_labels, test_scores)\n",
    "    fnr = 1 - tpr\n",
    "    eer_threshold_idx = np.argmin(np.abs(fpr - fnr))\n",
    "    eer = (fpr[eer_threshold_idx] + fnr[eer_threshold_idx]) / 2\n",
    "    eer_threshold = thresholdss[eer_threshold_idx]\n",
    "    far, frr = compute_far_frr(test_labels, preds)\n",
    "    \n",
    "    print(f\"\\nThreshold used     : {name}\")\n",
    "    print(f\"Threshold value    : {thr:.3f}\")\n",
    "    print(f\"ROC-AUC            : {auc:.4f}\")\n",
    "    print(f\"Accuracy           : {acc:.4f}\")\n",
    "    print(f\"Precision          : {prec:.4f}\")\n",
    "    print(f\"Recall             : {rec:.4f}\")\n",
    "    print(f\"F1-score           : {f1:.4f}\")\n",
    "    print(f\"EER                : {eer:.4f}\")\n",
    "    print(f\"FAR                : {far:.4f}\")\n",
    "    print(f\"FRR                : {frr:.4f}\")"
   ]
  },
  {
   "cell_type": "code",
   "execution_count": null,
   "metadata": {
    "id": "ljXu7MMM8iNq"
   },
   "outputs": [],
   "source": [
    "def collect_scores(model, loader, device, texture_root):\n",
    "    model.eval()\n",
    "    all_scores = []\n",
    "    all_labels = []\n",
    "    all_pairs = []\n",
    "\n",
    "    with torch.no_grad():\n",
    "        for _, _, label, name1_list, name2_list in tqdm(loader, desc=\"Collecting Scores\"):\n",
    "            label = label.to(device)\n",
    "\n",
    "            # name1, name2 are paths like W001/S01_N/W001_S01_N\n",
    "            for name1, name2, lbl in zip(name1_list, name2_list, label):\n",
    "              folder1 = os.path.join(texture_root, name1)\n",
    "              folder2 = os.path.join(texture_root, name2)\n",
    "\n",
    "              emb1 = load_and_average_textures(folder1, model, device)\n",
    "              emb2 = load_and_average_textures(folder2, model, device)\n",
    "\n",
    "              dist = torch.norm(emb1 - emb2, p=2).unsqueeze(0)\n",
    "\n",
    "              all_scores.append(dist)\n",
    "              all_labels.append(lbl.view(-1))\n",
    "              all_pairs.append((name1, name2))\n",
    "\n",
    "    all_scores = torch.cat(all_scores).cpu().numpy()\n",
    "    all_labels = torch.cat(all_labels).cpu().numpy().astype(int)\n",
    "\n",
    "    return all_scores, all_labels, all_pairs\n"
   ]
  }
 ],
 "metadata": {
  "accelerator": "GPU",
  "colab": {
   "gpuType": "A100",
   "machine_shape": "hm",
   "provenance": []
  },
  "kernelspec": {
   "display_name": "Python 3",
   "name": "python3"
  },
  "language_info": {
   "codemirror_mode": {
    "name": "ipython",
    "version": 3
   },
   "file_extension": ".py",
   "mimetype": "text/x-python",
   "name": "python",
   "nbconvert_exporter": "python",
   "pygments_lexer": "ipython3",
   "version": "3.12.7"
  },
  "widgets": {
   "application/vnd.jupyter.widget-state+json": {
    "004e1e0a85eb4f9ebb6b1997799f9636": {
     "model_module": "@jupyter-widgets/controls",
     "model_module_version": "1.5.0",
     "model_name": "ProgressStyleModel",
     "state": {
      "_model_module": "@jupyter-widgets/controls",
      "_model_module_version": "1.5.0",
      "_model_name": "ProgressStyleModel",
      "_view_count": null,
      "_view_module": "@jupyter-widgets/base",
      "_view_module_version": "1.2.0",
      "_view_name": "StyleView",
      "bar_color": null,
      "description_width": ""
     }
    },
    "04cde82e268f40bda6f1340340cf8e8a": {
     "model_module": "@jupyter-widgets/base",
     "model_module_version": "1.2.0",
     "model_name": "LayoutModel",
     "state": {
      "_model_module": "@jupyter-widgets/base",
      "_model_module_version": "1.2.0",
      "_model_name": "LayoutModel",
      "_view_count": null,
      "_view_module": "@jupyter-widgets/base",
      "_view_module_version": "1.2.0",
      "_view_name": "LayoutView",
      "align_content": null,
      "align_items": null,
      "align_self": null,
      "border": null,
      "bottom": null,
      "display": null,
      "flex": null,
      "flex_flow": null,
      "grid_area": null,
      "grid_auto_columns": null,
      "grid_auto_flow": null,
      "grid_auto_rows": null,
      "grid_column": null,
      "grid_gap": null,
      "grid_row": null,
      "grid_template_areas": null,
      "grid_template_columns": null,
      "grid_template_rows": null,
      "height": null,
      "justify_content": null,
      "justify_items": null,
      "left": null,
      "margin": null,
      "max_height": null,
      "max_width": null,
      "min_height": null,
      "min_width": null,
      "object_fit": null,
      "object_position": null,
      "order": null,
      "overflow": null,
      "overflow_x": null,
      "overflow_y": null,
      "padding": null,
      "right": null,
      "top": null,
      "visibility": null,
      "width": null
     }
    },
    "1d3fddcfdfc04a01ad3daec7cf87acce": {
     "model_module": "@jupyter-widgets/controls",
     "model_module_version": "1.5.0",
     "model_name": "HBoxModel",
     "state": {
      "_dom_classes": [],
      "_model_module": "@jupyter-widgets/controls",
      "_model_module_version": "1.5.0",
      "_model_name": "HBoxModel",
      "_view_count": null,
      "_view_module": "@jupyter-widgets/controls",
      "_view_module_version": "1.5.0",
      "_view_name": "HBoxView",
      "box_style": "",
      "children": [
       "IPY_MODEL_76f5b41de4ce4520997d8868467edcb3",
       "IPY_MODEL_c7cc73c53655437ba95e21d5bf0da855",
       "IPY_MODEL_89e904db3ba44eb08b46ae101c1238d2"
      ],
      "layout": "IPY_MODEL_7092e013617140b187aa6b761b16153f"
     }
    },
    "25f22901ecb2420295fd07dc88a1d694": {
     "model_module": "@jupyter-widgets/controls",
     "model_module_version": "1.5.0",
     "model_name": "HBoxModel",
     "state": {
      "_dom_classes": [],
      "_model_module": "@jupyter-widgets/controls",
      "_model_module_version": "1.5.0",
      "_model_name": "HBoxModel",
      "_view_count": null,
      "_view_module": "@jupyter-widgets/controls",
      "_view_module_version": "1.5.0",
      "_view_name": "HBoxView",
      "box_style": "",
      "children": [
       "IPY_MODEL_a7e66cfec8ea47eca8ce3b603cc8e6d8",
       "IPY_MODEL_7bed422a2ddd4b4b859489b4c862f24e",
       "IPY_MODEL_c65e854541ef408fabffe8da876cb935"
      ],
      "layout": "IPY_MODEL_a70a8618c374494c8bd661a702e90826"
     }
    },
    "582f0278a6c94aeb91145b39be482fbd": {
     "model_module": "@jupyter-widgets/base",
     "model_module_version": "1.2.0",
     "model_name": "LayoutModel",
     "state": {
      "_model_module": "@jupyter-widgets/base",
      "_model_module_version": "1.2.0",
      "_model_name": "LayoutModel",
      "_view_count": null,
      "_view_module": "@jupyter-widgets/base",
      "_view_module_version": "1.2.0",
      "_view_name": "LayoutView",
      "align_content": null,
      "align_items": null,
      "align_self": null,
      "border": null,
      "bottom": null,
      "display": null,
      "flex": null,
      "flex_flow": null,
      "grid_area": null,
      "grid_auto_columns": null,
      "grid_auto_flow": null,
      "grid_auto_rows": null,
      "grid_column": null,
      "grid_gap": null,
      "grid_row": null,
      "grid_template_areas": null,
      "grid_template_columns": null,
      "grid_template_rows": null,
      "height": null,
      "justify_content": null,
      "justify_items": null,
      "left": null,
      "margin": null,
      "max_height": null,
      "max_width": null,
      "min_height": null,
      "min_width": null,
      "object_fit": null,
      "object_position": null,
      "order": null,
      "overflow": null,
      "overflow_x": null,
      "overflow_y": null,
      "padding": null,
      "right": null,
      "top": null,
      "visibility": null,
      "width": "20px"
     }
    },
    "7092e013617140b187aa6b761b16153f": {
     "model_module": "@jupyter-widgets/base",
     "model_module_version": "1.2.0",
     "model_name": "LayoutModel",
     "state": {
      "_model_module": "@jupyter-widgets/base",
      "_model_module_version": "1.2.0",
      "_model_name": "LayoutModel",
      "_view_count": null,
      "_view_module": "@jupyter-widgets/base",
      "_view_module_version": "1.2.0",
      "_view_name": "LayoutView",
      "align_content": null,
      "align_items": null,
      "align_self": null,
      "border": null,
      "bottom": null,
      "display": null,
      "flex": null,
      "flex_flow": null,
      "grid_area": null,
      "grid_auto_columns": null,
      "grid_auto_flow": null,
      "grid_auto_rows": null,
      "grid_column": null,
      "grid_gap": null,
      "grid_row": null,
      "grid_template_areas": null,
      "grid_template_columns": null,
      "grid_template_rows": null,
      "height": null,
      "justify_content": null,
      "justify_items": null,
      "left": null,
      "margin": null,
      "max_height": null,
      "max_width": null,
      "min_height": null,
      "min_width": null,
      "object_fit": null,
      "object_position": null,
      "order": null,
      "overflow": null,
      "overflow_x": null,
      "overflow_y": null,
      "padding": null,
      "right": null,
      "top": null,
      "visibility": null,
      "width": null
     }
    },
    "72cac5cd94ef41d0b4f0df6785234b1d": {
     "model_module": "@jupyter-widgets/base",
     "model_module_version": "1.2.0",
     "model_name": "LayoutModel",
     "state": {
      "_model_module": "@jupyter-widgets/base",
      "_model_module_version": "1.2.0",
      "_model_name": "LayoutModel",
      "_view_count": null,
      "_view_module": "@jupyter-widgets/base",
      "_view_module_version": "1.2.0",
      "_view_name": "LayoutView",
      "align_content": null,
      "align_items": null,
      "align_self": null,
      "border": null,
      "bottom": null,
      "display": null,
      "flex": null,
      "flex_flow": null,
      "grid_area": null,
      "grid_auto_columns": null,
      "grid_auto_flow": null,
      "grid_auto_rows": null,
      "grid_column": null,
      "grid_gap": null,
      "grid_row": null,
      "grid_template_areas": null,
      "grid_template_columns": null,
      "grid_template_rows": null,
      "height": null,
      "justify_content": null,
      "justify_items": null,
      "left": null,
      "margin": null,
      "max_height": null,
      "max_width": null,
      "min_height": null,
      "min_width": null,
      "object_fit": null,
      "object_position": null,
      "order": null,
      "overflow": null,
      "overflow_x": null,
      "overflow_y": null,
      "padding": null,
      "right": null,
      "top": null,
      "visibility": null,
      "width": null
     }
    },
    "76f5b41de4ce4520997d8868467edcb3": {
     "model_module": "@jupyter-widgets/controls",
     "model_module_version": "1.5.0",
     "model_name": "HTMLModel",
     "state": {
      "_dom_classes": [],
      "_model_module": "@jupyter-widgets/controls",
      "_model_module_version": "1.5.0",
      "_model_name": "HTMLModel",
      "_view_count": null,
      "_view_module": "@jupyter-widgets/controls",
      "_view_module_version": "1.5.0",
      "_view_name": "HTMLView",
      "description": "",
      "description_tooltip": null,
      "layout": "IPY_MODEL_f0cace321e45488fb1d6517d25ce5f6f",
      "placeholder": "​",
      "style": "IPY_MODEL_94e3f00996954cc28dfd50a2e91dbd7d",
      "value": "model.safetensors: 100%"
     }
    },
    "773f2c3024614ef7aa3f42bf31b00823": {
     "model_module": "@jupyter-widgets/base",
     "model_module_version": "1.2.0",
     "model_name": "LayoutModel",
     "state": {
      "_model_module": "@jupyter-widgets/base",
      "_model_module_version": "1.2.0",
      "_model_name": "LayoutModel",
      "_view_count": null,
      "_view_module": "@jupyter-widgets/base",
      "_view_module_version": "1.2.0",
      "_view_name": "LayoutView",
      "align_content": null,
      "align_items": null,
      "align_self": null,
      "border": null,
      "bottom": null,
      "display": null,
      "flex": null,
      "flex_flow": null,
      "grid_area": null,
      "grid_auto_columns": null,
      "grid_auto_flow": null,
      "grid_auto_rows": null,
      "grid_column": null,
      "grid_gap": null,
      "grid_row": null,
      "grid_template_areas": null,
      "grid_template_columns": null,
      "grid_template_rows": null,
      "height": null,
      "justify_content": null,
      "justify_items": null,
      "left": null,
      "margin": null,
      "max_height": null,
      "max_width": null,
      "min_height": null,
      "min_width": null,
      "object_fit": null,
      "object_position": null,
      "order": null,
      "overflow": null,
      "overflow_x": null,
      "overflow_y": null,
      "padding": null,
      "right": null,
      "top": null,
      "visibility": null,
      "width": null
     }
    },
    "7aa1d34b928841ec9aff2450385a1dec": {
     "model_module": "@jupyter-widgets/controls",
     "model_module_version": "1.5.0",
     "model_name": "DescriptionStyleModel",
     "state": {
      "_model_module": "@jupyter-widgets/controls",
      "_model_module_version": "1.5.0",
      "_model_name": "DescriptionStyleModel",
      "_view_count": null,
      "_view_module": "@jupyter-widgets/base",
      "_view_module_version": "1.2.0",
      "_view_name": "StyleView",
      "description_width": ""
     }
    },
    "7bed422a2ddd4b4b859489b4c862f24e": {
     "model_module": "@jupyter-widgets/controls",
     "model_module_version": "1.5.0",
     "model_name": "FloatProgressModel",
     "state": {
      "_dom_classes": [],
      "_model_module": "@jupyter-widgets/controls",
      "_model_module_version": "1.5.0",
      "_model_name": "FloatProgressModel",
      "_view_count": null,
      "_view_module": "@jupyter-widgets/controls",
      "_view_module_version": "1.5.0",
      "_view_name": "ProgressView",
      "bar_style": "success",
      "description": "",
      "description_tooltip": null,
      "layout": "IPY_MODEL_582f0278a6c94aeb91145b39be482fbd",
      "max": 1,
      "min": 0,
      "orientation": "horizontal",
      "style": "IPY_MODEL_004e1e0a85eb4f9ebb6b1997799f9636",
      "value": 1
     }
    },
    "89e904db3ba44eb08b46ae101c1238d2": {
     "model_module": "@jupyter-widgets/controls",
     "model_module_version": "1.5.0",
     "model_name": "HTMLModel",
     "state": {
      "_dom_classes": [],
      "_model_module": "@jupyter-widgets/controls",
      "_model_module_version": "1.5.0",
      "_model_name": "HTMLModel",
      "_view_count": null,
      "_view_module": "@jupyter-widgets/controls",
      "_view_module_version": "1.5.0",
      "_view_name": "HTMLView",
      "description": "",
      "description_tooltip": null,
      "layout": "IPY_MODEL_c11f59a1e5fc48eb8404c7e08d1a3933",
      "placeholder": "​",
      "style": "IPY_MODEL_f79730153dfb41f88e4c1a3a4dd4928f",
      "value": " 347M/347M [00:01&lt;00:00, 369MB/s]"
     }
    },
    "94e3f00996954cc28dfd50a2e91dbd7d": {
     "model_module": "@jupyter-widgets/controls",
     "model_module_version": "1.5.0",
     "model_name": "DescriptionStyleModel",
     "state": {
      "_model_module": "@jupyter-widgets/controls",
      "_model_module_version": "1.5.0",
      "_model_name": "DescriptionStyleModel",
      "_view_count": null,
      "_view_module": "@jupyter-widgets/base",
      "_view_module_version": "1.2.0",
      "_view_name": "StyleView",
      "description_width": ""
     }
    },
    "a70a8618c374494c8bd661a702e90826": {
     "model_module": "@jupyter-widgets/base",
     "model_module_version": "1.2.0",
     "model_name": "LayoutModel",
     "state": {
      "_model_module": "@jupyter-widgets/base",
      "_model_module_version": "1.2.0",
      "_model_name": "LayoutModel",
      "_view_count": null,
      "_view_module": "@jupyter-widgets/base",
      "_view_module_version": "1.2.0",
      "_view_name": "LayoutView",
      "align_content": null,
      "align_items": null,
      "align_self": null,
      "border": null,
      "bottom": null,
      "display": null,
      "flex": null,
      "flex_flow": null,
      "grid_area": null,
      "grid_auto_columns": null,
      "grid_auto_flow": null,
      "grid_auto_rows": null,
      "grid_column": null,
      "grid_gap": null,
      "grid_row": null,
      "grid_template_areas": null,
      "grid_template_columns": null,
      "grid_template_rows": null,
      "height": null,
      "justify_content": null,
      "justify_items": null,
      "left": null,
      "margin": null,
      "max_height": null,
      "max_width": null,
      "min_height": null,
      "min_width": null,
      "object_fit": null,
      "object_position": null,
      "order": null,
      "overflow": null,
      "overflow_x": null,
      "overflow_y": null,
      "padding": null,
      "right": null,
      "top": null,
      "visibility": null,
      "width": null
     }
    },
    "a7e66cfec8ea47eca8ce3b603cc8e6d8": {
     "model_module": "@jupyter-widgets/controls",
     "model_module_version": "1.5.0",
     "model_name": "HTMLModel",
     "state": {
      "_dom_classes": [],
      "_model_module": "@jupyter-widgets/controls",
      "_model_module_version": "1.5.0",
      "_model_name": "HTMLModel",
      "_view_count": null,
      "_view_module": "@jupyter-widgets/controls",
      "_view_module_version": "1.5.0",
      "_view_name": "HTMLView",
      "description": "",
      "description_tooltip": null,
      "layout": "IPY_MODEL_773f2c3024614ef7aa3f42bf31b00823",
      "placeholder": "​",
      "style": "IPY_MODEL_d194ea0f4d74429b9c15056fca988ffa",
      "value": "config.json: "
     }
    },
    "b2e79da5402b474da4a1e418dcf754d8": {
     "model_module": "@jupyter-widgets/controls",
     "model_module_version": "1.5.0",
     "model_name": "ProgressStyleModel",
     "state": {
      "_model_module": "@jupyter-widgets/controls",
      "_model_module_version": "1.5.0",
      "_model_name": "ProgressStyleModel",
      "_view_count": null,
      "_view_module": "@jupyter-widgets/base",
      "_view_module_version": "1.2.0",
      "_view_name": "StyleView",
      "bar_color": null,
      "description_width": ""
     }
    },
    "c11f59a1e5fc48eb8404c7e08d1a3933": {
     "model_module": "@jupyter-widgets/base",
     "model_module_version": "1.2.0",
     "model_name": "LayoutModel",
     "state": {
      "_model_module": "@jupyter-widgets/base",
      "_model_module_version": "1.2.0",
      "_model_name": "LayoutModel",
      "_view_count": null,
      "_view_module": "@jupyter-widgets/base",
      "_view_module_version": "1.2.0",
      "_view_name": "LayoutView",
      "align_content": null,
      "align_items": null,
      "align_self": null,
      "border": null,
      "bottom": null,
      "display": null,
      "flex": null,
      "flex_flow": null,
      "grid_area": null,
      "grid_auto_columns": null,
      "grid_auto_flow": null,
      "grid_auto_rows": null,
      "grid_column": null,
      "grid_gap": null,
      "grid_row": null,
      "grid_template_areas": null,
      "grid_template_columns": null,
      "grid_template_rows": null,
      "height": null,
      "justify_content": null,
      "justify_items": null,
      "left": null,
      "margin": null,
      "max_height": null,
      "max_width": null,
      "min_height": null,
      "min_width": null,
      "object_fit": null,
      "object_position": null,
      "order": null,
      "overflow": null,
      "overflow_x": null,
      "overflow_y": null,
      "padding": null,
      "right": null,
      "top": null,
      "visibility": null,
      "width": null
     }
    },
    "c65e854541ef408fabffe8da876cb935": {
     "model_module": "@jupyter-widgets/controls",
     "model_module_version": "1.5.0",
     "model_name": "HTMLModel",
     "state": {
      "_dom_classes": [],
      "_model_module": "@jupyter-widgets/controls",
      "_model_module_version": "1.5.0",
      "_model_name": "HTMLModel",
      "_view_count": null,
      "_view_module": "@jupyter-widgets/controls",
      "_view_module_version": "1.5.0",
      "_view_name": "HTMLView",
      "description": "",
      "description_tooltip": null,
      "layout": "IPY_MODEL_04cde82e268f40bda6f1340340cf8e8a",
      "placeholder": "​",
      "style": "IPY_MODEL_7aa1d34b928841ec9aff2450385a1dec",
      "value": " 69.7k/? [00:00&lt;00:00, 6.65MB/s]"
     }
    },
    "c7cc73c53655437ba95e21d5bf0da855": {
     "model_module": "@jupyter-widgets/controls",
     "model_module_version": "1.5.0",
     "model_name": "FloatProgressModel",
     "state": {
      "_dom_classes": [],
      "_model_module": "@jupyter-widgets/controls",
      "_model_module_version": "1.5.0",
      "_model_name": "FloatProgressModel",
      "_view_count": null,
      "_view_module": "@jupyter-widgets/controls",
      "_view_module_version": "1.5.0",
      "_view_name": "ProgressView",
      "bar_style": "success",
      "description": "",
      "description_tooltip": null,
      "layout": "IPY_MODEL_72cac5cd94ef41d0b4f0df6785234b1d",
      "max": 347461216,
      "min": 0,
      "orientation": "horizontal",
      "style": "IPY_MODEL_b2e79da5402b474da4a1e418dcf754d8",
      "value": 347461216
     }
    },
    "d194ea0f4d74429b9c15056fca988ffa": {
     "model_module": "@jupyter-widgets/controls",
     "model_module_version": "1.5.0",
     "model_name": "DescriptionStyleModel",
     "state": {
      "_model_module": "@jupyter-widgets/controls",
      "_model_module_version": "1.5.0",
      "_model_name": "DescriptionStyleModel",
      "_view_count": null,
      "_view_module": "@jupyter-widgets/base",
      "_view_module_version": "1.2.0",
      "_view_name": "StyleView",
      "description_width": ""
     }
    },
    "f0cace321e45488fb1d6517d25ce5f6f": {
     "model_module": "@jupyter-widgets/base",
     "model_module_version": "1.2.0",
     "model_name": "LayoutModel",
     "state": {
      "_model_module": "@jupyter-widgets/base",
      "_model_module_version": "1.2.0",
      "_model_name": "LayoutModel",
      "_view_count": null,
      "_view_module": "@jupyter-widgets/base",
      "_view_module_version": "1.2.0",
      "_view_name": "LayoutView",
      "align_content": null,
      "align_items": null,
      "align_self": null,
      "border": null,
      "bottom": null,
      "display": null,
      "flex": null,
      "flex_flow": null,
      "grid_area": null,
      "grid_auto_columns": null,
      "grid_auto_flow": null,
      "grid_auto_rows": null,
      "grid_column": null,
      "grid_gap": null,
      "grid_row": null,
      "grid_template_areas": null,
      "grid_template_columns": null,
      "grid_template_rows": null,
      "height": null,
      "justify_content": null,
      "justify_items": null,
      "left": null,
      "margin": null,
      "max_height": null,
      "max_width": null,
      "min_height": null,
      "min_width": null,
      "object_fit": null,
      "object_position": null,
      "order": null,
      "overflow": null,
      "overflow_x": null,
      "overflow_y": null,
      "padding": null,
      "right": null,
      "top": null,
      "visibility": null,
      "width": null
     }
    },
    "f79730153dfb41f88e4c1a3a4dd4928f": {
     "model_module": "@jupyter-widgets/controls",
     "model_module_version": "1.5.0",
     "model_name": "DescriptionStyleModel",
     "state": {
      "_model_module": "@jupyter-widgets/controls",
      "_model_module_version": "1.5.0",
      "_model_name": "DescriptionStyleModel",
      "_view_count": null,
      "_view_module": "@jupyter-widgets/base",
      "_view_module_version": "1.2.0",
      "_view_name": "StyleView",
      "description_width": ""
     }
    }
   }
  }
 },
 "nbformat": 4,
 "nbformat_minor": 0
}
