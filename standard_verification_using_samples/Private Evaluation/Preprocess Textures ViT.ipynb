{
 "cells": [
  {
   "cell_type": "code",
   "execution_count": null,
   "metadata": {
    "id": "lovN1KMJlSgm"
   },
   "outputs": [],
   "source": [
    "import os\n",
    "import gdown\n",
    "import zipfile\n",
    "import os\n",
    "import torch\n",
    "from PIL import Image\n",
    "from torchvision import transforms"
   ]
  },
  {
   "cell_type": "code",
   "execution_count": null,
   "metadata": {
    "colab": {
     "base_uri": "https://localhost:8080/"
    },
    "executionInfo": {
     "elapsed": 3029,
     "status": "ok",
     "timestamp": 1753001812488,
     "user": {
      "displayName": "MDR Sandamini",
      "userId": "14130589177191734805"
     },
     "user_tz": -330
    },
    "id": "-j1_-XKuli1J",
    "outputId": "c5dddaf8-b71b-485f-999e-cb6606dc571c"
   },
   "outputs": [],
   "source": [
    "file_id = \"file_id\"\n",
    "gdown.download(f\"https://drive.google.com/uc?id={file_id}\", \"texture_uni_before.zip\", quiet=False)\n",
    "with zipfile.ZipFile(\"texture_uni_before.zip\", 'r') as zip_ref:\n",
    "    zip_ref.extractall(\"texture_uni_before\")"
   ]
  },
  {
   "cell_type": "code",
   "execution_count": null,
   "metadata": {
    "colab": {
     "base_uri": "https://localhost:8080/"
    },
    "collapsed": true,
    "executionInfo": {
     "elapsed": 57821,
     "status": "ok",
     "timestamp": 1753001889195,
     "user": {
      "displayName": "MDR Sandamini",
      "userId": "14130589177191734805"
     },
     "user_tz": -330
    },
    "id": "0m_lgOUnmZiI",
    "outputId": "e79163c1-9748-4d46-93cf-a346c9a03c21"
   },
   "outputs": [],
   "source": [
    "UNI_SRC = \"texture_uni_before\"\n",
    "PRE_UNI = \"texture_uni\"\n",
    "\n",
    "IMG_SIZE = (384, 384)\n",
    "\n",
    "transform = transforms.Compose([\n",
    "    transforms.Resize(IMG_SIZE),\n",
    "    transforms.Grayscale(num_output_channels=3),\n",
    "    transforms.ToTensor(),\n",
    "    transforms.Normalize(mean=(0.5, 0.5, 0.5),\n",
    "                         std =(0.5, 0.5, 0.5)),\n",
    "])\n",
    "\n",
    "def process_and_save(src_root, dst_root):\n",
    "\n",
    "    for root, _, files in os.walk(src_root):\n",
    "        for fname in files:\n",
    "            if not fname.lower().endswith(('.png', '.jpg', '.jpeg')):\n",
    "                continue\n",
    "\n",
    "            rel_dir = os.path.relpath(root, src_root)\n",
    "            dst_dir = os.path.join(dst_root, rel_dir)\n",
    "            os.makedirs(dst_dir, exist_ok=True)\n",
    "\n",
    "            base, _ = os.path.splitext(fname)\n",
    "            src_path = os.path.join(root, fname)\n",
    "            dst_path = os.path.join(dst_dir, base + \".pt\")\n",
    "\n",
    "            try:\n",
    "                img = Image.open(src_path)\n",
    "                tensor = transform(img)\n",
    "                torch.save(tensor, dst_path)\n",
    "                print(f\"Saved: {dst_path}\")\n",
    "            except Exception as e:\n",
    "                print(f\"Error processing {src_path}: {e}\")\n",
    "\n",
    "process_and_save(UNI_SRC, PRE_UNI)"
   ]
  },
  {
   "cell_type": "code",
   "execution_count": null,
   "metadata": {
    "colab": {
     "base_uri": "https://localhost:8080/"
    },
    "collapsed": true,
    "executionInfo": {
     "elapsed": 77880,
     "status": "ok",
     "timestamp": 1753001967072,
     "user": {
      "displayName": "MDR Sandamini",
      "userId": "14130589177191734805"
     },
     "user_tz": -330
    },
    "id": "ZHfS3nw4pwde",
    "outputId": "77290282-5305-4dff-ba2a-2b72201cb435"
   },
   "outputs": [],
   "source": [
    "!zip -r texture_uni.zip texture_uni"
   ]
  },
  {
   "cell_type": "code",
   "execution_count": null,
   "metadata": {
    "colab": {
     "base_uri": "https://localhost:8080/"
    },
    "executionInfo": {
     "elapsed": 28005,
     "status": "ok",
     "timestamp": 1753002085021,
     "user": {
      "displayName": "MDR Sandamini",
      "userId": "14130589177191734805"
     },
     "user_tz": -330
    },
    "id": "A2ESbZirqYWF",
    "outputId": "9987cf0d-1c9f-4008-e102-95e0d50f24cf"
   },
   "outputs": [],
   "source": [
    "from google.colab import drive\n",
    "drive.mount('/content/drive')\n",
    "\n",
    "target_directory = \"/content/drive/MyDrive/PATH\"\n",
    "!cp texture_uni.zip \"{target_directory}/\""
   ]
  }
 ],
 "metadata": {
  "colab": {
   "provenance": []
  },
  "kernelspec": {
   "display_name": "Python 3",
   "name": "python3"
  },
  "language_info": {
   "name": "python"
  }
 },
 "nbformat": 4,
 "nbformat_minor": 0
}
