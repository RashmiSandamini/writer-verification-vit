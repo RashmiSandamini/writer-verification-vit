{
 "cells": [
  {
   "cell_type": "code",
   "execution_count": null,
   "metadata": {
    "colab": {
     "base_uri": "https://localhost:8080/"
    },
    "collapsed": true,
    "executionInfo": {
     "elapsed": 115837,
     "status": "ok",
     "timestamp": 1749909491489,
     "user": {
      "displayName": "MDR Sandamini",
      "userId": "14130589177191734805"
     },
     "user_tz": -330
    },
    "id": "ndc5WBXQ03Di",
    "outputId": "d73a33c3-ab61-4ac9-be01-c5d8d80a8e40"
   },
   "outputs": [],
   "source": [
    "!pip install torch torchvision transformers\n",
    "!pip install torchmetrics"
   ]
  },
  {
   "cell_type": "code",
   "execution_count": null,
   "metadata": {
    "colab": {
     "base_uri": "https://localhost:8080/"
    },
    "executionInfo": {
     "elapsed": 38044,
     "status": "ok",
     "timestamp": 1749909544461,
     "user": {
      "displayName": "MDR Sandamini",
      "userId": "14130589177191734805"
     },
     "user_tz": -330
    },
    "id": "gPCFqzOBAULj",
    "outputId": "b2926d47-a4c3-458d-c60b-8cbb4f500249"
   },
   "outputs": [
    {
     "name": "stdout",
     "output_type": "stream",
     "text": [
      "Using device: cuda\n"
     ]
    }
   ],
   "source": [
    "import torch\n",
    "import torch.nn as nn\n",
    "import torch.nn.functional as F\n",
    "from torch.utils.data import Dataset, DataLoader\n",
    "from torchvision import transforms\n",
    "from transformers import ViTModel, ViTConfig\n",
    "import pandas as pd\n",
    "import os\n",
    "import numpy as np\n",
    "from PIL import Image\n",
    "import gdown\n",
    "import zipfile\n",
    "import matplotlib.pyplot as plt\n",
    "from torchmetrics import AUROC\n",
    "from tqdm import tqdm\n",
    "from sklearn.metrics import roc_auc_score\n",
    "import matplotlib.pyplot as plt\n",
    "from torch.utils.tensorboard import SummaryWriter\n",
    "\n",
    "BASE_DIR = \"Data_V9_ViT\"\n",
    "\n",
    "scaler = torch.amp.GradScaler('cuda')\n",
    "\n",
    "device = torch.device(\"cuda\" if torch.cuda.is_available() else \"cpu\")\n",
    "print(\"Using device:\", device)"
   ]
  },
  {
   "cell_type": "code",
   "execution_count": null,
   "metadata": {
    "colab": {
     "base_uri": "https://localhost:8080/"
    },
    "executionInfo": {
     "elapsed": 318064,
     "status": "ok",
     "timestamp": 1749909862517,
     "user": {
      "displayName": "MDR Sandamini",
      "userId": "14130589177191734805"
     },
     "user_tz": -330
    },
    "id": "ECr6uDA81qh0",
    "outputId": "863100a9-2ff2-4466-829d-26350cb0c96d"
   },
   "outputs": [],
   "source": [
    "file_id = \"file_id\"\n",
    "gdown.download(f\"https://drive.google.com/uc?id={file_id}\", \"Data_V9_ViT.zip\", quiet=False)\n",
    "with zipfile.ZipFile(\"Data_V9_ViT.zip\", 'r') as zip_ref:\n",
    "    zip_ref.extractall(\"\")"
   ]
  },
  {
   "cell_type": "code",
   "execution_count": null,
   "metadata": {
    "id": "mkdgxYF2AAIt"
   },
   "outputs": [],
   "source": [
    "class LoadDataset(Dataset):\n",
    "    def __init__(self, parquet_path, base_dir=BASE_DIR):\n",
    "        super().__init__()\n",
    "        self.df = pd.read_parquet(parquet_path)\n",
    "        self.base_dir = base_dir.rstrip(\"/\")\n",
    "\n",
    "    def __len__(self):\n",
    "        return len(self.df)\n",
    "\n",
    "    def __getitem__(self, idx):\n",
    "        row = self.df.iloc[idx]\n",
    "\n",
    "        def pt_path(rel_path: str) -> str:\n",
    "            return os.path.join(self.base_dir, rel_path + \".pt\")\n",
    "\n",
    "        img1_path = pt_path(row[\"sample_1\"])\n",
    "        img2_path = pt_path(row[\"sample_2\"])\n",
    "\n",
    "        try:\n",
    "            img1_tensor = torch.load(img1_path)\n",
    "        except Exception as e:\n",
    "            raise ValueError(f\"Could not load tensor at {img1_path}: {e}\")\n",
    "\n",
    "        try:\n",
    "            img2_tensor = torch.load(img2_path)\n",
    "        except Exception as e:\n",
    "            raise ValueError(f\"Could not load tensor at {img2_path}: {e}\")\n",
    "\n",
    "        label = float(row[\"label\"])\n",
    "        label_tensor = torch.tensor(label, dtype=torch.float32).unsqueeze(0)\n",
    "\n",
    "        return img1_tensor, img2_tensor, label_tensor\n"
   ]
  },
  {
   "cell_type": "code",
   "execution_count": null,
   "metadata": {
    "id": "k5-30WLoq1xc"
   },
   "outputs": [],
   "source": [
    "BATCH_SIZE = 128\n",
    "VAL_BATCH_SIZE = 1024\n",
    "\n",
    "train_dataset = LoadDataset(\n",
    "    parquet_path=BASE_DIR + \"/train.parquet\"\n",
    ")\n",
    "\n",
    "val_dataset = LoadDataset(\n",
    "    parquet_path=BASE_DIR + \"/val.parquet\"\n",
    ")\n",
    "\n",
    "train_loader = DataLoader(\n",
    "    train_dataset,\n",
    "    batch_size=BATCH_SIZE,\n",
    "    shuffle=True,\n",
    "    num_workers=2,\n",
    "    pin_memory=True\n",
    ")\n",
    "val_loader   = DataLoader(\n",
    "    val_dataset,\n",
    "    batch_size=VAL_BATCH_SIZE,\n",
    "    shuffle=False,\n",
    "    num_workers=2,\n",
    "    pin_memory=True\n",
    ")"
   ]
  },
  {
   "cell_type": "code",
   "execution_count": null,
   "metadata": {
    "colab": {
     "base_uri": "https://localhost:8080/",
     "height": 247,
     "referenced_widgets": [
      "12e5efecfe9e4421a8b5bfe6fd76803c",
      "ddaca87fc736473d8780685c96a72712",
      "c9ead4575b214965b91c259bf984645f",
      "2e2a43adc9a1472aa8750e9058813110",
      "941e980742264fa582ee218ab9cf65ad",
      "995ccc09a2094213b8e40a55dda74baa",
      "e18ffeff82cf4f3fbbdc73b853f11f9a",
      "7a14ef6f8fe2493d968b5dfca9829a05",
      "65eab3881cfd4173b026311d9406c984",
      "2c11529e5c7147a8b7246c118bfe3b88",
      "c70c3e658c0e4e2693245a06405810d8",
      "cbfe5f5f9037414aadd44906520517fa",
      "28700b37967e4dc3b5c62f92e21eb6d1",
      "11872caaa9504b0785a3a0d03e90cf89",
      "fd61212c980b441f86ee836dfb6e4cf6",
      "61ea4fbec77b4d84976af29ad4d6eee2",
      "6cf3da23f34349ef9357df5232fd5522",
      "98cf4a6c6396428fa46c860ffbfe2188",
      "7a3cd9153db94136a5bcffc023d9c6da",
      "3b2def38f321413081eb60428df210f4",
      "4e91fad93c0b4643a61e22ba0c7cf069",
      "3421845ff0ce46849d279a16217e0393"
     ]
    },
    "executionInfo": {
     "elapsed": 4825,
     "status": "ok",
     "timestamp": 1749909868036,
     "user": {
      "displayName": "MDR Sandamini",
      "userId": "14130589177191734805"
     },
     "user_tz": -330
    },
    "id": "6JPlj9AWusbq",
    "outputId": "1fa0e62b-63af-4315-fef0-96bb3587f344"
   },
   "outputs": [],
   "source": [
    "vit_name = \"google/vit-base-patch16-384\"\n",
    "config = ViTConfig.from_pretrained(vit_name)\n",
    "vit_backbone = ViTModel.from_pretrained(vit_name, config=config).to(device)\n",
    "\n",
    "for param in vit_backbone.embeddings.parameters():\n",
    "    param.requires_grad = False\n",
    "\n",
    "for i in range(6):\n",
    "    for param in vit_backbone.encoder.layer[i].parameters():\n",
    "        param.requires_grad = False\n"
   ]
  },
  {
   "cell_type": "code",
   "execution_count": null,
   "metadata": {
    "id": "UkA1I9e7yzku"
   },
   "outputs": [],
   "source": [
    "class ViTEmbedder(nn.Module):\n",
    "    def __init__(self, vit_model):\n",
    "        super().__init__()\n",
    "        self.vit = vit_model\n",
    "\n",
    "    def forward(self, x):\n",
    "        outputs = self.vit(pixel_values=x)     \n",
    "        return outputs.pooler_output         \n",
    "\n",
    "vit_embedder = ViTEmbedder(vit_backbone).to(device)"
   ]
  },
  {
   "cell_type": "code",
   "execution_count": null,
   "metadata": {
    "id": "BN0MmN3XOKzW"
   },
   "outputs": [],
   "source": [
    "class ProjectionHead(nn.Module):\n",
    "    def __init__(self, in_dim=768, hidden_dims=[1024, 512, 256], dropout=0.1):\n",
    "        super().__init__()\n",
    "        layers = []\n",
    "        prev = in_dim\n",
    "        for h in hidden_dims:\n",
    "            layers += [\n",
    "                nn.Linear(prev, h),\n",
    "                nn.LayerNorm(h),\n",
    "                nn.GELU(),\n",
    "            ]\n",
    "            prev = h\n",
    "        self.net = nn.Sequential(*layers)\n",
    "\n",
    "    def forward(self, x):\n",
    "        z = self.net(x)    \n",
    "        return F.normalize(z, p=2, dim=1)\n",
    "\n",
    "proj_head = ProjectionHead(\n",
    "    in_dim=768,\n",
    "    hidden_dims=[512, 256, 128],\n",
    "    dropout=0.1\n",
    ").to(device)"
   ]
  },
  {
   "cell_type": "code",
   "execution_count": null,
   "metadata": {
    "id": "rS4wyUhg3gk0"
   },
   "outputs": [],
   "source": [
    "class EuclideanDistance(nn.Module):\n",
    "    def __init__(self, eps: float = 1e-7):\n",
    "        super().__init__()\n",
    "        self.eps = eps\n",
    "\n",
    "    def forward(self, x: torch.Tensor, y: torch.Tensor) -> torch.Tensor:\n",
    "        diff_sq = (x - y).pow(2)\n",
    "        sum_sq = diff_sq.sum(dim=1, keepdim=True)\n",
    "        sum_sq = torch.clamp(sum_sq, min=self.eps)\n",
    "        return torch.sqrt(sum_sq)"
   ]
  },
  {
   "cell_type": "code",
   "execution_count": null,
   "metadata": {
    "id": "qe--YAqC3stO"
   },
   "outputs": [],
   "source": [
    "class SiameseViT(nn.Module):\n",
    "    def __init__(self, embedder, head):\n",
    "        super().__init__()\n",
    "        self.embedder = embedder\n",
    "        self.head = head\n",
    "        self.distance = EuclideanDistance()\n",
    "\n",
    "    def forward_once(self, img):\n",
    "        cls_emb = self.embedder(img)\n",
    "        emb256 = self.head(cls_emb)\n",
    "        return emb256\n",
    "\n",
    "    def forward(self, img_a, img_b):\n",
    "        emb_a = self.forward_once(img_a)\n",
    "        emb_b = self.forward_once(img_b)\n",
    "        dist = self.distance(emb_a, emb_b)\n",
    "        return dist\n",
    "\n",
    "siamese_model = SiameseViT(vit_embedder, proj_head).to(device)"
   ]
  },
  {
   "cell_type": "code",
   "execution_count": null,
   "metadata": {
    "id": "-UMZ525h4F1o"
   },
   "outputs": [],
   "source": [
    "class ContrastiveLoss(nn.Module):\n",
    "    def __init__(self, margin=1.0):\n",
    "        super().__init__()\n",
    "        self.margin = margin\n",
    "\n",
    "    def forward(self, dist, label):\n",
    "\n",
    "        label = label.view(-1, 1)   \n",
    "        pos_loss = (1.0 - label) * torch.pow(dist, 2)\n",
    "        neg_loss = label * torch.pow(torch.clamp(self.margin - dist, min=0.0), 2)\n",
    "        loss = torch.mean(pos_loss + neg_loss)\n",
    "        return loss\n",
    "\n",
    "criterion = ContrastiveLoss(margin=1.0).to(device)\n"
   ]
  },
  {
   "cell_type": "markdown",
   "metadata": {
    "id": "_vKi07bR5d9n"
   },
   "source": [
    "## Evaluating Section"
   ]
  },
  {
   "cell_type": "code",
   "execution_count": null,
   "metadata": {
    "colab": {
     "base_uri": "https://localhost:8080/",
     "height": 127
    },
    "executionInfo": {
     "elapsed": 12026,
     "status": "ok",
     "timestamp": 1749909880152,
     "user": {
      "displayName": "MDR Sandamini",
      "userId": "14130589177191734805"
     },
     "user_tz": -330
    },
    "id": "j2IlkruS1vg7",
    "outputId": "cc06ebe3-6bf9-4ccd-f20f-0cbce1957ddc"
   },
   "outputs": [],
   "source": [
    "file_id = \"1ASQuT-LU5H1f_ydTrytQ-f5k8l-C7-yw\"\n",
    "gdown.download(f\"https://drive.google.com/uc?id={file_id}\", \"best_model.pt\", quiet=False)"
   ]
  },
  {
   "cell_type": "code",
   "execution_count": null,
   "metadata": {
    "colab": {
     "base_uri": "https://localhost:8080/"
    },
    "executionInfo": {
     "elapsed": 351,
     "status": "ok",
     "timestamp": 1749909880528,
     "user": {
      "displayName": "MDR Sandamini",
      "userId": "14130589177191734805"
     },
     "user_tz": -330
    },
    "id": "zhk-eSeV1xNm",
    "outputId": "b7a6c674-5a7a-4fc0-e6c0-753c557dcdc4"
   },
   "outputs": [],
   "source": [
    "siamese_model = SiameseViT(vit_embedder, proj_head).to(device)\n",
    "siamese_model.load_state_dict(torch.load(\"best_model.pt\", map_location=device))"
   ]
  },
  {
   "cell_type": "code",
   "execution_count": null,
   "metadata": {
    "id": "aoNPjeuo1ywt"
   },
   "outputs": [],
   "source": [
    "def plot_histogram(dists, labels,set, out_path):\n",
    "    neg = dists[labels == 0]\n",
    "    pos = dists[labels == 1]\n",
    "\n",
    "    plt.figure(figsize=(6,4))\n",
    "    plt.hist(neg, bins=50, alpha=0.6, label=\"Same Writer\")\n",
    "    plt.hist(pos, bins=50, alpha=0.6, label=\"Different Writer\")\n",
    "    plt.title(f\"{set}\")\n",
    "    plt.xlabel(\"Euclidean distance\")\n",
    "    plt.ylabel(\"Count\")\n",
    "    plt.tight_layout()\n",
    "    plt.grid(True)\n",
    "    plt.savefig(out_path, dpi=300)  \n",
    "    plt.show()"
   ]
  },
  {
   "cell_type": "code",
   "execution_count": null,
   "metadata": {
    "colab": {
     "base_uri": "https://localhost:8080/"
    },
    "executionInfo": {
     "elapsed": 23,
     "status": "ok",
     "timestamp": 1749909880585,
     "user": {
      "displayName": "MDR Sandamini",
      "userId": "14130589177191734805"
     },
     "user_tz": -330
    },
    "id": "t3wZhaw710Wk",
    "outputId": "a5ce313f-44d2-41e6-b29c-e078ed5cb43f"
   },
   "outputs": [],
   "source": [
    "BATCH_SIZE_VAL = 512\n",
    "\n",
    "test_dataset = LoadDataset(\n",
    "    parquet_path=BASE_DIR + \"/test.parquet\"\n",
    ")\n",
    "\n",
    "test_loader = DataLoader(\n",
    "    test_dataset,\n",
    "    batch_size=BATCH_SIZE_VAL,\n",
    "    shuffle=True,\n",
    "    num_workers=4,\n",
    "    pin_memory=True\n",
    ")\n",
    "\n",
    "val_loader   = DataLoader(\n",
    "    val_dataset,\n",
    "    batch_size=BATCH_SIZE_VAL,\n",
    "    shuffle=False,\n",
    "    num_workers=4,\n",
    "    pin_memory=True\n",
    ")"
   ]
  },
  {
   "cell_type": "code",
   "execution_count": null,
   "metadata": {
    "colab": {
     "base_uri": "https://localhost:8080/"
    },
    "collapsed": true,
    "executionInfo": {
     "elapsed": 22,
     "status": "ok",
     "timestamp": 1749909880617,
     "user": {
      "displayName": "MDR Sandamini",
      "userId": "14130589177191734805"
     },
     "user_tz": -330
    },
    "id": "b2_Ns-0v12Cl",
    "outputId": "e8c1eada-e38e-48f2-b511-088eb886cdf6"
   },
   "outputs": [],
   "source": [
    "siamese_model.to(device)\n",
    "print(next(siamese_model.parameters()).device)\n",
    "print(\"Loader num workers:\", val_loader.num_workers)\n",
    "print(\"Batch size:\", val_loader.batch_size)"
   ]
  },
  {
   "cell_type": "code",
   "execution_count": null,
   "metadata": {
    "id": "OpyvQuKE125O"
   },
   "outputs": [],
   "source": [
    "def collect_scores(model, loader, device):\n",
    "    model.eval()\n",
    "    all_scores = []\n",
    "    all_labels = []\n",
    "    with torch.no_grad():\n",
    "        for img1, img2, label in tqdm(loader, desc=\"Collecting Scores\"):       \n",
    "            img1, img2 = img1.to(device), img2.to(device)\n",
    "            label      = label.to(device)\n",
    "\n",
    "            scores = model(img1, img2)     \n",
    "            all_scores.append(scores.view(-1))\n",
    "            all_labels.append(label.view(-1))\n",
    "    all_scores = torch.cat(all_scores).cpu().numpy()\n",
    "    all_labels = torch.cat(all_labels).cpu().numpy().astype(int)\n",
    "\n",
    "    return all_scores, all_labels\n",
    "\n",
    "val_scores, val_labels = collect_scores(siamese_model, val_loader, device)"
   ]
  },
  {
   "cell_type": "code",
   "execution_count": null,
   "metadata": {
    "colab": {
     "base_uri": "https://localhost:8080/",
     "height": 211
    },
    "executionInfo": {
     "elapsed": 229,
     "status": "error",
     "timestamp": 1749887472918,
     "user": {
      "displayName": "MDR Sandamini",
      "userId": "14130589177191734805"
     },
     "user_tz": -330
    },
    "id": "4FKVQJzs15yQ",
    "outputId": "d030000f-ea7f-4f78-84ba-2154d17fc4e9"
   },
   "outputs": [],
   "source": [
    "from sklearn.metrics import roc_curve, precision_recall_curve\n",
    "\n",
    "thresholds = {}\n",
    "\n",
    "# 4.1 EER threshold\n",
    "fpr, tpr, thr_roc = roc_curve(val_labels, val_scores)\n",
    "eer_idx  = np.argmin(np.abs(fpr - (1 - tpr)))\n",
    "thresholds['eer'] = thr_roc[eer_idx]\n",
    "\n",
    "# 4.2 F1‐optimal threshold\n",
    "prec, rec, thr_pr = precision_recall_curve(val_labels, val_scores)\n",
    "thr_pr = np.append(thr_pr, thr_pr[-1])\n",
    "f1 = 2 * prec * rec / (prec + rec + 1e-8)\n",
    "thresholds['f1'] = thr_pr[np.argmax(f1)]\n",
    "\n",
    "# 4.3 Best‐accuracy threshold\n",
    "best_acc = 0.0\n",
    "best_thr = 0.0\n",
    "for t in np.linspace(val_scores.min(), val_scores.max(), 1000):\n",
    "    preds = (val_scores >= t).astype(int)\n",
    "    acc   = (preds == val_labels).mean()\n",
    "    if acc > best_acc:\n",
    "        best_acc, best_thr = acc, t\n",
    "thresholds['bf'] = best_thr\n",
    "\n",
    "print(\"Computed thresholds:\", thresholds)\n",
    "plot_histogram(val_scores,val_labels,'validation','validation_hist.png')"
   ]
  },
  {
   "cell_type": "code",
   "execution_count": null,
   "metadata": {
    "id": "ld_jscKiYleH"
   },
   "outputs": [],
   "source": [
    "thresholds = {\n",
    "    'eer': 0.7371158,\n",
    "    'f1': 0.72520995,\n",
    "    'bf': 0.7593953\n",
    "}"
   ]
  },
  {
   "cell_type": "markdown",
   "metadata": {},
   "source": [
    "# Evaluation Internal Dataset"
   ]
  },
  {
   "cell_type": "code",
   "execution_count": null,
   "metadata": {
    "colab": {
     "base_uri": "https://localhost:8080/",
     "height": 899
    },
    "executionInfo": {
     "elapsed": 1872,
     "status": "ok",
     "timestamp": 1749909934500,
     "user": {
      "displayName": "MDR Sandamini",
      "userId": "14130589177191734805"
     },
     "user_tz": -330
    },
    "id": "_00RJpB518Ia",
    "outputId": "e5f6925b-827a-4f2f-b9f3-753cf0eabe35"
   },
   "outputs": [],
   "source": [
    "from sklearn.metrics import accuracy_score, precision_recall_fscore_support, roc_auc_score,roc_curve\n",
    "test_scores, test_labels = collect_scores(siamese_model, test_loader, device)\n",
    "# df = pd.read_csv('test_scores_labels.csv')\n",
    "# test_scores = df['score'].values\n",
    "# test_labels = df['label'].values.astype(int)\n",
    "\n",
    "plot_histogram(test_scores,test_labels,'[Internal Dataset] Predicted Distances Histogram','test_hist.png')\n",
    "for name, thr in thresholds.items():\n",
    "    preds = (test_scores >= thr).astype(int)\n",
    "    acc   = accuracy_score(test_labels, preds)\n",
    "    prec, rec, f1, _ = precision_recall_fscore_support(test_labels, preds, average=\"binary\")\n",
    "    auc  = roc_auc_score(test_labels, test_scores)\n",
    "    fpr, tpr, thresholdss = roc_curve(test_labels, test_scores)\n",
    "    fnr = 1 - tpr\n",
    "    eer_threshold_idx = np.argmin(np.abs(fpr - fnr))\n",
    "    eer = (fpr[eer_threshold_idx] + fnr[eer_threshold_idx]) / 2\n",
    "    eer_threshold = thresholdss[eer_threshold_idx]\n",
    "    print(f\"\\nThreshold used     : {name}\")\n",
    "    print(f\"Threshold value    : {thr:.3f}\")\n",
    "    print(f\"ROC-AUC            : {auc:.4f}\")\n",
    "    print(f\"Accuracy           : {acc:.4f}\")\n",
    "    print(f\"Precision          : {prec:.4f}\")\n",
    "    print(f\"Recall             : {rec:.4f}\")\n",
    "    print(f\"F1-score           : {f1:.4f}\")\n",
    "    print(f\"EER                : {eer:.4f}\")"
   ]
  },
  {
   "cell_type": "markdown",
   "metadata": {
    "id": "oWcqN1r0kZNL"
   },
   "source": [
    "## Evaluation IAM Dataset"
   ]
  },
  {
   "cell_type": "code",
   "execution_count": null,
   "metadata": {
    "colab": {
     "base_uri": "https://localhost:8080/",
     "height": 200
    },
    "executionInfo": {
     "elapsed": 56040,
     "status": "ok",
     "timestamp": 1749890698502,
     "user": {
      "displayName": "Hikari Research",
      "userId": "13771564110195447892"
     },
     "user_tz": -330
    },
    "id": "hT-uQSqMkTpo",
    "outputId": "76e02f43-6bc3-457d-df25-c95571051e3c"
   },
   "outputs": [],
   "source": [
    "file_id = \"file_id\"\n",
    "gdown.download(f\"https://drive.google.com/uc?id={file_id}\", \"texture_iam.zip\", quiet=False)\n",
    "with zipfile.ZipFile(\"texture_iam.zip\", 'r') as zip_ref:\n",
    "    zip_ref.extractall(\"\")\n",
    "\n",
    "file_id = \"file_id\"\n",
    "gdown.download(f\"https://drive.google.com/uc?id={file_id}\",\"iam_test.parquet\",quiet=False)"
   ]
  },
  {
   "cell_type": "code",
   "execution_count": null,
   "metadata": {
    "id": "d2Xa7WQ-kqKx"
   },
   "outputs": [],
   "source": [
    "BATCH_SIZE_IAM = 512\n",
    "\n",
    "iam_test_dataset = LoadDataset(\n",
    "    parquet_path=BASE_DIR + \"/iam_test.parquet\"\n",
    ")\n",
    "\n",
    "test_loader = DataLoader(\n",
    "    iam_test_dataset,\n",
    "    batch_size=BATCH_SIZE_IAM,\n",
    "    shuffle=True,\n",
    "    num_workers=4,\n",
    "    pin_memory=True\n",
    ")\n"
   ]
  },
  {
   "cell_type": "code",
   "execution_count": null,
   "metadata": {
    "id": "-QV3SAY4lS6G"
   },
   "outputs": [],
   "source": [
    "thresholds = {\n",
    "    'eer': 0.7371158,\n",
    "    'f1': 0.72520995,\n",
    "    'bf': 0.7593953\n",
    "}"
   ]
  },
  {
   "cell_type": "code",
   "execution_count": null,
   "metadata": {
    "colab": {
     "base_uri": "https://localhost:8080/",
     "height": 918
    },
    "executionInfo": {
     "elapsed": 1874597,
     "status": "ok",
     "timestamp": 1749895428531,
     "user": {
      "displayName": "Hikari Research",
      "userId": "13771564110195447892"
     },
     "user_tz": -330
    },
    "id": "L8RUQE2alXF8",
    "outputId": "8ab3e1f3-c54e-4b03-99b3-a57c4358e0dc"
   },
   "outputs": [],
   "source": [
    "from sklearn.metrics import accuracy_score, precision_recall_fscore_support, roc_auc_score\n",
    "test_scores, test_labels = collect_scores(siamese_model, test_loader, device)\n",
    "# df = pd.read_csv('test_scores_labels.csv')\n",
    "# test_scores = df['score'].values\n",
    "# test_labels = df['label'].values.astype(int)\n",
    "plot_histogram(test_scores,test_labels,'test','test_hist_iam.png')\n",
    "for name, thr in thresholds.items():\n",
    "    preds = (test_scores >= thr).astype(int)\n",
    "    acc   = accuracy_score(test_labels, preds)\n",
    "    prec, rec, f1, _ = precision_recall_fscore_support(test_labels, preds, average=\"binary\")\n",
    "    auc  = roc_auc_score(test_labels, test_scores)\n",
    "    fpr, tpr, thresholdss = roc_curve(test_labels, test_scores)\n",
    "    fnr = 1 - tpr\n",
    "    eer_threshold_idx = np.argmin(np.abs(fpr - fnr))\n",
    "    eer = (fpr[eer_threshold_idx] + fnr[eer_threshold_idx]) / 2\n",
    "    eer_threshold = thresholdss[eer_threshold_idx]\n",
    "    print(f\"\\nThreshold used     : {name}\")\n",
    "    print(f\"Threshold value    : {thr:.3f}\")\n",
    "    print(f\"ROC-AUC            : {auc:.4f}\")\n",
    "    print(f\"Accuracy           : {acc:.4f}\")\n",
    "    print(f\"Precision          : {prec:.4f}\")\n",
    "    print(f\"Recall             : {rec:.4f}\")\n",
    "    print(f\"F1-score           : {f1:.4f}\")\n",
    "    print(f\"EER                : {eer:.4f}\")"
   ]
  }
 ],
 "metadata": {
  "accelerator": "GPU",
  "colab": {
   "gpuType": "T4",
   "machine_shape": "hm",
   "provenance": []
  },
  "kernelspec": {
   "display_name": "Python 3",
   "name": "python3"
  },
  "language_info": {
   "codemirror_mode": {
    "name": "ipython",
    "version": 3
   },
   "file_extension": ".py",
   "mimetype": "text/x-python",
   "name": "python",
   "nbconvert_exporter": "python",
   "pygments_lexer": "ipython3",
   "version": "3.12.7"
  },
  "widgets": {
   "application/vnd.jupyter.widget-state+json": {
    "11872caaa9504b0785a3a0d03e90cf89": {
     "model_module": "@jupyter-widgets/controls",
     "model_module_version": "1.5.0",
     "model_name": "FloatProgressModel",
     "state": {
      "_dom_classes": [],
      "_model_module": "@jupyter-widgets/controls",
      "_model_module_version": "1.5.0",
      "_model_name": "FloatProgressModel",
      "_view_count": null,
      "_view_module": "@jupyter-widgets/controls",
      "_view_module_version": "1.5.0",
      "_view_name": "ProgressView",
      "bar_style": "success",
      "description": "",
      "description_tooltip": null,
      "layout": "IPY_MODEL_7a3cd9153db94136a5bcffc023d9c6da",
      "max": 347461216,
      "min": 0,
      "orientation": "horizontal",
      "style": "IPY_MODEL_3b2def38f321413081eb60428df210f4",
      "value": 347461216
     }
    },
    "12e5efecfe9e4421a8b5bfe6fd76803c": {
     "model_module": "@jupyter-widgets/controls",
     "model_module_version": "1.5.0",
     "model_name": "HBoxModel",
     "state": {
      "_dom_classes": [],
      "_model_module": "@jupyter-widgets/controls",
      "_model_module_version": "1.5.0",
      "_model_name": "HBoxModel",
      "_view_count": null,
      "_view_module": "@jupyter-widgets/controls",
      "_view_module_version": "1.5.0",
      "_view_name": "HBoxView",
      "box_style": "",
      "children": [
       "IPY_MODEL_ddaca87fc736473d8780685c96a72712",
       "IPY_MODEL_c9ead4575b214965b91c259bf984645f",
       "IPY_MODEL_2e2a43adc9a1472aa8750e9058813110"
      ],
      "layout": "IPY_MODEL_941e980742264fa582ee218ab9cf65ad"
     }
    },
    "28700b37967e4dc3b5c62f92e21eb6d1": {
     "model_module": "@jupyter-widgets/controls",
     "model_module_version": "1.5.0",
     "model_name": "HTMLModel",
     "state": {
      "_dom_classes": [],
      "_model_module": "@jupyter-widgets/controls",
      "_model_module_version": "1.5.0",
      "_model_name": "HTMLModel",
      "_view_count": null,
      "_view_module": "@jupyter-widgets/controls",
      "_view_module_version": "1.5.0",
      "_view_name": "HTMLView",
      "description": "",
      "description_tooltip": null,
      "layout": "IPY_MODEL_6cf3da23f34349ef9357df5232fd5522",
      "placeholder": "​",
      "style": "IPY_MODEL_98cf4a6c6396428fa46c860ffbfe2188",
      "value": "model.safetensors: 100%"
     }
    },
    "2c11529e5c7147a8b7246c118bfe3b88": {
     "model_module": "@jupyter-widgets/base",
     "model_module_version": "1.2.0",
     "model_name": "LayoutModel",
     "state": {
      "_model_module": "@jupyter-widgets/base",
      "_model_module_version": "1.2.0",
      "_model_name": "LayoutModel",
      "_view_count": null,
      "_view_module": "@jupyter-widgets/base",
      "_view_module_version": "1.2.0",
      "_view_name": "LayoutView",
      "align_content": null,
      "align_items": null,
      "align_self": null,
      "border": null,
      "bottom": null,
      "display": null,
      "flex": null,
      "flex_flow": null,
      "grid_area": null,
      "grid_auto_columns": null,
      "grid_auto_flow": null,
      "grid_auto_rows": null,
      "grid_column": null,
      "grid_gap": null,
      "grid_row": null,
      "grid_template_areas": null,
      "grid_template_columns": null,
      "grid_template_rows": null,
      "height": null,
      "justify_content": null,
      "justify_items": null,
      "left": null,
      "margin": null,
      "max_height": null,
      "max_width": null,
      "min_height": null,
      "min_width": null,
      "object_fit": null,
      "object_position": null,
      "order": null,
      "overflow": null,
      "overflow_x": null,
      "overflow_y": null,
      "padding": null,
      "right": null,
      "top": null,
      "visibility": null,
      "width": null
     }
    },
    "2e2a43adc9a1472aa8750e9058813110": {
     "model_module": "@jupyter-widgets/controls",
     "model_module_version": "1.5.0",
     "model_name": "HTMLModel",
     "state": {
      "_dom_classes": [],
      "_model_module": "@jupyter-widgets/controls",
      "_model_module_version": "1.5.0",
      "_model_name": "HTMLModel",
      "_view_count": null,
      "_view_module": "@jupyter-widgets/controls",
      "_view_module_version": "1.5.0",
      "_view_name": "HTMLView",
      "description": "",
      "description_tooltip": null,
      "layout": "IPY_MODEL_2c11529e5c7147a8b7246c118bfe3b88",
      "placeholder": "​",
      "style": "IPY_MODEL_c70c3e658c0e4e2693245a06405810d8",
      "value": " 69.7k/69.7k [00:00&lt;00:00, 4.41MB/s]"
     }
    },
    "3421845ff0ce46849d279a16217e0393": {
     "model_module": "@jupyter-widgets/controls",
     "model_module_version": "1.5.0",
     "model_name": "DescriptionStyleModel",
     "state": {
      "_model_module": "@jupyter-widgets/controls",
      "_model_module_version": "1.5.0",
      "_model_name": "DescriptionStyleModel",
      "_view_count": null,
      "_view_module": "@jupyter-widgets/base",
      "_view_module_version": "1.2.0",
      "_view_name": "StyleView",
      "description_width": ""
     }
    },
    "3b2def38f321413081eb60428df210f4": {
     "model_module": "@jupyter-widgets/controls",
     "model_module_version": "1.5.0",
     "model_name": "ProgressStyleModel",
     "state": {
      "_model_module": "@jupyter-widgets/controls",
      "_model_module_version": "1.5.0",
      "_model_name": "ProgressStyleModel",
      "_view_count": null,
      "_view_module": "@jupyter-widgets/base",
      "_view_module_version": "1.2.0",
      "_view_name": "StyleView",
      "bar_color": null,
      "description_width": ""
     }
    },
    "4e91fad93c0b4643a61e22ba0c7cf069": {
     "model_module": "@jupyter-widgets/base",
     "model_module_version": "1.2.0",
     "model_name": "LayoutModel",
     "state": {
      "_model_module": "@jupyter-widgets/base",
      "_model_module_version": "1.2.0",
      "_model_name": "LayoutModel",
      "_view_count": null,
      "_view_module": "@jupyter-widgets/base",
      "_view_module_version": "1.2.0",
      "_view_name": "LayoutView",
      "align_content": null,
      "align_items": null,
      "align_self": null,
      "border": null,
      "bottom": null,
      "display": null,
      "flex": null,
      "flex_flow": null,
      "grid_area": null,
      "grid_auto_columns": null,
      "grid_auto_flow": null,
      "grid_auto_rows": null,
      "grid_column": null,
      "grid_gap": null,
      "grid_row": null,
      "grid_template_areas": null,
      "grid_template_columns": null,
      "grid_template_rows": null,
      "height": null,
      "justify_content": null,
      "justify_items": null,
      "left": null,
      "margin": null,
      "max_height": null,
      "max_width": null,
      "min_height": null,
      "min_width": null,
      "object_fit": null,
      "object_position": null,
      "order": null,
      "overflow": null,
      "overflow_x": null,
      "overflow_y": null,
      "padding": null,
      "right": null,
      "top": null,
      "visibility": null,
      "width": null
     }
    },
    "61ea4fbec77b4d84976af29ad4d6eee2": {
     "model_module": "@jupyter-widgets/base",
     "model_module_version": "1.2.0",
     "model_name": "LayoutModel",
     "state": {
      "_model_module": "@jupyter-widgets/base",
      "_model_module_version": "1.2.0",
      "_model_name": "LayoutModel",
      "_view_count": null,
      "_view_module": "@jupyter-widgets/base",
      "_view_module_version": "1.2.0",
      "_view_name": "LayoutView",
      "align_content": null,
      "align_items": null,
      "align_self": null,
      "border": null,
      "bottom": null,
      "display": null,
      "flex": null,
      "flex_flow": null,
      "grid_area": null,
      "grid_auto_columns": null,
      "grid_auto_flow": null,
      "grid_auto_rows": null,
      "grid_column": null,
      "grid_gap": null,
      "grid_row": null,
      "grid_template_areas": null,
      "grid_template_columns": null,
      "grid_template_rows": null,
      "height": null,
      "justify_content": null,
      "justify_items": null,
      "left": null,
      "margin": null,
      "max_height": null,
      "max_width": null,
      "min_height": null,
      "min_width": null,
      "object_fit": null,
      "object_position": null,
      "order": null,
      "overflow": null,
      "overflow_x": null,
      "overflow_y": null,
      "padding": null,
      "right": null,
      "top": null,
      "visibility": null,
      "width": null
     }
    },
    "65eab3881cfd4173b026311d9406c984": {
     "model_module": "@jupyter-widgets/controls",
     "model_module_version": "1.5.0",
     "model_name": "ProgressStyleModel",
     "state": {
      "_model_module": "@jupyter-widgets/controls",
      "_model_module_version": "1.5.0",
      "_model_name": "ProgressStyleModel",
      "_view_count": null,
      "_view_module": "@jupyter-widgets/base",
      "_view_module_version": "1.2.0",
      "_view_name": "StyleView",
      "bar_color": null,
      "description_width": ""
     }
    },
    "6cf3da23f34349ef9357df5232fd5522": {
     "model_module": "@jupyter-widgets/base",
     "model_module_version": "1.2.0",
     "model_name": "LayoutModel",
     "state": {
      "_model_module": "@jupyter-widgets/base",
      "_model_module_version": "1.2.0",
      "_model_name": "LayoutModel",
      "_view_count": null,
      "_view_module": "@jupyter-widgets/base",
      "_view_module_version": "1.2.0",
      "_view_name": "LayoutView",
      "align_content": null,
      "align_items": null,
      "align_self": null,
      "border": null,
      "bottom": null,
      "display": null,
      "flex": null,
      "flex_flow": null,
      "grid_area": null,
      "grid_auto_columns": null,
      "grid_auto_flow": null,
      "grid_auto_rows": null,
      "grid_column": null,
      "grid_gap": null,
      "grid_row": null,
      "grid_template_areas": null,
      "grid_template_columns": null,
      "grid_template_rows": null,
      "height": null,
      "justify_content": null,
      "justify_items": null,
      "left": null,
      "margin": null,
      "max_height": null,
      "max_width": null,
      "min_height": null,
      "min_width": null,
      "object_fit": null,
      "object_position": null,
      "order": null,
      "overflow": null,
      "overflow_x": null,
      "overflow_y": null,
      "padding": null,
      "right": null,
      "top": null,
      "visibility": null,
      "width": null
     }
    },
    "7a14ef6f8fe2493d968b5dfca9829a05": {
     "model_module": "@jupyter-widgets/base",
     "model_module_version": "1.2.0",
     "model_name": "LayoutModel",
     "state": {
      "_model_module": "@jupyter-widgets/base",
      "_model_module_version": "1.2.0",
      "_model_name": "LayoutModel",
      "_view_count": null,
      "_view_module": "@jupyter-widgets/base",
      "_view_module_version": "1.2.0",
      "_view_name": "LayoutView",
      "align_content": null,
      "align_items": null,
      "align_self": null,
      "border": null,
      "bottom": null,
      "display": null,
      "flex": null,
      "flex_flow": null,
      "grid_area": null,
      "grid_auto_columns": null,
      "grid_auto_flow": null,
      "grid_auto_rows": null,
      "grid_column": null,
      "grid_gap": null,
      "grid_row": null,
      "grid_template_areas": null,
      "grid_template_columns": null,
      "grid_template_rows": null,
      "height": null,
      "justify_content": null,
      "justify_items": null,
      "left": null,
      "margin": null,
      "max_height": null,
      "max_width": null,
      "min_height": null,
      "min_width": null,
      "object_fit": null,
      "object_position": null,
      "order": null,
      "overflow": null,
      "overflow_x": null,
      "overflow_y": null,
      "padding": null,
      "right": null,
      "top": null,
      "visibility": null,
      "width": null
     }
    },
    "7a3cd9153db94136a5bcffc023d9c6da": {
     "model_module": "@jupyter-widgets/base",
     "model_module_version": "1.2.0",
     "model_name": "LayoutModel",
     "state": {
      "_model_module": "@jupyter-widgets/base",
      "_model_module_version": "1.2.0",
      "_model_name": "LayoutModel",
      "_view_count": null,
      "_view_module": "@jupyter-widgets/base",
      "_view_module_version": "1.2.0",
      "_view_name": "LayoutView",
      "align_content": null,
      "align_items": null,
      "align_self": null,
      "border": null,
      "bottom": null,
      "display": null,
      "flex": null,
      "flex_flow": null,
      "grid_area": null,
      "grid_auto_columns": null,
      "grid_auto_flow": null,
      "grid_auto_rows": null,
      "grid_column": null,
      "grid_gap": null,
      "grid_row": null,
      "grid_template_areas": null,
      "grid_template_columns": null,
      "grid_template_rows": null,
      "height": null,
      "justify_content": null,
      "justify_items": null,
      "left": null,
      "margin": null,
      "max_height": null,
      "max_width": null,
      "min_height": null,
      "min_width": null,
      "object_fit": null,
      "object_position": null,
      "order": null,
      "overflow": null,
      "overflow_x": null,
      "overflow_y": null,
      "padding": null,
      "right": null,
      "top": null,
      "visibility": null,
      "width": null
     }
    },
    "941e980742264fa582ee218ab9cf65ad": {
     "model_module": "@jupyter-widgets/base",
     "model_module_version": "1.2.0",
     "model_name": "LayoutModel",
     "state": {
      "_model_module": "@jupyter-widgets/base",
      "_model_module_version": "1.2.0",
      "_model_name": "LayoutModel",
      "_view_count": null,
      "_view_module": "@jupyter-widgets/base",
      "_view_module_version": "1.2.0",
      "_view_name": "LayoutView",
      "align_content": null,
      "align_items": null,
      "align_self": null,
      "border": null,
      "bottom": null,
      "display": null,
      "flex": null,
      "flex_flow": null,
      "grid_area": null,
      "grid_auto_columns": null,
      "grid_auto_flow": null,
      "grid_auto_rows": null,
      "grid_column": null,
      "grid_gap": null,
      "grid_row": null,
      "grid_template_areas": null,
      "grid_template_columns": null,
      "grid_template_rows": null,
      "height": null,
      "justify_content": null,
      "justify_items": null,
      "left": null,
      "margin": null,
      "max_height": null,
      "max_width": null,
      "min_height": null,
      "min_width": null,
      "object_fit": null,
      "object_position": null,
      "order": null,
      "overflow": null,
      "overflow_x": null,
      "overflow_y": null,
      "padding": null,
      "right": null,
      "top": null,
      "visibility": null,
      "width": null
     }
    },
    "98cf4a6c6396428fa46c860ffbfe2188": {
     "model_module": "@jupyter-widgets/controls",
     "model_module_version": "1.5.0",
     "model_name": "DescriptionStyleModel",
     "state": {
      "_model_module": "@jupyter-widgets/controls",
      "_model_module_version": "1.5.0",
      "_model_name": "DescriptionStyleModel",
      "_view_count": null,
      "_view_module": "@jupyter-widgets/base",
      "_view_module_version": "1.2.0",
      "_view_name": "StyleView",
      "description_width": ""
     }
    },
    "995ccc09a2094213b8e40a55dda74baa": {
     "model_module": "@jupyter-widgets/base",
     "model_module_version": "1.2.0",
     "model_name": "LayoutModel",
     "state": {
      "_model_module": "@jupyter-widgets/base",
      "_model_module_version": "1.2.0",
      "_model_name": "LayoutModel",
      "_view_count": null,
      "_view_module": "@jupyter-widgets/base",
      "_view_module_version": "1.2.0",
      "_view_name": "LayoutView",
      "align_content": null,
      "align_items": null,
      "align_self": null,
      "border": null,
      "bottom": null,
      "display": null,
      "flex": null,
      "flex_flow": null,
      "grid_area": null,
      "grid_auto_columns": null,
      "grid_auto_flow": null,
      "grid_auto_rows": null,
      "grid_column": null,
      "grid_gap": null,
      "grid_row": null,
      "grid_template_areas": null,
      "grid_template_columns": null,
      "grid_template_rows": null,
      "height": null,
      "justify_content": null,
      "justify_items": null,
      "left": null,
      "margin": null,
      "max_height": null,
      "max_width": null,
      "min_height": null,
      "min_width": null,
      "object_fit": null,
      "object_position": null,
      "order": null,
      "overflow": null,
      "overflow_x": null,
      "overflow_y": null,
      "padding": null,
      "right": null,
      "top": null,
      "visibility": null,
      "width": null
     }
    },
    "c70c3e658c0e4e2693245a06405810d8": {
     "model_module": "@jupyter-widgets/controls",
     "model_module_version": "1.5.0",
     "model_name": "DescriptionStyleModel",
     "state": {
      "_model_module": "@jupyter-widgets/controls",
      "_model_module_version": "1.5.0",
      "_model_name": "DescriptionStyleModel",
      "_view_count": null,
      "_view_module": "@jupyter-widgets/base",
      "_view_module_version": "1.2.0",
      "_view_name": "StyleView",
      "description_width": ""
     }
    },
    "c9ead4575b214965b91c259bf984645f": {
     "model_module": "@jupyter-widgets/controls",
     "model_module_version": "1.5.0",
     "model_name": "FloatProgressModel",
     "state": {
      "_dom_classes": [],
      "_model_module": "@jupyter-widgets/controls",
      "_model_module_version": "1.5.0",
      "_model_name": "FloatProgressModel",
      "_view_count": null,
      "_view_module": "@jupyter-widgets/controls",
      "_view_module_version": "1.5.0",
      "_view_name": "ProgressView",
      "bar_style": "success",
      "description": "",
      "description_tooltip": null,
      "layout": "IPY_MODEL_7a14ef6f8fe2493d968b5dfca9829a05",
      "max": 69665,
      "min": 0,
      "orientation": "horizontal",
      "style": "IPY_MODEL_65eab3881cfd4173b026311d9406c984",
      "value": 69665
     }
    },
    "cbfe5f5f9037414aadd44906520517fa": {
     "model_module": "@jupyter-widgets/controls",
     "model_module_version": "1.5.0",
     "model_name": "HBoxModel",
     "state": {
      "_dom_classes": [],
      "_model_module": "@jupyter-widgets/controls",
      "_model_module_version": "1.5.0",
      "_model_name": "HBoxModel",
      "_view_count": null,
      "_view_module": "@jupyter-widgets/controls",
      "_view_module_version": "1.5.0",
      "_view_name": "HBoxView",
      "box_style": "",
      "children": [
       "IPY_MODEL_28700b37967e4dc3b5c62f92e21eb6d1",
       "IPY_MODEL_11872caaa9504b0785a3a0d03e90cf89",
       "IPY_MODEL_fd61212c980b441f86ee836dfb6e4cf6"
      ],
      "layout": "IPY_MODEL_61ea4fbec77b4d84976af29ad4d6eee2"
     }
    },
    "ddaca87fc736473d8780685c96a72712": {
     "model_module": "@jupyter-widgets/controls",
     "model_module_version": "1.5.0",
     "model_name": "HTMLModel",
     "state": {
      "_dom_classes": [],
      "_model_module": "@jupyter-widgets/controls",
      "_model_module_version": "1.5.0",
      "_model_name": "HTMLModel",
      "_view_count": null,
      "_view_module": "@jupyter-widgets/controls",
      "_view_module_version": "1.5.0",
      "_view_name": "HTMLView",
      "description": "",
      "description_tooltip": null,
      "layout": "IPY_MODEL_995ccc09a2094213b8e40a55dda74baa",
      "placeholder": "​",
      "style": "IPY_MODEL_e18ffeff82cf4f3fbbdc73b853f11f9a",
      "value": "config.json: 100%"
     }
    },
    "e18ffeff82cf4f3fbbdc73b853f11f9a": {
     "model_module": "@jupyter-widgets/controls",
     "model_module_version": "1.5.0",
     "model_name": "DescriptionStyleModel",
     "state": {
      "_model_module": "@jupyter-widgets/controls",
      "_model_module_version": "1.5.0",
      "_model_name": "DescriptionStyleModel",
      "_view_count": null,
      "_view_module": "@jupyter-widgets/base",
      "_view_module_version": "1.2.0",
      "_view_name": "StyleView",
      "description_width": ""
     }
    },
    "fd61212c980b441f86ee836dfb6e4cf6": {
     "model_module": "@jupyter-widgets/controls",
     "model_module_version": "1.5.0",
     "model_name": "HTMLModel",
     "state": {
      "_dom_classes": [],
      "_model_module": "@jupyter-widgets/controls",
      "_model_module_version": "1.5.0",
      "_model_name": "HTMLModel",
      "_view_count": null,
      "_view_module": "@jupyter-widgets/controls",
      "_view_module_version": "1.5.0",
      "_view_name": "HTMLView",
      "description": "",
      "description_tooltip": null,
      "layout": "IPY_MODEL_4e91fad93c0b4643a61e22ba0c7cf069",
      "placeholder": "​",
      "style": "IPY_MODEL_3421845ff0ce46849d279a16217e0393",
      "value": " 347M/347M [00:02&lt;00:00, 187MB/s]"
     }
    }
   }
  }
 },
 "nbformat": 4,
 "nbformat_minor": 0
}
