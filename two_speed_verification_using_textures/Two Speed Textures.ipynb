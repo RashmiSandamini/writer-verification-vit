{
 "cells": [
  {
   "cell_type": "code",
   "execution_count": null,
   "metadata": {
    "colab": {
     "base_uri": "https://localhost:8080/"
    },
    "collapsed": true,
    "executionInfo": {
     "elapsed": 74346,
     "status": "ok",
     "timestamp": 1753101700378,
     "user": {
      "displayName": "Hikari Research",
      "userId": "13771564110195447892"
     },
     "user_tz": -330
    },
    "id": "ndc5WBXQ03Di",
    "outputId": "2eb99b66-a816-4ddc-f63c-a3c653f5d45e"
   },
   "outputs": [],
   "source": [
    "!pip install torch torchvision transformers\n",
    "!pip install torchmetrics"
   ]
  },
  {
   "cell_type": "code",
   "execution_count": null,
   "metadata": {
    "colab": {
     "base_uri": "https://localhost:8080/"
    },
    "executionInfo": {
     "elapsed": 15976,
     "status": "ok",
     "timestamp": 1753101716358,
     "user": {
      "displayName": "Hikari Research",
      "userId": "13771564110195447892"
     },
     "user_tz": -330
    },
    "id": "gPCFqzOBAULj",
    "outputId": "aee519dd-e24b-41b0-8858-6d8b7637f6fd"
   },
   "outputs": [],
   "source": [
    "import torch\n",
    "import torch.nn as nn\n",
    "import torch.nn.functional as F\n",
    "from torch.utils.data import Dataset, DataLoader\n",
    "from transformers import ViTModel, ViTConfig\n",
    "import pandas as pd\n",
    "import os\n",
    "import numpy as np\n",
    "import gdown\n",
    "import zipfile\n",
    "from tqdm import tqdm\n",
    "import pandas as pd\n",
    "import numpy as np\n",
    "import torch\n",
    "import torch.nn as nn\n",
    "import torch.nn.functional as F\n",
    "from torch.utils.data import TensorDataset, DataLoader\n",
    "from sklearn.metrics import accuracy_score, f1_score, roc_auc_score, precision_score, recall_score, roc_curve\n",
    "from sklearn.metrics import confusion_matrix\n",
    "\n",
    "BASE_DIR = \"Data_V9_ViT\"\n",
    "scaler = torch.amp.GradScaler('cuda')\n",
    "device = torch.device(\"cuda\" if torch.cuda.is_available() else \"cpu\")\n",
    "print(\"Using device:\", device)"
   ]
  },
  {
   "cell_type": "code",
   "execution_count": null,
   "metadata": {
    "colab": {
     "base_uri": "https://localhost:8080/"
    },
    "executionInfo": {
     "elapsed": 159816,
     "status": "ok",
     "timestamp": 1753102042355,
     "user": {
      "displayName": "Hikari Research",
      "userId": "13771564110195447892"
     },
     "user_tz": -330
    },
    "id": "-x75Xp_uAert",
    "outputId": "4dcd31a1-564d-42c0-a1e2-e7f1517859e9"
   },
   "outputs": [],
   "source": [
    "file_id = \"file_id\"\n",
    "gdown.download(f\"https://drive.google.com/uc?id={file_id}\", \"Data_V9_ViT.zip\", quiet=False)\n",
    "with zipfile.ZipFile(\"Data_V9_ViT.zip\", 'r') as zip_ref:\n",
    "    zip_ref.extractall(\"\")"
   ]
  },
  {
   "cell_type": "markdown",
   "metadata": {
    "id": "LIqfMrofUETo"
   },
   "source": [
    "## ViT Model"
   ]
  },
  {
   "cell_type": "code",
   "execution_count": null,
   "metadata": {
    "id": "mkdgxYF2AAIt"
   },
   "outputs": [],
   "source": [
    "class LoadDataset(Dataset):\n",
    "    def __init__(self, parquet_path, base_dir=BASE_DIR):\n",
    "        super().__init__()\n",
    "        self.df = pd.read_parquet(parquet_path)\n",
    "        self.base_dir = base_dir.rstrip(\"/\")\n",
    "\n",
    "    def __len__(self):\n",
    "        return len(self.df)\n",
    "\n",
    "    def __getitem__(self, idx):\n",
    "        row = self.df.iloc[idx]\n",
    "\n",
    "        def pt_path(rel_path: str) -> str:\n",
    "            return os.path.join(self.base_dir, rel_path + \".pt\")\n",
    "\n",
    "        img1_path = pt_path(row[\"sample_1\"])\n",
    "        img2_path = pt_path(row[\"sample_2\"])\n",
    "\n",
    "        try:\n",
    "            img1_tensor = torch.load(img1_path)\n",
    "        except Exception as e:\n",
    "            raise ValueError(f\"Could not load tensor at {img1_path}: {e}\")\n",
    "\n",
    "        try:\n",
    "            img2_tensor = torch.load(img2_path)\n",
    "        except Exception as e:\n",
    "            raise ValueError(f\"Could not load tensor at {img2_path}: {e}\")\n",
    "\n",
    "        label = float(row[\"label\"])\n",
    "        label_tensor = torch.tensor(label, dtype=torch.float32).unsqueeze(0)\n",
    "\n",
    "        return img1_tensor, img2_tensor, label_tensor, row[\"sample_1\"], row[\"sample_2\"]"
   ]
  },
  {
   "cell_type": "code",
   "execution_count": null,
   "metadata": {
    "colab": {
     "base_uri": "https://localhost:8080/",
     "height": 247,
     "referenced_widgets": [
      "f76618abebca413caa377154ac5d005f",
      "d593ceb759494a72ad4d2842fd8fa95f",
      "1d1255ab9f0c40c5a0b6dc26d3cc3d76",
      "494ef2440330423a94ee3f4c95f02c2d",
      "86127cc149a041a99a5bbdd85c730265",
      "4ea07d13125b4de5bf49589485709234",
      "81a27e0f341e489485bae26b6b5f213f",
      "e24b7bdd5a3e483abdce8b3fc7ac286c",
      "5520a297454d4bffad5f11bc21d8107d",
      "eb2d7295e8294866869f7bb8d7d88ab5",
      "70ac58c6c0a14dc4ab3e47fcc44b7e04",
      "f16b451a829c431db12d4cc8ce673874",
      "16c6e3b6e115427890177d9b8236c980",
      "114d401c99f4474ebce26555ecc6b150",
      "93c2fbb32015460e9dbe3e1c0b03e9d5",
      "056dc5bfb1d9485cbe7ff886e89fe375",
      "8d3ec992aa1a497a95aa4a7438741c06",
      "8c5e56fe29ba4e10a19721660bd81750",
      "c3f071d0b1bd4f8a84833ae2887f2dc3",
      "f682e871a4054544aee09eab62a83aba",
      "0befc63c0e1f489f9a53c8593c1802c6",
      "e5e8803b61664009b5d4f684b5d2e565"
     ]
    },
    "executionInfo": {
     "elapsed": 3498,
     "status": "ok",
     "timestamp": 1753101719860,
     "user": {
      "displayName": "Hikari Research",
      "userId": "13771564110195447892"
     },
     "user_tz": -330
    },
    "id": "6JPlj9AWusbq",
    "outputId": "9bca1e78-df53-4774-d04d-acb42f7d6bb6"
   },
   "outputs": [],
   "source": [
    "vit_name = \"google/vit-base-patch16-384\"\n",
    "config = ViTConfig.from_pretrained(vit_name)\n",
    "vit_backbone = ViTModel.from_pretrained(vit_name, config=config).to(device)\n",
    "\n",
    "for param in vit_backbone.embeddings.parameters():\n",
    "    param.requires_grad = False\n",
    "\n",
    "for i in range(6):\n",
    "    for param in vit_backbone.encoder.layer[i].parameters():\n",
    "        param.requires_grad = False"
   ]
  },
  {
   "cell_type": "code",
   "execution_count": null,
   "metadata": {
    "id": "UkA1I9e7yzku"
   },
   "outputs": [],
   "source": [
    "class ViTEmbedder(nn.Module):\n",
    "    def __init__(self, vit_model):\n",
    "        super().__init__()\n",
    "        self.vit = vit_model\n",
    "\n",
    "    def forward(self, x):\n",
    "        outputs = self.vit(pixel_values=x) \n",
    "        return outputs.pooler_output         \n",
    "\n",
    "vit_embedder = ViTEmbedder(vit_backbone).to(device)"
   ]
  },
  {
   "cell_type": "code",
   "execution_count": null,
   "metadata": {
    "id": "BN0MmN3XOKzW"
   },
   "outputs": [],
   "source": [
    "class ProjectionHead(nn.Module):\n",
    "    def __init__(self, in_dim=768, hidden_dims=[1024, 512, 256], dropout=0.1):\n",
    "        super().__init__()\n",
    "        layers = []\n",
    "        prev = in_dim\n",
    "        for h in hidden_dims:\n",
    "            layers += [\n",
    "                nn.Linear(prev, h),\n",
    "                nn.LayerNorm(h),\n",
    "                nn.GELU(),\n",
    "            ]\n",
    "            prev = h\n",
    "        self.net = nn.Sequential(*layers)\n",
    "\n",
    "    def forward(self, x):\n",
    "        z = self.net(x)          \n",
    "        return F.normalize(z, p=2, dim=1)\n",
    "\n",
    "proj_head = ProjectionHead(\n",
    "    in_dim=768,\n",
    "    hidden_dims=[512, 256, 128],\n",
    "    dropout=0.1\n",
    ").to(device)"
   ]
  },
  {
   "cell_type": "code",
   "execution_count": null,
   "metadata": {
    "id": "rS4wyUhg3gk0"
   },
   "outputs": [],
   "source": [
    "class EuclideanDistance(nn.Module):\n",
    "    def __init__(self, eps: float = 1e-7):\n",
    "        super().__init__()\n",
    "        self.eps = eps\n",
    "\n",
    "    def forward(self, x: torch.Tensor, y: torch.Tensor) -> torch.Tensor:\n",
    "        diff_sq = (x - y).pow(2)\n",
    "        sum_sq = diff_sq.sum(dim=1, keepdim=True)\n",
    "        sum_sq = torch.clamp(sum_sq, min=self.eps)\n",
    "        return torch.sqrt(sum_sq)"
   ]
  },
  {
   "cell_type": "code",
   "execution_count": null,
   "metadata": {
    "id": "qe--YAqC3stO"
   },
   "outputs": [],
   "source": [
    "class SiameseViT(nn.Module):\n",
    "    def __init__(self, embedder, head):\n",
    "        super().__init__()\n",
    "        self.embedder = embedder\n",
    "        self.head = head\n",
    "        self.distance = EuclideanDistance()\n",
    "\n",
    "    def forward_once(self, img):\n",
    "        cls_emb = self.embedder(img)\n",
    "        emb256 = self.head(cls_emb)\n",
    "        return emb256\n",
    "\n",
    "    def forward(self, img_a, img_b):\n",
    "        emb_a = self.forward_once(img_a)\n",
    "        emb_b = self.forward_once(img_b)\n",
    "        dist = self.distance(emb_a, emb_b)\n",
    "        return dist\n",
    "\n",
    "siamese_model = SiameseViT(vit_embedder, proj_head).to(device)"
   ]
  },
  {
   "cell_type": "code",
   "execution_count": null,
   "metadata": {
    "id": "-UMZ525h4F1o"
   },
   "outputs": [],
   "source": [
    "class ContrastiveLoss(nn.Module):\n",
    "    def __init__(self, margin=1.0):\n",
    "        super().__init__()\n",
    "        self.margin = margin\n",
    "\n",
    "    def forward(self, dist, label):\n",
    "\n",
    "        label = label.view(-1, 1)\n",
    "        pos_loss = (1.0 - label) * torch.pow(dist, 2)\n",
    "        neg_loss = label * torch.pow(torch.clamp(self.margin - dist, min=0.0), 2)\n",
    "        loss = torch.mean(pos_loss + neg_loss)\n",
    "        return loss\n",
    "\n",
    "criterion = ContrastiveLoss(margin=1.0).to(device)\n"
   ]
  },
  {
   "cell_type": "markdown",
   "metadata": {
    "id": "qKNHiP58CiM4"
   },
   "source": [
    "## Two Speed Distance Calculation\n"
   ]
  },
  {
   "cell_type": "code",
   "execution_count": null,
   "metadata": {
    "colab": {
     "base_uri": "https://localhost:8080/",
     "height": 109
    },
    "executionInfo": {
     "elapsed": 1614,
     "status": "ok",
     "timestamp": 1753101721579,
     "user": {
      "displayName": "Hikari Research",
      "userId": "13771564110195447892"
     },
     "user_tz": -330
    },
    "id": "BSLIu3yjHSfU",
    "outputId": "390018b7-6753-4cbf-8894-e7f449d8bdbe"
   },
   "outputs": [],
   "source": [
    "file_id = \"file_id\"\n",
    "gdown.download(f\"https://drive.google.com/uc?id={file_id}\", \"uni_test.parquet\", quiet=False)\n",
    "\n",
    "# file_id = \"file_id\"\n",
    "# gdown.download(f\"https://drive.google.com/uc?id={file_id}\", \"uni_train.parquet\", quiet=False)\n",
    "\n",
    "# file_id = \"file_id\"\n",
    "# gdown.download(f\"https://drive.google.com/uc?id={file_id}\", \"uni_val.parquet\", quiet=False)"
   ]
  },
  {
   "cell_type": "code",
   "execution_count": null,
   "metadata": {
    "colab": {
     "base_uri": "https://localhost:8080/"
    },
    "executionInfo": {
     "elapsed": 7028,
     "status": "ok",
     "timestamp": 1753101728623,
     "user": {
      "displayName": "Hikari Research",
      "userId": "13771564110195447892"
     },
     "user_tz": -330
    },
    "id": "ZxgR0AD3Hxf3",
    "outputId": "2f2a416b-ac8a-48c9-ab21-d80c2c0ef7ec"
   },
   "outputs": [],
   "source": [
    "file_id = \"1ASQuT-LU5H1f_ydTrytQ-f5k8l-C7-yw\"\n",
    "gdown.download(f\"https://drive.google.com/uc?id={file_id}\", \"best_model.pt\", quiet=False)\n",
    "\n",
    "siamese_model = SiameseViT(vit_embedder, proj_head).to(device)\n",
    "siamese_model.load_state_dict(torch.load(\"best_model.pt\", map_location=device))"
   ]
  },
  {
   "cell_type": "code",
   "execution_count": null,
   "metadata": {
    "id": "vYHs44_pFiBD"
   },
   "outputs": [],
   "source": [
    "def load_tensor(rel_path):\n",
    "    path = os.path.join(rel_path + \".pt\")\n",
    "    return torch.load(path).unsqueeze(0).to(device)  # shape: (1, C, H, W)"
   ]
  },
  {
   "cell_type": "code",
   "execution_count": null,
   "metadata": {
    "colab": {
     "base_uri": "https://localhost:8080/"
    },
    "executionInfo": {
     "elapsed": 50726,
     "status": "ok",
     "timestamp": 1753102100263,
     "user": {
      "displayName": "Hikari Research",
      "userId": "13771564110195447892"
     },
     "user_tz": -330
    },
    "id": "lq1SWxWzCoBs",
    "outputId": "617cd185-4a69-4af1-de65-1daa9d4f060c"
   },
   "outputs": [],
   "source": [
    "df = pd.read_parquet(\"uni_test.parquet\")\n",
    "rows = []\n",
    "\n",
    "siamese_model.eval()  # Important: eval mode for inference\n",
    "\n",
    "with torch.no_grad():\n",
    "    for idx, row in tqdm(df.iterrows(), total=len(df), desc=\"Computing ViT embeddings\"):\n",
    "        p1N = load_tensor(row[\"sample_1_N\"])\n",
    "        p1F = load_tensor(row[\"sample_1_F\"])\n",
    "        p2N = load_tensor(row[\"sample_2_N\"])\n",
    "        p2F = load_tensor(row[\"sample_2_F\"])\n",
    "\n",
    "        emb_1N = siamese_model.forward_once(p1N)\n",
    "        emb_1F = siamese_model.forward_once(p1F)\n",
    "        emb_2N = siamese_model.forward_once(p2N)\n",
    "        emb_2F = siamese_model.forward_once(p2F)\n",
    "\n",
    "        # Compute distances\n",
    "        d_1N_1F = torch.norm(emb_1N - emb_1F).item()\n",
    "        d_2N_2F = torch.norm(emb_2N - emb_2F).item()\n",
    "        d_1N_2N = torch.norm(emb_1N - emb_2N).item()\n",
    "        d_1N_2F = torch.norm(emb_1N - emb_2F).item()\n",
    "        d_1F_2N = torch.norm(emb_1F - emb_2N).item()\n",
    "        d_1F_2F = torch.norm(emb_1F - emb_2F).item()\n",
    "\n",
    "        sample_1_N = os.path.basename(row[\"sample_1_N\"])\n",
    "        sample_1_F = os.path.basename(row[\"sample_1_F\"])\n",
    "        sample_2_N = os.path.basename(row[\"sample_2_N\"])\n",
    "        sample_2_F = os.path.basename(row[\"sample_2_F\"])\n",
    "\n",
    "        rows.append({\n",
    "            \"d_1N_1F\": d_1N_1F,\n",
    "            \"d_2N_2F\": d_2N_2F,\n",
    "            \"d_1N_2N\": d_1N_2N,\n",
    "            \"d_1N_2F\": d_1N_2F,\n",
    "            \"d_1F_2N\": d_1F_2N,\n",
    "            \"d_1F_2F\": d_1F_2F,\n",
    "            \"sample_1_N\": sample_1_N,\n",
    "            \"sample_1_F\": sample_1_F,\n",
    "            \"sample_2_N\": sample_2_N,\n",
    "            \"sample_2_F\": sample_2_F,\n",
    "            \"label\": row[\"label\"]\n",
    "        })\n",
    "\n",
    "dist_df = pd.DataFrame(rows)\n",
    "dist_df.to_parquet(\"test_dissimilarity_dataset_vit.parquet\", index=False)\n",
    "dist_df.to_csv(\"test_dissimilarity_dataset_vit.csv\", index=False)"
   ]
  },
  {
   "cell_type": "markdown",
   "metadata": {
    "id": "8c_HZgEE9qjI"
   },
   "source": [
    "## PairNet Model"
   ]
  },
  {
   "cell_type": "code",
   "execution_count": null,
   "metadata": {
    "id": "vEEIBDM3zN1X"
   },
   "outputs": [],
   "source": [
    "df_train = pd.read_parquet(\"train_dissimilarity_dataset_vit.parquet\")\n",
    "df_test = pd.read_parquet(\"test_dissimilarity_dataset_vit.parquet\")\n",
    "df_val = pd.read_parquet(\"val_dissimilarity_dataset_vit.parquet\")\n",
    "\n",
    "X_train = df_train[[\"d_1N_1F\", \"d_2N_2F\", \"d_1N_2N\", \"d_1N_2F\", \"d_1F_2N\", \"d_1F_2F\"]].values\n",
    "X_test = df_test[[\"d_1N_1F\", \"d_2N_2F\", \"d_1N_2N\", \"d_1N_2F\", \"d_1F_2N\", \"d_1F_2F\"]].values\n",
    "X_val = df_val[[\"d_1N_1F\", \"d_2N_2F\", \"d_1N_2N\", \"d_1N_2F\", \"d_1F_2N\", \"d_1F_2F\"]].values\n",
    "\n",
    "y_train = df_train[\"label\"].values\n",
    "y_test = df_test[\"label\"].values\n",
    "y_val = df_val[\"label\"].values\n",
    "\n",
    "X_train_tensor = torch.tensor(X_train, dtype=torch.float32)\n",
    "X_test_tensor = torch.tensor(X_test, dtype=torch.float32)\n",
    "X_val_tensor = torch.tensor(X_val, dtype=torch.float32)\n",
    "y_train_tensor = torch.tensor(y_train, dtype=torch.float32).unsqueeze(1)\n",
    "y_test_tensor = torch.tensor(y_test, dtype=torch.float32).unsqueeze(1)\n",
    "y_val_tensor = torch.tensor(y_val, dtype=torch.float32).unsqueeze(1)\n",
    "\n",
    "train_dataset = TensorDataset(X_train_tensor, y_train_tensor)\n",
    "train_loader = DataLoader(train_dataset, batch_size=32, shuffle=True)\n",
    "\n",
    "class PairNet(nn.Module):\n",
    "    def __init__(self):\n",
    "        super(PairNet, self).__init__()\n",
    "        self.fc1 = nn.Linear(6, 4)\n",
    "        self.fc2 = nn.Linear(4, 2)\n",
    "        self.out = nn.Linear(2, 1)\n",
    "\n",
    "    def forward(self, x):\n",
    "        x = F.relu(self.fc1(x))\n",
    "        x = F.relu(self.fc2(x))\n",
    "        return self.out(x)\n",
    "\n",
    "model = PairNet()\n",
    "criterion = nn.BCEWithLogitsLoss()\n",
    "optimizer = torch.optim.Adam(model.parameters(), lr=1e-4)\n",
    "\n",
    "def find_eer_threshold(y_true, y_probs):\n",
    "    fpr, tpr, thresholds = roc_curve(y_true, y_probs)\n",
    "    fnr = 1 - tpr\n",
    "    idx = np.argmin(np.abs(fpr - fnr))\n",
    "    eer = (fpr[idx] + fnr[idx]) / 2\n",
    "    return thresholds[idx], eer\n",
    "\n",
    "best_val_loss = float(\"inf\")\n",
    "best_model_state = None\n",
    "best_threshold = 0.5\n",
    "patience = 40\n",
    "trigger_times = 0\n",
    "\n",
    "for epoch in range(500):\n",
    "    model.train()\n",
    "    epoch_loss = 0.0\n",
    "    for batch_X, batch_y in train_loader:\n",
    "        optimizer.zero_grad()\n",
    "        output = model(batch_X)\n",
    "        loss = criterion(output, batch_y)\n",
    "        loss.backward()\n",
    "        optimizer.step()\n",
    "        epoch_loss += loss.item()\n",
    "\n",
    "    # Validation\n",
    "    model.eval()\n",
    "    with torch.no_grad():\n",
    "        val_output = model(X_val_tensor)\n",
    "        val_loss = criterion(val_output, y_val_tensor)\n",
    "\n",
    "        val_probs = torch.sigmoid(val_output).numpy().flatten()\n",
    "        val_true = y_val_tensor.numpy().flatten()\n",
    "\n",
    "        # EER-based threshold\n",
    "        eer_thresh, eer_val = find_eer_threshold(val_true, val_probs)\n",
    "        val_preds = (val_probs > eer_thresh).astype(int)\n",
    "\n",
    "        val_acc = accuracy_score(val_true, val_preds)\n",
    "        val_f1 = f1_score(val_true, val_preds, zero_division=0)\n",
    "        val_prec = precision_score(val_true, val_preds, zero_division=0)\n",
    "        val_rec = recall_score(val_true, val_preds, zero_division=0)\n",
    "\n",
    "    print(f\"Epoch {epoch+1}, Train Loss: {epoch_loss:.4f}, Val Loss: {val_loss.item():.4f}, \"\n",
    "          f\"Val Acc: {val_acc:.4f}, F1: {val_f1:.4f}, Precision: {val_prec:.4f}, Recall: {val_rec:.4f}, EER: {eer_val:.4f}\")\n",
    "\n",
    "    if val_loss.item() < best_val_loss:\n",
    "        best_val_loss = val_loss.item()\n",
    "        best_model_state = model.state_dict()\n",
    "        best_threshold = eer_thresh\n",
    "        trigger_times = 0\n",
    "    else:\n",
    "        trigger_times += 1\n",
    "        if trigger_times >= patience:\n",
    "            print(\"Early stopping triggered.\")\n",
    "            break\n",
    "\n",
    "model.load_state_dict(best_model_state)\n",
    "\n",
    "print(\"Min prob:\", val_probs.min(), \"Max prob:\", val_probs.max(), \"Threshold:\", eer_thresh)\n",
    "\n",
    "model.eval()\n",
    "with torch.no_grad():\n",
    "    logits = model(X_test_tensor)\n",
    "    test_probs = torch.sigmoid(logits).numpy().flatten()\n",
    "    test_preds = (test_probs > best_threshold).astype(int)\n",
    "    test_true = y_test_tensor.numpy().flatten()\n",
    "\n",
    "test_metrics = {\n",
    "    \"Accuracy\": accuracy_score(test_true, test_preds),\n",
    "    \"F1 Score\": f1_score(test_true, test_preds),\n",
    "    \"ROC AUC\": roc_auc_score(test_true, test_probs),\n",
    "    \"Precision\": precision_score(test_true, test_preds),\n",
    "    \"Recall\": recall_score(test_true, test_preds),\n",
    "    \"EER Threshold\": best_threshold\n",
    "}"
   ]
  },
  {
   "cell_type": "code",
   "execution_count": null,
   "metadata": {
    "id": "jubHeG-ESUWb"
   },
   "outputs": [],
   "source": [
    "torch.save({\n",
    "    'model_state_dict': model.state_dict(),\n",
    "    'best_threshold': best_threshold,\n",
    "}, \"pairnet_model.pth\")"
   ]
  },
  {
   "cell_type": "code",
   "execution_count": null,
   "metadata": {
    "colab": {
     "base_uri": "https://localhost:8080/"
    },
    "executionInfo": {
     "elapsed": 29,
     "status": "ok",
     "timestamp": 1753670815043,
     "user": {
      "displayName": "Rashmi Sandamini",
      "userId": "17082450369188033534"
     },
     "user_tz": -330
    },
    "id": "-7S8fP8FCH37",
    "outputId": "9e8522c6-8e63-46d1-ee66-bb144503952e"
   },
   "outputs": [],
   "source": [
    "file_id = \"1HvTVqpN5PNSdDZkroQPp-8Yjg-tNRVdt\"\n",
    "gdown.download(f\"https://drive.google.com/uc?id={file_id}\", \"pairnet_model.pth\", quiet=False)\n",
    "checkpoint = torch.load(\"pairnet_model.pth\", weights_only=False)"
   ]
  },
  {
   "cell_type": "code",
   "execution_count": null,
   "metadata": {
    "colab": {
     "base_uri": "https://localhost:8080/"
    },
    "executionInfo": {
     "elapsed": 59,
     "status": "ok",
     "timestamp": 1753102294304,
     "user": {
      "displayName": "Hikari Research",
      "userId": "13771564110195447892"
     },
     "user_tz": -330
    },
    "id": "I6ck1c8ASmhd",
    "outputId": "a0b77d8f-e6de-4f33-9254-4070dbd7d389"
   },
   "outputs": [],
   "source": [
    "model = PairNet()\n",
    "checkpoint = torch.load(\"pairnet_model.pth\", weights_only=False)\n",
    "model.load_state_dict(checkpoint[\"model_state_dict\"])\n",
    "model.eval()\n",
    "\n",
    "best_threshold = checkpoint[\"best_threshold\"]\n",
    "\n",
    "with torch.no_grad():\n",
    "    logits = model(X_test_tensor)\n",
    "    test_probs = torch.sigmoid(logits).numpy().flatten()\n",
    "    test_preds = (test_probs > best_threshold).astype(int)\n",
    "    test_true = y_test_tensor.numpy().flatten()\n",
    "\n",
    "def compute_far_frr(y_true, y_pred):\n",
    "    tn, fp, fn, tp = confusion_matrix(y_true, y_pred, labels=[1, 0]).ravel()\n",
    "    far = fp / (fp + tn) if (fp + tn) > 0 else 0.0\n",
    "    frr = fn / (fn + tp) if (fn + tp) > 0 else 0.0\n",
    "    return far, frr\n",
    "\n",
    "far, frr = compute_far_frr(test_true, test_preds)\n",
    "\n",
    "test_metrics = {\n",
    "    \"Accuracy\": accuracy_score(test_true, test_preds),\n",
    "    \"F1 Score\": f1_score(test_true, test_preds),\n",
    "    \"ROC AUC\": roc_auc_score(test_true, test_probs),\n",
    "    \"Precision\": precision_score(test_true, test_preds),\n",
    "    \"Recall\": recall_score(test_true, test_preds),\n",
    "    \"EER Threshold\": best_threshold,\n",
    "    \"FAR\": far,\n",
    "    \"FRR\": frr\n",
    "}\n",
    "\n",
    "print(test_metrics)"
   ]
  },
  {
   "cell_type": "code",
   "execution_count": null,
   "metadata": {
    "colab": {
     "base_uri": "https://localhost:8080/"
    },
    "executionInfo": {
     "elapsed": 11,
     "status": "ok",
     "timestamp": 1753102328847,
     "user": {
      "displayName": "Hikari Research",
      "userId": "13771564110195447892"
     },
     "user_tz": -330
    },
    "id": "ckbbkNXwCnXn",
    "outputId": "78bb3f6a-ab92-47d8-fde5-0907498777ee"
   },
   "outputs": [],
   "source": [
    "df_test[\"probability\"] = test_probs\n",
    "df_test[\"prediction\"] = test_preds\n",
    "df_test[\"true_label\"] = y_test\n",
    "columns_to_keep = [\n",
    "    \"sample_1_N\", \"sample_1_F\", \"sample_2_N\", \"sample_2_F\",\n",
    "    \"probability\", \"prediction\", \"true_label\"\n",
    "]\n",
    "df_test_filtered = df_test[columns_to_keep]\n",
    "\n",
    "df_wrong = df_test_filtered[df_test_filtered[\"prediction\"] != df_test_filtered[\"true_label\"]]\n",
    "df_wrong.to_csv(\"wrong_predictions.csv\", index=False)\n",
    "print(f\"Saved {len(df_wrong)} wrong predictions.\")\n",
    "\n",
    "df_low_conf = df_test_filtered[df_test_filtered[\"probability\"] < 0.7]\n",
    "df_low_conf.to_csv(\"low_confidence_predictions.csv\", index=False)\n",
    "print(f\"Saved {len(df_low_conf)} low-confidence predictions (< 0.7).\")\n",
    "\n",
    "df_test_filtered.to_csv(\"all_results.csv\", index=False)\n",
    "print(f\"Saved {len(df_test_filtered)} all results\")\n"
   ]
  }
 ],
 "metadata": {
  "accelerator": "GPU",
  "colab": {
   "collapsed_sections": [
    "LIqfMrofUETo",
    "daWnJRhHMVVW"
   ],
   "gpuType": "T4",
   "machine_shape": "hm",
   "provenance": []
  },
  "kernelspec": {
   "display_name": "Python 3",
   "name": "python3"
  },
  "language_info": {
   "codemirror_mode": {
    "name": "ipython",
    "version": 3
   },
   "file_extension": ".py",
   "mimetype": "text/x-python",
   "name": "python",
   "nbconvert_exporter": "python",
   "pygments_lexer": "ipython3",
   "version": "3.12.7"
  },
  "widgets": {
   "application/vnd.jupyter.widget-state+json": {
    "056dc5bfb1d9485cbe7ff886e89fe375": {
     "model_module": "@jupyter-widgets/base",
     "model_module_version": "1.2.0",
     "model_name": "LayoutModel",
     "state": {
      "_model_module": "@jupyter-widgets/base",
      "_model_module_version": "1.2.0",
      "_model_name": "LayoutModel",
      "_view_count": null,
      "_view_module": "@jupyter-widgets/base",
      "_view_module_version": "1.2.0",
      "_view_name": "LayoutView",
      "align_content": null,
      "align_items": null,
      "align_self": null,
      "border": null,
      "bottom": null,
      "display": null,
      "flex": null,
      "flex_flow": null,
      "grid_area": null,
      "grid_auto_columns": null,
      "grid_auto_flow": null,
      "grid_auto_rows": null,
      "grid_column": null,
      "grid_gap": null,
      "grid_row": null,
      "grid_template_areas": null,
      "grid_template_columns": null,
      "grid_template_rows": null,
      "height": null,
      "justify_content": null,
      "justify_items": null,
      "left": null,
      "margin": null,
      "max_height": null,
      "max_width": null,
      "min_height": null,
      "min_width": null,
      "object_fit": null,
      "object_position": null,
      "order": null,
      "overflow": null,
      "overflow_x": null,
      "overflow_y": null,
      "padding": null,
      "right": null,
      "top": null,
      "visibility": null,
      "width": null
     }
    },
    "0befc63c0e1f489f9a53c8593c1802c6": {
     "model_module": "@jupyter-widgets/base",
     "model_module_version": "1.2.0",
     "model_name": "LayoutModel",
     "state": {
      "_model_module": "@jupyter-widgets/base",
      "_model_module_version": "1.2.0",
      "_model_name": "LayoutModel",
      "_view_count": null,
      "_view_module": "@jupyter-widgets/base",
      "_view_module_version": "1.2.0",
      "_view_name": "LayoutView",
      "align_content": null,
      "align_items": null,
      "align_self": null,
      "border": null,
      "bottom": null,
      "display": null,
      "flex": null,
      "flex_flow": null,
      "grid_area": null,
      "grid_auto_columns": null,
      "grid_auto_flow": null,
      "grid_auto_rows": null,
      "grid_column": null,
      "grid_gap": null,
      "grid_row": null,
      "grid_template_areas": null,
      "grid_template_columns": null,
      "grid_template_rows": null,
      "height": null,
      "justify_content": null,
      "justify_items": null,
      "left": null,
      "margin": null,
      "max_height": null,
      "max_width": null,
      "min_height": null,
      "min_width": null,
      "object_fit": null,
      "object_position": null,
      "order": null,
      "overflow": null,
      "overflow_x": null,
      "overflow_y": null,
      "padding": null,
      "right": null,
      "top": null,
      "visibility": null,
      "width": null
     }
    },
    "114d401c99f4474ebce26555ecc6b150": {
     "model_module": "@jupyter-widgets/controls",
     "model_module_version": "1.5.0",
     "model_name": "FloatProgressModel",
     "state": {
      "_dom_classes": [],
      "_model_module": "@jupyter-widgets/controls",
      "_model_module_version": "1.5.0",
      "_model_name": "FloatProgressModel",
      "_view_count": null,
      "_view_module": "@jupyter-widgets/controls",
      "_view_module_version": "1.5.0",
      "_view_name": "ProgressView",
      "bar_style": "success",
      "description": "",
      "description_tooltip": null,
      "layout": "IPY_MODEL_c3f071d0b1bd4f8a84833ae2887f2dc3",
      "max": 347461216,
      "min": 0,
      "orientation": "horizontal",
      "style": "IPY_MODEL_f682e871a4054544aee09eab62a83aba",
      "value": 347461216
     }
    },
    "16c6e3b6e115427890177d9b8236c980": {
     "model_module": "@jupyter-widgets/controls",
     "model_module_version": "1.5.0",
     "model_name": "HTMLModel",
     "state": {
      "_dom_classes": [],
      "_model_module": "@jupyter-widgets/controls",
      "_model_module_version": "1.5.0",
      "_model_name": "HTMLModel",
      "_view_count": null,
      "_view_module": "@jupyter-widgets/controls",
      "_view_module_version": "1.5.0",
      "_view_name": "HTMLView",
      "description": "",
      "description_tooltip": null,
      "layout": "IPY_MODEL_8d3ec992aa1a497a95aa4a7438741c06",
      "placeholder": "​",
      "style": "IPY_MODEL_8c5e56fe29ba4e10a19721660bd81750",
      "value": "model.safetensors: 100%"
     }
    },
    "1d1255ab9f0c40c5a0b6dc26d3cc3d76": {
     "model_module": "@jupyter-widgets/controls",
     "model_module_version": "1.5.0",
     "model_name": "FloatProgressModel",
     "state": {
      "_dom_classes": [],
      "_model_module": "@jupyter-widgets/controls",
      "_model_module_version": "1.5.0",
      "_model_name": "FloatProgressModel",
      "_view_count": null,
      "_view_module": "@jupyter-widgets/controls",
      "_view_module_version": "1.5.0",
      "_view_name": "ProgressView",
      "bar_style": "success",
      "description": "",
      "description_tooltip": null,
      "layout": "IPY_MODEL_e24b7bdd5a3e483abdce8b3fc7ac286c",
      "max": 1,
      "min": 0,
      "orientation": "horizontal",
      "style": "IPY_MODEL_5520a297454d4bffad5f11bc21d8107d",
      "value": 1
     }
    },
    "494ef2440330423a94ee3f4c95f02c2d": {
     "model_module": "@jupyter-widgets/controls",
     "model_module_version": "1.5.0",
     "model_name": "HTMLModel",
     "state": {
      "_dom_classes": [],
      "_model_module": "@jupyter-widgets/controls",
      "_model_module_version": "1.5.0",
      "_model_name": "HTMLModel",
      "_view_count": null,
      "_view_module": "@jupyter-widgets/controls",
      "_view_module_version": "1.5.0",
      "_view_name": "HTMLView",
      "description": "",
      "description_tooltip": null,
      "layout": "IPY_MODEL_eb2d7295e8294866869f7bb8d7d88ab5",
      "placeholder": "​",
      "style": "IPY_MODEL_70ac58c6c0a14dc4ab3e47fcc44b7e04",
      "value": " 69.7k/? [00:00&lt;00:00, 6.86MB/s]"
     }
    },
    "4ea07d13125b4de5bf49589485709234": {
     "model_module": "@jupyter-widgets/base",
     "model_module_version": "1.2.0",
     "model_name": "LayoutModel",
     "state": {
      "_model_module": "@jupyter-widgets/base",
      "_model_module_version": "1.2.0",
      "_model_name": "LayoutModel",
      "_view_count": null,
      "_view_module": "@jupyter-widgets/base",
      "_view_module_version": "1.2.0",
      "_view_name": "LayoutView",
      "align_content": null,
      "align_items": null,
      "align_self": null,
      "border": null,
      "bottom": null,
      "display": null,
      "flex": null,
      "flex_flow": null,
      "grid_area": null,
      "grid_auto_columns": null,
      "grid_auto_flow": null,
      "grid_auto_rows": null,
      "grid_column": null,
      "grid_gap": null,
      "grid_row": null,
      "grid_template_areas": null,
      "grid_template_columns": null,
      "grid_template_rows": null,
      "height": null,
      "justify_content": null,
      "justify_items": null,
      "left": null,
      "margin": null,
      "max_height": null,
      "max_width": null,
      "min_height": null,
      "min_width": null,
      "object_fit": null,
      "object_position": null,
      "order": null,
      "overflow": null,
      "overflow_x": null,
      "overflow_y": null,
      "padding": null,
      "right": null,
      "top": null,
      "visibility": null,
      "width": null
     }
    },
    "5520a297454d4bffad5f11bc21d8107d": {
     "model_module": "@jupyter-widgets/controls",
     "model_module_version": "1.5.0",
     "model_name": "ProgressStyleModel",
     "state": {
      "_model_module": "@jupyter-widgets/controls",
      "_model_module_version": "1.5.0",
      "_model_name": "ProgressStyleModel",
      "_view_count": null,
      "_view_module": "@jupyter-widgets/base",
      "_view_module_version": "1.2.0",
      "_view_name": "StyleView",
      "bar_color": null,
      "description_width": ""
     }
    },
    "70ac58c6c0a14dc4ab3e47fcc44b7e04": {
     "model_module": "@jupyter-widgets/controls",
     "model_module_version": "1.5.0",
     "model_name": "DescriptionStyleModel",
     "state": {
      "_model_module": "@jupyter-widgets/controls",
      "_model_module_version": "1.5.0",
      "_model_name": "DescriptionStyleModel",
      "_view_count": null,
      "_view_module": "@jupyter-widgets/base",
      "_view_module_version": "1.2.0",
      "_view_name": "StyleView",
      "description_width": ""
     }
    },
    "81a27e0f341e489485bae26b6b5f213f": {
     "model_module": "@jupyter-widgets/controls",
     "model_module_version": "1.5.0",
     "model_name": "DescriptionStyleModel",
     "state": {
      "_model_module": "@jupyter-widgets/controls",
      "_model_module_version": "1.5.0",
      "_model_name": "DescriptionStyleModel",
      "_view_count": null,
      "_view_module": "@jupyter-widgets/base",
      "_view_module_version": "1.2.0",
      "_view_name": "StyleView",
      "description_width": ""
     }
    },
    "86127cc149a041a99a5bbdd85c730265": {
     "model_module": "@jupyter-widgets/base",
     "model_module_version": "1.2.0",
     "model_name": "LayoutModel",
     "state": {
      "_model_module": "@jupyter-widgets/base",
      "_model_module_version": "1.2.0",
      "_model_name": "LayoutModel",
      "_view_count": null,
      "_view_module": "@jupyter-widgets/base",
      "_view_module_version": "1.2.0",
      "_view_name": "LayoutView",
      "align_content": null,
      "align_items": null,
      "align_self": null,
      "border": null,
      "bottom": null,
      "display": null,
      "flex": null,
      "flex_flow": null,
      "grid_area": null,
      "grid_auto_columns": null,
      "grid_auto_flow": null,
      "grid_auto_rows": null,
      "grid_column": null,
      "grid_gap": null,
      "grid_row": null,
      "grid_template_areas": null,
      "grid_template_columns": null,
      "grid_template_rows": null,
      "height": null,
      "justify_content": null,
      "justify_items": null,
      "left": null,
      "margin": null,
      "max_height": null,
      "max_width": null,
      "min_height": null,
      "min_width": null,
      "object_fit": null,
      "object_position": null,
      "order": null,
      "overflow": null,
      "overflow_x": null,
      "overflow_y": null,
      "padding": null,
      "right": null,
      "top": null,
      "visibility": null,
      "width": null
     }
    },
    "8c5e56fe29ba4e10a19721660bd81750": {
     "model_module": "@jupyter-widgets/controls",
     "model_module_version": "1.5.0",
     "model_name": "DescriptionStyleModel",
     "state": {
      "_model_module": "@jupyter-widgets/controls",
      "_model_module_version": "1.5.0",
      "_model_name": "DescriptionStyleModel",
      "_view_count": null,
      "_view_module": "@jupyter-widgets/base",
      "_view_module_version": "1.2.0",
      "_view_name": "StyleView",
      "description_width": ""
     }
    },
    "8d3ec992aa1a497a95aa4a7438741c06": {
     "model_module": "@jupyter-widgets/base",
     "model_module_version": "1.2.0",
     "model_name": "LayoutModel",
     "state": {
      "_model_module": "@jupyter-widgets/base",
      "_model_module_version": "1.2.0",
      "_model_name": "LayoutModel",
      "_view_count": null,
      "_view_module": "@jupyter-widgets/base",
      "_view_module_version": "1.2.0",
      "_view_name": "LayoutView",
      "align_content": null,
      "align_items": null,
      "align_self": null,
      "border": null,
      "bottom": null,
      "display": null,
      "flex": null,
      "flex_flow": null,
      "grid_area": null,
      "grid_auto_columns": null,
      "grid_auto_flow": null,
      "grid_auto_rows": null,
      "grid_column": null,
      "grid_gap": null,
      "grid_row": null,
      "grid_template_areas": null,
      "grid_template_columns": null,
      "grid_template_rows": null,
      "height": null,
      "justify_content": null,
      "justify_items": null,
      "left": null,
      "margin": null,
      "max_height": null,
      "max_width": null,
      "min_height": null,
      "min_width": null,
      "object_fit": null,
      "object_position": null,
      "order": null,
      "overflow": null,
      "overflow_x": null,
      "overflow_y": null,
      "padding": null,
      "right": null,
      "top": null,
      "visibility": null,
      "width": null
     }
    },
    "93c2fbb32015460e9dbe3e1c0b03e9d5": {
     "model_module": "@jupyter-widgets/controls",
     "model_module_version": "1.5.0",
     "model_name": "HTMLModel",
     "state": {
      "_dom_classes": [],
      "_model_module": "@jupyter-widgets/controls",
      "_model_module_version": "1.5.0",
      "_model_name": "HTMLModel",
      "_view_count": null,
      "_view_module": "@jupyter-widgets/controls",
      "_view_module_version": "1.5.0",
      "_view_name": "HTMLView",
      "description": "",
      "description_tooltip": null,
      "layout": "IPY_MODEL_0befc63c0e1f489f9a53c8593c1802c6",
      "placeholder": "​",
      "style": "IPY_MODEL_e5e8803b61664009b5d4f684b5d2e565",
      "value": " 347M/347M [00:01&lt;00:00, 283MB/s]"
     }
    },
    "c3f071d0b1bd4f8a84833ae2887f2dc3": {
     "model_module": "@jupyter-widgets/base",
     "model_module_version": "1.2.0",
     "model_name": "LayoutModel",
     "state": {
      "_model_module": "@jupyter-widgets/base",
      "_model_module_version": "1.2.0",
      "_model_name": "LayoutModel",
      "_view_count": null,
      "_view_module": "@jupyter-widgets/base",
      "_view_module_version": "1.2.0",
      "_view_name": "LayoutView",
      "align_content": null,
      "align_items": null,
      "align_self": null,
      "border": null,
      "bottom": null,
      "display": null,
      "flex": null,
      "flex_flow": null,
      "grid_area": null,
      "grid_auto_columns": null,
      "grid_auto_flow": null,
      "grid_auto_rows": null,
      "grid_column": null,
      "grid_gap": null,
      "grid_row": null,
      "grid_template_areas": null,
      "grid_template_columns": null,
      "grid_template_rows": null,
      "height": null,
      "justify_content": null,
      "justify_items": null,
      "left": null,
      "margin": null,
      "max_height": null,
      "max_width": null,
      "min_height": null,
      "min_width": null,
      "object_fit": null,
      "object_position": null,
      "order": null,
      "overflow": null,
      "overflow_x": null,
      "overflow_y": null,
      "padding": null,
      "right": null,
      "top": null,
      "visibility": null,
      "width": null
     }
    },
    "d593ceb759494a72ad4d2842fd8fa95f": {
     "model_module": "@jupyter-widgets/controls",
     "model_module_version": "1.5.0",
     "model_name": "HTMLModel",
     "state": {
      "_dom_classes": [],
      "_model_module": "@jupyter-widgets/controls",
      "_model_module_version": "1.5.0",
      "_model_name": "HTMLModel",
      "_view_count": null,
      "_view_module": "@jupyter-widgets/controls",
      "_view_module_version": "1.5.0",
      "_view_name": "HTMLView",
      "description": "",
      "description_tooltip": null,
      "layout": "IPY_MODEL_4ea07d13125b4de5bf49589485709234",
      "placeholder": "​",
      "style": "IPY_MODEL_81a27e0f341e489485bae26b6b5f213f",
      "value": "config.json: "
     }
    },
    "e24b7bdd5a3e483abdce8b3fc7ac286c": {
     "model_module": "@jupyter-widgets/base",
     "model_module_version": "1.2.0",
     "model_name": "LayoutModel",
     "state": {
      "_model_module": "@jupyter-widgets/base",
      "_model_module_version": "1.2.0",
      "_model_name": "LayoutModel",
      "_view_count": null,
      "_view_module": "@jupyter-widgets/base",
      "_view_module_version": "1.2.0",
      "_view_name": "LayoutView",
      "align_content": null,
      "align_items": null,
      "align_self": null,
      "border": null,
      "bottom": null,
      "display": null,
      "flex": null,
      "flex_flow": null,
      "grid_area": null,
      "grid_auto_columns": null,
      "grid_auto_flow": null,
      "grid_auto_rows": null,
      "grid_column": null,
      "grid_gap": null,
      "grid_row": null,
      "grid_template_areas": null,
      "grid_template_columns": null,
      "grid_template_rows": null,
      "height": null,
      "justify_content": null,
      "justify_items": null,
      "left": null,
      "margin": null,
      "max_height": null,
      "max_width": null,
      "min_height": null,
      "min_width": null,
      "object_fit": null,
      "object_position": null,
      "order": null,
      "overflow": null,
      "overflow_x": null,
      "overflow_y": null,
      "padding": null,
      "right": null,
      "top": null,
      "visibility": null,
      "width": "20px"
     }
    },
    "e5e8803b61664009b5d4f684b5d2e565": {
     "model_module": "@jupyter-widgets/controls",
     "model_module_version": "1.5.0",
     "model_name": "DescriptionStyleModel",
     "state": {
      "_model_module": "@jupyter-widgets/controls",
      "_model_module_version": "1.5.0",
      "_model_name": "DescriptionStyleModel",
      "_view_count": null,
      "_view_module": "@jupyter-widgets/base",
      "_view_module_version": "1.2.0",
      "_view_name": "StyleView",
      "description_width": ""
     }
    },
    "eb2d7295e8294866869f7bb8d7d88ab5": {
     "model_module": "@jupyter-widgets/base",
     "model_module_version": "1.2.0",
     "model_name": "LayoutModel",
     "state": {
      "_model_module": "@jupyter-widgets/base",
      "_model_module_version": "1.2.0",
      "_model_name": "LayoutModel",
      "_view_count": null,
      "_view_module": "@jupyter-widgets/base",
      "_view_module_version": "1.2.0",
      "_view_name": "LayoutView",
      "align_content": null,
      "align_items": null,
      "align_self": null,
      "border": null,
      "bottom": null,
      "display": null,
      "flex": null,
      "flex_flow": null,
      "grid_area": null,
      "grid_auto_columns": null,
      "grid_auto_flow": null,
      "grid_auto_rows": null,
      "grid_column": null,
      "grid_gap": null,
      "grid_row": null,
      "grid_template_areas": null,
      "grid_template_columns": null,
      "grid_template_rows": null,
      "height": null,
      "justify_content": null,
      "justify_items": null,
      "left": null,
      "margin": null,
      "max_height": null,
      "max_width": null,
      "min_height": null,
      "min_width": null,
      "object_fit": null,
      "object_position": null,
      "order": null,
      "overflow": null,
      "overflow_x": null,
      "overflow_y": null,
      "padding": null,
      "right": null,
      "top": null,
      "visibility": null,
      "width": null
     }
    },
    "f16b451a829c431db12d4cc8ce673874": {
     "model_module": "@jupyter-widgets/controls",
     "model_module_version": "1.5.0",
     "model_name": "HBoxModel",
     "state": {
      "_dom_classes": [],
      "_model_module": "@jupyter-widgets/controls",
      "_model_module_version": "1.5.0",
      "_model_name": "HBoxModel",
      "_view_count": null,
      "_view_module": "@jupyter-widgets/controls",
      "_view_module_version": "1.5.0",
      "_view_name": "HBoxView",
      "box_style": "",
      "children": [
       "IPY_MODEL_16c6e3b6e115427890177d9b8236c980",
       "IPY_MODEL_114d401c99f4474ebce26555ecc6b150",
       "IPY_MODEL_93c2fbb32015460e9dbe3e1c0b03e9d5"
      ],
      "layout": "IPY_MODEL_056dc5bfb1d9485cbe7ff886e89fe375"
     }
    },
    "f682e871a4054544aee09eab62a83aba": {
     "model_module": "@jupyter-widgets/controls",
     "model_module_version": "1.5.0",
     "model_name": "ProgressStyleModel",
     "state": {
      "_model_module": "@jupyter-widgets/controls",
      "_model_module_version": "1.5.0",
      "_model_name": "ProgressStyleModel",
      "_view_count": null,
      "_view_module": "@jupyter-widgets/base",
      "_view_module_version": "1.2.0",
      "_view_name": "StyleView",
      "bar_color": null,
      "description_width": ""
     }
    },
    "f76618abebca413caa377154ac5d005f": {
     "model_module": "@jupyter-widgets/controls",
     "model_module_version": "1.5.0",
     "model_name": "HBoxModel",
     "state": {
      "_dom_classes": [],
      "_model_module": "@jupyter-widgets/controls",
      "_model_module_version": "1.5.0",
      "_model_name": "HBoxModel",
      "_view_count": null,
      "_view_module": "@jupyter-widgets/controls",
      "_view_module_version": "1.5.0",
      "_view_name": "HBoxView",
      "box_style": "",
      "children": [
       "IPY_MODEL_d593ceb759494a72ad4d2842fd8fa95f",
       "IPY_MODEL_1d1255ab9f0c40c5a0b6dc26d3cc3d76",
       "IPY_MODEL_494ef2440330423a94ee3f4c95f02c2d"
      ],
      "layout": "IPY_MODEL_86127cc149a041a99a5bbdd85c730265"
     }
    }
   }
  }
 },
 "nbformat": 4,
 "nbformat_minor": 0
}
