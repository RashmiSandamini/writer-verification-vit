{
 "cells": [
  {
   "cell_type": "code",
   "execution_count": null,
   "metadata": {
    "colab": {
     "base_uri": "https://localhost:8080/"
    },
    "executionInfo": {
     "elapsed": 4447,
     "status": "ok",
     "timestamp": 1753200624645,
     "user": {
      "displayName": "Hikari Research",
      "userId": "13771564110195447892"
     },
     "user_tz": -330
    },
    "id": "gPCFqzOBAULj",
    "outputId": "41277c3b-f679-4cb3-e971-16e1bea133a8"
   },
   "outputs": [],
   "source": [
    "import torch\n",
    "import torch.nn as nn\n",
    "import torch.nn.functional as F\n",
    "import pandas as pd\n",
    "import numpy as np\n",
    "import gdown\n",
    "from sklearn.metrics import confusion_matrix\n",
    "from sklearn.metrics import roc_auc_score\n",
    "scaler = torch.amp.GradScaler('cuda')\n",
    "from sklearn.metrics import accuracy_score, roc_curve, precision_recall_fscore_support, roc_auc_score, f1_score, precision_score, recall_score\n",
    "\n",
    "device = torch.device(\"cuda\" if torch.cuda.is_available() else \"cpu\")\n",
    "print(\"Using device:\", device)"
   ]
  },
  {
   "cell_type": "code",
   "execution_count": null,
   "metadata": {
    "colab": {
     "base_uri": "https://localhost:8080/",
     "height": 182
    },
    "executionInfo": {
     "elapsed": 5201,
     "status": "ok",
     "timestamp": 1753200629850,
     "user": {
      "displayName": "Hikari Research",
      "userId": "13771564110195447892"
     },
     "user_tz": -330
    },
    "id": "4CaZqlH0rJVK",
    "outputId": "55b2a6b6-268d-4398-febc-64efa6b99bd0"
   },
   "outputs": [],
   "source": [
    "file_id = \"file_id\"\n",
    "gdown.download(f\"https://drive.google.com/uc?id={file_id}\", \"test_dissimilarity_dataset_vit.parquet\", quiet=False)\n",
    "\n",
    "file_id = \"1HvTVqpN5PNSdDZkroQPp-8Yjg-tNRVdt\"\n",
    "gdown.download(f\"https://drive.google.com/uc?id={file_id}\", \"pairnet_model.pth\", quiet=False)"
   ]
  },
  {
   "cell_type": "code",
   "execution_count": null,
   "metadata": {
    "id": "SGfG1lc3rSCD"
   },
   "outputs": [],
   "source": [
    "class PairNet(nn.Module):\n",
    "    def __init__(self):\n",
    "        super(PairNet, self).__init__()\n",
    "        self.fc1 = nn.Linear(6, 4)\n",
    "        self.fc2 = nn.Linear(4, 2)\n",
    "        self.out = nn.Linear(2, 1)\n",
    "        self.dropout = nn.Dropout(0.2)\n",
    "\n",
    "    def forward(self, x):\n",
    "        x = F.relu(self.fc1(x))\n",
    "        x = F.relu(self.fc2(x))\n",
    "        return self.out(x)"
   ]
  },
  {
   "cell_type": "code",
   "execution_count": null,
   "metadata": {
    "colab": {
     "base_uri": "https://localhost:8080/"
    },
    "executionInfo": {
     "elapsed": 50,
     "status": "ok",
     "timestamp": 1753200660552,
     "user": {
      "displayName": "Hikari Research",
      "userId": "13771564110195447892"
     },
     "user_tz": -330
    },
    "id": "AM2PT29-rQQn",
    "outputId": "282668fa-8e56-4ff2-d89c-df9b6dcb5a09"
   },
   "outputs": [],
   "source": [
    "model = PairNet()\n",
    "checkpoint = torch.load(\"pairnet_model.pth\", weights_only=False)\n",
    "model.load_state_dict(checkpoint[\"model_state_dict\"])\n",
    "model.eval()\n",
    "\n",
    "best_threshold = checkpoint[\"best_threshold\"]\n",
    "\n",
    "df_test = pd.read_parquet(\"test_dissimilarity_dataset_vit.parquet\")\n",
    "X_test = df_test[[\"d_1N_1F\", \"d_2N_2F\", \"d_1N_2N\", \"d_1N_2F\", \"d_1F_2N\", \"d_1F_2F\"]].values\n",
    "y_test = df_test[\"label\"].values\n",
    "\n",
    "X_test_tensor = torch.tensor(X_test, dtype=torch.float32)\n",
    "y_test_tensor = torch.tensor(y_test, dtype=torch.float32).unsqueeze(1)\n",
    "\n",
    "with torch.no_grad():\n",
    "    logits = model(X_test_tensor)\n",
    "    test_probs = torch.sigmoid(logits).numpy().flatten()\n",
    "    test_preds = (test_probs > best_threshold).astype(int)\n",
    "    test_true = y_test_tensor.numpy().flatten()\n",
    "\n",
    "def compute_far_frr(y_true, y_pred):\n",
    "    tn, fp, fn, tp = confusion_matrix(y_true, y_pred, labels=[1, 0]).ravel()\n",
    "    far = fp / (fp + tn) if (fp + tn) > 0 else 0.0\n",
    "    frr = fn / (fn + tp) if (fn + tp) > 0 else 0.0\n",
    "    return far, frr\n",
    "\n",
    "threshold = checkpoint[\"best_threshold\"]\n",
    "test_preds = (test_probs >= threshold).astype(int)\n",
    "acc  = accuracy_score(test_true, test_preds)\n",
    "prec, rec, f1, _ = precision_recall_fscore_support(test_true, test_preds, average=\"binary\")\n",
    "auc_roc  = roc_auc_score(test_true, test_probs)\n",
    "fpr, tpr, thresholds = roc_curve(test_true, test_probs)\n",
    "fnr = 1 - tpr\n",
    "eer_threshold_idx = np.argmin(np.abs(fpr - fnr))\n",
    "eer = (fpr[eer_threshold_idx] + fnr[eer_threshold_idx]) / 2\n",
    "eer_threshold = thresholds[eer_threshold_idx]\n",
    "far, frr = compute_far_frr(test_true, test_preds)\n",
    "\n",
    "print(f\"Threshold          : {threshold}\")\n",
    "print(f\"ROC-AUC            : {auc_roc:.4f}\")\n",
    "print(f\"Accuracy           : {acc:.4f}\")\n",
    "print(f\"Precision          : {prec:.4f}\")\n",
    "print(f\"Recall             : {rec:.4f}\")\n",
    "print(f\"F1-score           : {f1:.4f}\")\n",
    "print(f\"EER                : {eer:.4f}\")\n",
    "print(f\"FAR                : {far:.4f}\")\n",
    "print(f\"FRR                : {frr:.4f}\")\n",
    "print()"
   ]
  }
 ],
 "metadata": {
  "accelerator": "GPU",
  "colab": {
   "gpuType": "T4",
   "machine_shape": "hm",
   "provenance": []
  },
  "kernelspec": {
   "display_name": "Python 3",
   "name": "python3"
  },
  "language_info": {
   "codemirror_mode": {
    "name": "ipython",
    "version": 3
   },
   "file_extension": ".py",
   "mimetype": "text/x-python",
   "name": "python",
   "nbconvert_exporter": "python",
   "pygments_lexer": "ipython3",
   "version": "3.12.7"
  }
 },
 "nbformat": 4,
 "nbformat_minor": 0
}
