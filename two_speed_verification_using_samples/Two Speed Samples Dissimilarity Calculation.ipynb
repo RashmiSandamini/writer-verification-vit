{
 "cells": [
  {
   "cell_type": "code",
   "execution_count": null,
   "metadata": {
    "colab": {
     "base_uri": "https://localhost:8080/"
    },
    "collapsed": true,
    "executionInfo": {
     "elapsed": 77996,
     "status": "ok",
     "timestamp": 1753200288323,
     "user": {
      "displayName": "Hikari Research",
      "userId": "13771564110195447892"
     },
     "user_tz": -330
    },
    "id": "ndc5WBXQ03Di",
    "outputId": "b5f26260-c0dc-48a2-9475-c1514794c862"
   },
   "outputs": [],
   "source": [
    "!pip install torch torchvision transformers\n",
    "!pip install torchmetrics"
   ]
  },
  {
   "cell_type": "code",
   "execution_count": null,
   "metadata": {
    "colab": {
     "base_uri": "https://localhost:8080/"
    },
    "executionInfo": {
     "elapsed": 16695,
     "status": "ok",
     "timestamp": 1753200305023,
     "user": {
      "displayName": "Hikari Research",
      "userId": "13771564110195447892"
     },
     "user_tz": -330
    },
    "id": "gPCFqzOBAULj",
    "outputId": "94ec4f56-7b68-4ee0-a6be-57211ae9a1bb"
   },
   "outputs": [],
   "source": [
    "import torch\n",
    "import torch.nn as nn\n",
    "import torch.nn.functional as F\n",
    "from torch.utils.data import Dataset, DataLoader\n",
    "from torchvision import transforms\n",
    "from transformers import ViTModel, ViTConfig\n",
    "import pandas as pd\n",
    "import os\n",
    "import numpy as np\n",
    "from PIL import Image\n",
    "import gdown\n",
    "import zipfile\n",
    "import matplotlib.pyplot as plt\n",
    "from torchmetrics import AUROC\n",
    "from tqdm import tqdm\n",
    "from sklearn.metrics import roc_auc_score\n",
    "import matplotlib.pyplot as plt\n",
    "from torch.utils.tensorboard import SummaryWriter\n",
    "\n",
    "BASE_DIR = \"Data_V9_ViT\"\n",
    "\n",
    "scaler = torch.amp.GradScaler('cuda')\n",
    "\n",
    "device = torch.device(\"cuda\" if torch.cuda.is_available() else \"cpu\")\n",
    "print(\"Using device:\", device)"
   ]
  },
  {
   "cell_type": "code",
   "execution_count": null,
   "metadata": {
    "colab": {
     "base_uri": "https://localhost:8080/"
    },
    "executionInfo": {
     "elapsed": 20918,
     "status": "ok",
     "timestamp": 1753200325943,
     "user": {
      "displayName": "Hikari Research",
      "userId": "13771564110195447892"
     },
     "user_tz": -330
    },
    "id": "ECr6uDA81qh0",
    "outputId": "84d065ee-9acd-4eaa-bd46-0c75256282af"
   },
   "outputs": [],
   "source": [
    "file_id = \"file_id\"\n",
    "gdown.download(f\"https://drive.google.com/uc?id={file_id}\", \"texture_uni.zip\", quiet=False)\n",
    "with zipfile.ZipFile(\"texture_uni.zip\", 'r') as zip_ref:\n",
    "    zip_ref.extractall(\"\")"
   ]
  },
  {
   "cell_type": "code",
   "execution_count": 4,
   "metadata": {
    "executionInfo": {
     "elapsed": 13,
     "status": "ok",
     "timestamp": 1753200325959,
     "user": {
      "displayName": "Hikari Research",
      "userId": "13771564110195447892"
     },
     "user_tz": -330
    },
    "id": "mkdgxYF2AAIt"
   },
   "outputs": [],
   "source": [
    "class LoadDataset(Dataset):\n",
    "    def __init__(self, parquet_path, base_dir=BASE_DIR):\n",
    "        super().__init__()\n",
    "        self.df = pd.read_parquet(parquet_path)\n",
    "        self.base_dir = base_dir.rstrip(\"/\")\n",
    "\n",
    "    def __len__(self):\n",
    "        return len(self.df)\n",
    "\n",
    "    def __getitem__(self, idx):\n",
    "        row = self.df.iloc[idx]\n",
    "\n",
    "        def pt_path(rel_path: str) -> str:\n",
    "            return os.path.join(self.base_dir, rel_path + \".pt\")\n",
    "\n",
    "        img1_path = pt_path(row[\"sample_1\"])\n",
    "        img2_path = pt_path(row[\"sample_2\"])\n",
    "\n",
    "        try:\n",
    "            img1_tensor = torch.load(img1_path)\n",
    "        except Exception as e:\n",
    "            raise ValueError(f\"Could not load tensor at {img1_path}: {e}\")\n",
    "\n",
    "        try:\n",
    "            img2_tensor = torch.load(img2_path)\n",
    "        except Exception as e:\n",
    "            raise ValueError(f\"Could not load tensor at {img2_path}: {e}\")\n",
    "\n",
    "        label = float(row[\"label\"])\n",
    "        label_tensor = torch.tensor(label, dtype=torch.float32).unsqueeze(0)\n",
    "\n",
    "        return img1_tensor, img2_tensor, label_tensor, row[\"sample_1\"], row[\"sample_2\"]"
   ]
  },
  {
   "cell_type": "code",
   "execution_count": null,
   "metadata": {
    "colab": {
     "base_uri": "https://localhost:8080/",
     "height": 247,
     "referenced_widgets": [
      "caebb13a1dd34b9b82106082c783781d",
      "a5a8fa22810b4ac2a030fb653a4fae82",
      "a5ab9f1c8f1443aaa0eea96b3dff465e",
      "5648fa8bb1f343ecb74479378eae4970",
      "546bc3a336e04654a76846762a23e428",
      "c505450c71ad499dbdf633452b96486a",
      "33f44b9f3a6840c580e9dcff2dad0cbc",
      "177b04c54f3d434b9856db53da72285f",
      "7a146aae608f47d681283963da54e9fd",
      "b0f96a8b590c48b2b081ea32a538b3a2",
      "aad0212e4c2d4aa3a546276d5c423071",
      "b387f7338e3f49cca07e240eb95b7732",
      "0e53c93e0e0e47b4a08bcec35db89bed",
      "3eb8e4dca3614f81b633e77dc9af467e",
      "c006df65d7924a1b9d695eb7e2ebe604",
      "e646c5f80b524d8bad8843d04f9ce77c",
      "0971546ae6774854a05131800dba03c8",
      "9afee85d7a0440b4a1518b91dea77c3e",
      "6729076165d94b9d95c65c6fb46b7457",
      "11c632c6091f4828bea82fd893a1985e",
      "902b39273807455b9dfcb8433d09c624",
      "5c3a82809cd249b994d7675b1eeaa3f9"
     ]
    },
    "executionInfo": {
     "elapsed": 5141,
     "status": "ok",
     "timestamp": 1753200331105,
     "user": {
      "displayName": "Hikari Research",
      "userId": "13771564110195447892"
     },
     "user_tz": -330
    },
    "id": "6JPlj9AWusbq",
    "outputId": "5ab6bea3-9746-41aa-fd83-cf658ca01d07"
   },
   "outputs": [],
   "source": [
    "vit_name = \"google/vit-base-patch16-384\"\n",
    "config = ViTConfig.from_pretrained(vit_name)\n",
    "vit_backbone = ViTModel.from_pretrained(vit_name, config=config).to(device)\n",
    "\n",
    "for param in vit_backbone.embeddings.parameters():\n",
    "    param.requires_grad = False\n",
    "\n",
    "for i in range(6):\n",
    "    for param in vit_backbone.encoder.layer[i].parameters():\n",
    "        param.requires_grad = False\n"
   ]
  },
  {
   "cell_type": "code",
   "execution_count": null,
   "metadata": {
    "executionInfo": {
     "elapsed": 11,
     "status": "ok",
     "timestamp": 1753200331123,
     "user": {
      "displayName": "Hikari Research",
      "userId": "13771564110195447892"
     },
     "user_tz": -330
    },
    "id": "UkA1I9e7yzku"
   },
   "outputs": [],
   "source": [
    "class ViTEmbedder(nn.Module):\n",
    "    def __init__(self, vit_model):\n",
    "        super().__init__()\n",
    "        self.vit = vit_model\n",
    "\n",
    "    def forward(self, x):\n",
    "        outputs = self.vit(pixel_values=x)    \n",
    "        return outputs.pooler_output          \n",
    "\n",
    "vit_embedder = ViTEmbedder(vit_backbone).to(device)"
   ]
  },
  {
   "cell_type": "code",
   "execution_count": null,
   "metadata": {
    "executionInfo": {
     "elapsed": 12,
     "status": "ok",
     "timestamp": 1753200331137,
     "user": {
      "displayName": "Hikari Research",
      "userId": "13771564110195447892"
     },
     "user_tz": -330
    },
    "id": "BN0MmN3XOKzW"
   },
   "outputs": [],
   "source": [
    "class ProjectionHead(nn.Module):\n",
    "    def __init__(self, in_dim=768, hidden_dims=[1024, 512, 256], dropout=0.1):\n",
    "        super().__init__()\n",
    "        layers = []\n",
    "        prev = in_dim\n",
    "        for h in hidden_dims:\n",
    "            layers += [\n",
    "                nn.Linear(prev, h),\n",
    "                nn.LayerNorm(h),\n",
    "                nn.GELU(),\n",
    "            ]\n",
    "            prev = h\n",
    "        self.net = nn.Sequential(*layers)\n",
    "\n",
    "    def forward(self, x):\n",
    "        z = self.net(x)         \n",
    "        return F.normalize(z, p=2, dim=1)\n",
    "\n",
    "proj_head = ProjectionHead(\n",
    "    in_dim=768,\n",
    "    hidden_dims=[512, 256, 128],\n",
    "    dropout=0.1\n",
    ").to(device)"
   ]
  },
  {
   "cell_type": "code",
   "execution_count": 8,
   "metadata": {
    "executionInfo": {
     "elapsed": 15,
     "status": "ok",
     "timestamp": 1753200331153,
     "user": {
      "displayName": "Hikari Research",
      "userId": "13771564110195447892"
     },
     "user_tz": -330
    },
    "id": "rS4wyUhg3gk0"
   },
   "outputs": [],
   "source": [
    "class EuclideanDistance(nn.Module):\n",
    "    def __init__(self, eps: float = 1e-7):\n",
    "        super().__init__()\n",
    "        self.eps = eps\n",
    "\n",
    "    def forward(self, x: torch.Tensor, y: torch.Tensor) -> torch.Tensor:\n",
    "        diff_sq = (x - y).pow(2)\n",
    "        sum_sq = diff_sq.sum(dim=1, keepdim=True)\n",
    "        sum_sq = torch.clamp(sum_sq, min=self.eps)\n",
    "        return torch.sqrt(sum_sq)"
   ]
  },
  {
   "cell_type": "code",
   "execution_count": 9,
   "metadata": {
    "executionInfo": {
     "elapsed": 14,
     "status": "ok",
     "timestamp": 1753200331169,
     "user": {
      "displayName": "Hikari Research",
      "userId": "13771564110195447892"
     },
     "user_tz": -330
    },
    "id": "qe--YAqC3stO"
   },
   "outputs": [],
   "source": [
    "class SiameseViT(nn.Module):\n",
    "    def __init__(self, embedder, head):\n",
    "        super().__init__()\n",
    "        self.embedder = embedder\n",
    "        self.head = head\n",
    "        self.distance = EuclideanDistance()\n",
    "\n",
    "    def forward_once(self, img):\n",
    "        cls_emb = self.embedder(img)\n",
    "        emb256 = self.head(cls_emb)\n",
    "        return emb256\n",
    "\n",
    "    def forward(self, img_a, img_b):\n",
    "        emb_a = self.forward_once(img_a)\n",
    "        emb_b = self.forward_once(img_b)\n",
    "        dist = self.distance(emb_a, emb_b)\n",
    "        return dist\n",
    "\n",
    "siamese_model = SiameseViT(vit_embedder, proj_head).to(device)"
   ]
  },
  {
   "cell_type": "code",
   "execution_count": null,
   "metadata": {
    "executionInfo": {
     "elapsed": 12,
     "status": "ok",
     "timestamp": 1753200331186,
     "user": {
      "displayName": "Hikari Research",
      "userId": "13771564110195447892"
     },
     "user_tz": -330
    },
    "id": "-UMZ525h4F1o"
   },
   "outputs": [],
   "source": [
    "class ContrastiveLoss(nn.Module):\n",
    "    def __init__(self, margin=1.0):\n",
    "        super().__init__()\n",
    "        self.margin = margin\n",
    "\n",
    "    def forward(self, dist, label):\n",
    "\n",
    "        label = label.view(-1, 1)  \n",
    "        pos_loss = (1.0 - label) * torch.pow(dist, 2)\n",
    "        neg_loss = label * torch.pow(torch.clamp(self.margin - dist, min=0.0), 2)\n",
    "        loss = torch.mean(pos_loss + neg_loss)\n",
    "        return loss\n",
    "criterion = ContrastiveLoss(margin=1.0).to(device)\n"
   ]
  },
  {
   "cell_type": "markdown",
   "metadata": {
    "id": "qKNHiP58CiM4"
   },
   "source": [
    "## Two Speed Distance Calculation\n"
   ]
  },
  {
   "cell_type": "code",
   "execution_count": null,
   "metadata": {
    "colab": {
     "base_uri": "https://localhost:8080/",
     "height": 109
    },
    "executionInfo": {
     "elapsed": 1915,
     "status": "ok",
     "timestamp": 1753200333103,
     "user": {
      "displayName": "Hikari Research",
      "userId": "13771564110195447892"
     },
     "user_tz": -330
    },
    "id": "BSLIu3yjHSfU",
    "outputId": "414b7292-6b04-48a8-c3ad-aea4116b3062"
   },
   "outputs": [],
   "source": [
    "file_id = \"file_id\"\n",
    "gdown.download(f\"https://drive.google.com/uc?id={file_id}\", \"uni_test.parquet\", quiet=False)"
   ]
  },
  {
   "cell_type": "code",
   "execution_count": null,
   "metadata": {
    "colab": {
     "base_uri": "https://localhost:8080/"
    },
    "executionInfo": {
     "elapsed": 8872,
     "status": "ok",
     "timestamp": 1753200341978,
     "user": {
      "displayName": "Hikari Research",
      "userId": "13771564110195447892"
     },
     "user_tz": -330
    },
    "id": "ZxgR0AD3Hxf3",
    "outputId": "cccd6c28-52e2-4e17-d112-7f21e959fb0a"
   },
   "outputs": [],
   "source": [
    "file_id = \"1ASQuT-LU5H1f_ydTrytQ-f5k8l-C7-yw\"\n",
    "gdown.download(f\"https://drive.google.com/uc?id={file_id}\", \"best_model.pt\", quiet=False)\n",
    "\n",
    "siamese_model = SiameseViT(vit_embedder, proj_head).to(device)\n",
    "siamese_model.load_state_dict(torch.load(\"best_model.pt\", map_location=device))"
   ]
  },
  {
   "cell_type": "code",
   "execution_count": null,
   "metadata": {
    "executionInfo": {
     "elapsed": 3,
     "status": "ok",
     "timestamp": 1753200341984,
     "user": {
      "displayName": "Hikari Research",
      "userId": "13771564110195447892"
     },
     "user_tz": -330
    },
    "id": "vYHs44_pFiBD"
   },
   "outputs": [],
   "source": [
    "def load_tensor(folder_path):\n",
    "    tensor_paths = sorted([\n",
    "        os.path.join(folder_path, f)\n",
    "        for f in os.listdir(folder_path)\n",
    "        if f.endswith(\".pt\")\n",
    "    ])\n",
    "    embeddings = []\n",
    "    for path in tensor_paths:\n",
    "        tensor = torch.load(path).unsqueeze(0).to(device)  \n",
    "        emb = siamese_model.forward_once(tensor)\n",
    "        embeddings.append(emb)\n",
    "\n",
    "    avg_embedding = torch.stack(embeddings).mean(dim=0)  \n",
    "    return avg_embedding\n"
   ]
  },
  {
   "cell_type": "code",
   "execution_count": null,
   "metadata": {
    "colab": {
     "base_uri": "https://localhost:8080/"
    },
    "executionInfo": {
     "elapsed": 70996,
     "status": "ok",
     "timestamp": 1753200412993,
     "user": {
      "displayName": "Hikari Research",
      "userId": "13771564110195447892"
     },
     "user_tz": -330
    },
    "id": "lq1SWxWzCoBs",
    "outputId": "4dd86a2e-839f-4bf2-b31e-8a641c068237"
   },
   "outputs": [],
   "source": [
    "df = pd.read_parquet(\"uni_test.parquet\")\n",
    "rows = []\n",
    "\n",
    "siamese_model.eval()  \n",
    "\n",
    "with torch.no_grad():\n",
    "    for idx, row in tqdm(df.iterrows(), total=len(df), desc=\"Computing ViT embeddings\"):\n",
    "        p1N = load_tensor(row[\"sample_1_N\"])\n",
    "        p1F = load_tensor(row[\"sample_1_F\"])\n",
    "        p2N = load_tensor(row[\"sample_2_N\"])\n",
    "        p2F = load_tensor(row[\"sample_2_F\"])\n",
    "\n",
    "        # Already averaged embeddings\n",
    "        emb_1N = p1N\n",
    "        emb_1F = p1F\n",
    "        emb_2N = p2N\n",
    "        emb_2F = p2F\n",
    "\n",
    "        # Compute distances\n",
    "        d_1N_1F = torch.norm(emb_1N - emb_1F).item()\n",
    "        d_2N_2F = torch.norm(emb_2N - emb_2F).item()\n",
    "        d_1N_2N = torch.norm(emb_1N - emb_2N).item()\n",
    "        d_1N_2F = torch.norm(emb_1N - emb_2F).item()\n",
    "        d_1F_2N = torch.norm(emb_1F - emb_2N).item()\n",
    "        d_1F_2F = torch.norm(emb_1F - emb_2F).item()\n",
    "\n",
    "        sample_1_N = row[\"sample_1_N\"].replace(\"texture_uni/\", \"\")\n",
    "        sample_1_F = row[\"sample_1_F\"].replace(\"texture_uni/\", \"\")\n",
    "        sample_2_N = row[\"sample_2_N\"].replace(\"texture_uni/\", \"\")\n",
    "        sample_2_F = row[\"sample_2_F\"].replace(\"texture_uni/\", \"\")\n",
    "\n",
    "        rows.append({\n",
    "            \"d_1N_1F\": d_1N_1F,\n",
    "            \"d_2N_2F\": d_2N_2F,\n",
    "            \"d_1N_2N\": d_1N_2N,\n",
    "            \"d_1N_2F\": d_1N_2F,\n",
    "            \"d_1F_2N\": d_1F_2N,\n",
    "            \"d_1F_2F\": d_1F_2F,\n",
    "            \"sample_1_N\": sample_1_N,\n",
    "            \"sample_1_F\": sample_1_F,\n",
    "            \"sample_2_N\": sample_2_N,\n",
    "            \"sample_2_F\": sample_2_F,\n",
    "            \"label\": row[\"label\"]\n",
    "        })\n",
    "\n",
    "dist_df = pd.DataFrame(rows)\n",
    "dist_df.to_parquet(\"test_dissimilarity_dataset_vit.parquet\", index=False)\n",
    "dist_df.to_csv(\"test_dissimilarity_dataset_vit.csv\", index=False)\n"
   ]
  }
 ],
 "metadata": {
  "accelerator": "GPU",
  "colab": {
   "gpuType": "A100",
   "machine_shape": "hm",
   "provenance": []
  },
  "kernelspec": {
   "display_name": "Python 3",
   "name": "python3"
  },
  "language_info": {
   "codemirror_mode": {
    "name": "ipython",
    "version": 3
   },
   "file_extension": ".py",
   "mimetype": "text/x-python",
   "name": "python",
   "nbconvert_exporter": "python",
   "pygments_lexer": "ipython3",
   "version": "3.12.7"
  },
  "widgets": {
   "application/vnd.jupyter.widget-state+json": {
    "0971546ae6774854a05131800dba03c8": {
     "model_module": "@jupyter-widgets/base",
     "model_module_version": "1.2.0",
     "model_name": "LayoutModel",
     "state": {
      "_model_module": "@jupyter-widgets/base",
      "_model_module_version": "1.2.0",
      "_model_name": "LayoutModel",
      "_view_count": null,
      "_view_module": "@jupyter-widgets/base",
      "_view_module_version": "1.2.0",
      "_view_name": "LayoutView",
      "align_content": null,
      "align_items": null,
      "align_self": null,
      "border": null,
      "bottom": null,
      "display": null,
      "flex": null,
      "flex_flow": null,
      "grid_area": null,
      "grid_auto_columns": null,
      "grid_auto_flow": null,
      "grid_auto_rows": null,
      "grid_column": null,
      "grid_gap": null,
      "grid_row": null,
      "grid_template_areas": null,
      "grid_template_columns": null,
      "grid_template_rows": null,
      "height": null,
      "justify_content": null,
      "justify_items": null,
      "left": null,
      "margin": null,
      "max_height": null,
      "max_width": null,
      "min_height": null,
      "min_width": null,
      "object_fit": null,
      "object_position": null,
      "order": null,
      "overflow": null,
      "overflow_x": null,
      "overflow_y": null,
      "padding": null,
      "right": null,
      "top": null,
      "visibility": null,
      "width": null
     }
    },
    "0e53c93e0e0e47b4a08bcec35db89bed": {
     "model_module": "@jupyter-widgets/controls",
     "model_module_version": "1.5.0",
     "model_name": "HTMLModel",
     "state": {
      "_dom_classes": [],
      "_model_module": "@jupyter-widgets/controls",
      "_model_module_version": "1.5.0",
      "_model_name": "HTMLModel",
      "_view_count": null,
      "_view_module": "@jupyter-widgets/controls",
      "_view_module_version": "1.5.0",
      "_view_name": "HTMLView",
      "description": "",
      "description_tooltip": null,
      "layout": "IPY_MODEL_0971546ae6774854a05131800dba03c8",
      "placeholder": "​",
      "style": "IPY_MODEL_9afee85d7a0440b4a1518b91dea77c3e",
      "value": "model.safetensors: 100%"
     }
    },
    "11c632c6091f4828bea82fd893a1985e": {
     "model_module": "@jupyter-widgets/controls",
     "model_module_version": "1.5.0",
     "model_name": "ProgressStyleModel",
     "state": {
      "_model_module": "@jupyter-widgets/controls",
      "_model_module_version": "1.5.0",
      "_model_name": "ProgressStyleModel",
      "_view_count": null,
      "_view_module": "@jupyter-widgets/base",
      "_view_module_version": "1.2.0",
      "_view_name": "StyleView",
      "bar_color": null,
      "description_width": ""
     }
    },
    "177b04c54f3d434b9856db53da72285f": {
     "model_module": "@jupyter-widgets/base",
     "model_module_version": "1.2.0",
     "model_name": "LayoutModel",
     "state": {
      "_model_module": "@jupyter-widgets/base",
      "_model_module_version": "1.2.0",
      "_model_name": "LayoutModel",
      "_view_count": null,
      "_view_module": "@jupyter-widgets/base",
      "_view_module_version": "1.2.0",
      "_view_name": "LayoutView",
      "align_content": null,
      "align_items": null,
      "align_self": null,
      "border": null,
      "bottom": null,
      "display": null,
      "flex": null,
      "flex_flow": null,
      "grid_area": null,
      "grid_auto_columns": null,
      "grid_auto_flow": null,
      "grid_auto_rows": null,
      "grid_column": null,
      "grid_gap": null,
      "grid_row": null,
      "grid_template_areas": null,
      "grid_template_columns": null,
      "grid_template_rows": null,
      "height": null,
      "justify_content": null,
      "justify_items": null,
      "left": null,
      "margin": null,
      "max_height": null,
      "max_width": null,
      "min_height": null,
      "min_width": null,
      "object_fit": null,
      "object_position": null,
      "order": null,
      "overflow": null,
      "overflow_x": null,
      "overflow_y": null,
      "padding": null,
      "right": null,
      "top": null,
      "visibility": null,
      "width": "20px"
     }
    },
    "33f44b9f3a6840c580e9dcff2dad0cbc": {
     "model_module": "@jupyter-widgets/controls",
     "model_module_version": "1.5.0",
     "model_name": "DescriptionStyleModel",
     "state": {
      "_model_module": "@jupyter-widgets/controls",
      "_model_module_version": "1.5.0",
      "_model_name": "DescriptionStyleModel",
      "_view_count": null,
      "_view_module": "@jupyter-widgets/base",
      "_view_module_version": "1.2.0",
      "_view_name": "StyleView",
      "description_width": ""
     }
    },
    "3eb8e4dca3614f81b633e77dc9af467e": {
     "model_module": "@jupyter-widgets/controls",
     "model_module_version": "1.5.0",
     "model_name": "FloatProgressModel",
     "state": {
      "_dom_classes": [],
      "_model_module": "@jupyter-widgets/controls",
      "_model_module_version": "1.5.0",
      "_model_name": "FloatProgressModel",
      "_view_count": null,
      "_view_module": "@jupyter-widgets/controls",
      "_view_module_version": "1.5.0",
      "_view_name": "ProgressView",
      "bar_style": "success",
      "description": "",
      "description_tooltip": null,
      "layout": "IPY_MODEL_6729076165d94b9d95c65c6fb46b7457",
      "max": 347461216,
      "min": 0,
      "orientation": "horizontal",
      "style": "IPY_MODEL_11c632c6091f4828bea82fd893a1985e",
      "value": 347461216
     }
    },
    "546bc3a336e04654a76846762a23e428": {
     "model_module": "@jupyter-widgets/base",
     "model_module_version": "1.2.0",
     "model_name": "LayoutModel",
     "state": {
      "_model_module": "@jupyter-widgets/base",
      "_model_module_version": "1.2.0",
      "_model_name": "LayoutModel",
      "_view_count": null,
      "_view_module": "@jupyter-widgets/base",
      "_view_module_version": "1.2.0",
      "_view_name": "LayoutView",
      "align_content": null,
      "align_items": null,
      "align_self": null,
      "border": null,
      "bottom": null,
      "display": null,
      "flex": null,
      "flex_flow": null,
      "grid_area": null,
      "grid_auto_columns": null,
      "grid_auto_flow": null,
      "grid_auto_rows": null,
      "grid_column": null,
      "grid_gap": null,
      "grid_row": null,
      "grid_template_areas": null,
      "grid_template_columns": null,
      "grid_template_rows": null,
      "height": null,
      "justify_content": null,
      "justify_items": null,
      "left": null,
      "margin": null,
      "max_height": null,
      "max_width": null,
      "min_height": null,
      "min_width": null,
      "object_fit": null,
      "object_position": null,
      "order": null,
      "overflow": null,
      "overflow_x": null,
      "overflow_y": null,
      "padding": null,
      "right": null,
      "top": null,
      "visibility": null,
      "width": null
     }
    },
    "5648fa8bb1f343ecb74479378eae4970": {
     "model_module": "@jupyter-widgets/controls",
     "model_module_version": "1.5.0",
     "model_name": "HTMLModel",
     "state": {
      "_dom_classes": [],
      "_model_module": "@jupyter-widgets/controls",
      "_model_module_version": "1.5.0",
      "_model_name": "HTMLModel",
      "_view_count": null,
      "_view_module": "@jupyter-widgets/controls",
      "_view_module_version": "1.5.0",
      "_view_name": "HTMLView",
      "description": "",
      "description_tooltip": null,
      "layout": "IPY_MODEL_b0f96a8b590c48b2b081ea32a538b3a2",
      "placeholder": "​",
      "style": "IPY_MODEL_aad0212e4c2d4aa3a546276d5c423071",
      "value": " 69.7k/? [00:00&lt;00:00, 7.09MB/s]"
     }
    },
    "5c3a82809cd249b994d7675b1eeaa3f9": {
     "model_module": "@jupyter-widgets/controls",
     "model_module_version": "1.5.0",
     "model_name": "DescriptionStyleModel",
     "state": {
      "_model_module": "@jupyter-widgets/controls",
      "_model_module_version": "1.5.0",
      "_model_name": "DescriptionStyleModel",
      "_view_count": null,
      "_view_module": "@jupyter-widgets/base",
      "_view_module_version": "1.2.0",
      "_view_name": "StyleView",
      "description_width": ""
     }
    },
    "6729076165d94b9d95c65c6fb46b7457": {
     "model_module": "@jupyter-widgets/base",
     "model_module_version": "1.2.0",
     "model_name": "LayoutModel",
     "state": {
      "_model_module": "@jupyter-widgets/base",
      "_model_module_version": "1.2.0",
      "_model_name": "LayoutModel",
      "_view_count": null,
      "_view_module": "@jupyter-widgets/base",
      "_view_module_version": "1.2.0",
      "_view_name": "LayoutView",
      "align_content": null,
      "align_items": null,
      "align_self": null,
      "border": null,
      "bottom": null,
      "display": null,
      "flex": null,
      "flex_flow": null,
      "grid_area": null,
      "grid_auto_columns": null,
      "grid_auto_flow": null,
      "grid_auto_rows": null,
      "grid_column": null,
      "grid_gap": null,
      "grid_row": null,
      "grid_template_areas": null,
      "grid_template_columns": null,
      "grid_template_rows": null,
      "height": null,
      "justify_content": null,
      "justify_items": null,
      "left": null,
      "margin": null,
      "max_height": null,
      "max_width": null,
      "min_height": null,
      "min_width": null,
      "object_fit": null,
      "object_position": null,
      "order": null,
      "overflow": null,
      "overflow_x": null,
      "overflow_y": null,
      "padding": null,
      "right": null,
      "top": null,
      "visibility": null,
      "width": null
     }
    },
    "7a146aae608f47d681283963da54e9fd": {
     "model_module": "@jupyter-widgets/controls",
     "model_module_version": "1.5.0",
     "model_name": "ProgressStyleModel",
     "state": {
      "_model_module": "@jupyter-widgets/controls",
      "_model_module_version": "1.5.0",
      "_model_name": "ProgressStyleModel",
      "_view_count": null,
      "_view_module": "@jupyter-widgets/base",
      "_view_module_version": "1.2.0",
      "_view_name": "StyleView",
      "bar_color": null,
      "description_width": ""
     }
    },
    "902b39273807455b9dfcb8433d09c624": {
     "model_module": "@jupyter-widgets/base",
     "model_module_version": "1.2.0",
     "model_name": "LayoutModel",
     "state": {
      "_model_module": "@jupyter-widgets/base",
      "_model_module_version": "1.2.0",
      "_model_name": "LayoutModel",
      "_view_count": null,
      "_view_module": "@jupyter-widgets/base",
      "_view_module_version": "1.2.0",
      "_view_name": "LayoutView",
      "align_content": null,
      "align_items": null,
      "align_self": null,
      "border": null,
      "bottom": null,
      "display": null,
      "flex": null,
      "flex_flow": null,
      "grid_area": null,
      "grid_auto_columns": null,
      "grid_auto_flow": null,
      "grid_auto_rows": null,
      "grid_column": null,
      "grid_gap": null,
      "grid_row": null,
      "grid_template_areas": null,
      "grid_template_columns": null,
      "grid_template_rows": null,
      "height": null,
      "justify_content": null,
      "justify_items": null,
      "left": null,
      "margin": null,
      "max_height": null,
      "max_width": null,
      "min_height": null,
      "min_width": null,
      "object_fit": null,
      "object_position": null,
      "order": null,
      "overflow": null,
      "overflow_x": null,
      "overflow_y": null,
      "padding": null,
      "right": null,
      "top": null,
      "visibility": null,
      "width": null
     }
    },
    "9afee85d7a0440b4a1518b91dea77c3e": {
     "model_module": "@jupyter-widgets/controls",
     "model_module_version": "1.5.0",
     "model_name": "DescriptionStyleModel",
     "state": {
      "_model_module": "@jupyter-widgets/controls",
      "_model_module_version": "1.5.0",
      "_model_name": "DescriptionStyleModel",
      "_view_count": null,
      "_view_module": "@jupyter-widgets/base",
      "_view_module_version": "1.2.0",
      "_view_name": "StyleView",
      "description_width": ""
     }
    },
    "a5a8fa22810b4ac2a030fb653a4fae82": {
     "model_module": "@jupyter-widgets/controls",
     "model_module_version": "1.5.0",
     "model_name": "HTMLModel",
     "state": {
      "_dom_classes": [],
      "_model_module": "@jupyter-widgets/controls",
      "_model_module_version": "1.5.0",
      "_model_name": "HTMLModel",
      "_view_count": null,
      "_view_module": "@jupyter-widgets/controls",
      "_view_module_version": "1.5.0",
      "_view_name": "HTMLView",
      "description": "",
      "description_tooltip": null,
      "layout": "IPY_MODEL_c505450c71ad499dbdf633452b96486a",
      "placeholder": "​",
      "style": "IPY_MODEL_33f44b9f3a6840c580e9dcff2dad0cbc",
      "value": "config.json: "
     }
    },
    "a5ab9f1c8f1443aaa0eea96b3dff465e": {
     "model_module": "@jupyter-widgets/controls",
     "model_module_version": "1.5.0",
     "model_name": "FloatProgressModel",
     "state": {
      "_dom_classes": [],
      "_model_module": "@jupyter-widgets/controls",
      "_model_module_version": "1.5.0",
      "_model_name": "FloatProgressModel",
      "_view_count": null,
      "_view_module": "@jupyter-widgets/controls",
      "_view_module_version": "1.5.0",
      "_view_name": "ProgressView",
      "bar_style": "success",
      "description": "",
      "description_tooltip": null,
      "layout": "IPY_MODEL_177b04c54f3d434b9856db53da72285f",
      "max": 1,
      "min": 0,
      "orientation": "horizontal",
      "style": "IPY_MODEL_7a146aae608f47d681283963da54e9fd",
      "value": 1
     }
    },
    "aad0212e4c2d4aa3a546276d5c423071": {
     "model_module": "@jupyter-widgets/controls",
     "model_module_version": "1.5.0",
     "model_name": "DescriptionStyleModel",
     "state": {
      "_model_module": "@jupyter-widgets/controls",
      "_model_module_version": "1.5.0",
      "_model_name": "DescriptionStyleModel",
      "_view_count": null,
      "_view_module": "@jupyter-widgets/base",
      "_view_module_version": "1.2.0",
      "_view_name": "StyleView",
      "description_width": ""
     }
    },
    "b0f96a8b590c48b2b081ea32a538b3a2": {
     "model_module": "@jupyter-widgets/base",
     "model_module_version": "1.2.0",
     "model_name": "LayoutModel",
     "state": {
      "_model_module": "@jupyter-widgets/base",
      "_model_module_version": "1.2.0",
      "_model_name": "LayoutModel",
      "_view_count": null,
      "_view_module": "@jupyter-widgets/base",
      "_view_module_version": "1.2.0",
      "_view_name": "LayoutView",
      "align_content": null,
      "align_items": null,
      "align_self": null,
      "border": null,
      "bottom": null,
      "display": null,
      "flex": null,
      "flex_flow": null,
      "grid_area": null,
      "grid_auto_columns": null,
      "grid_auto_flow": null,
      "grid_auto_rows": null,
      "grid_column": null,
      "grid_gap": null,
      "grid_row": null,
      "grid_template_areas": null,
      "grid_template_columns": null,
      "grid_template_rows": null,
      "height": null,
      "justify_content": null,
      "justify_items": null,
      "left": null,
      "margin": null,
      "max_height": null,
      "max_width": null,
      "min_height": null,
      "min_width": null,
      "object_fit": null,
      "object_position": null,
      "order": null,
      "overflow": null,
      "overflow_x": null,
      "overflow_y": null,
      "padding": null,
      "right": null,
      "top": null,
      "visibility": null,
      "width": null
     }
    },
    "b387f7338e3f49cca07e240eb95b7732": {
     "model_module": "@jupyter-widgets/controls",
     "model_module_version": "1.5.0",
     "model_name": "HBoxModel",
     "state": {
      "_dom_classes": [],
      "_model_module": "@jupyter-widgets/controls",
      "_model_module_version": "1.5.0",
      "_model_name": "HBoxModel",
      "_view_count": null,
      "_view_module": "@jupyter-widgets/controls",
      "_view_module_version": "1.5.0",
      "_view_name": "HBoxView",
      "box_style": "",
      "children": [
       "IPY_MODEL_0e53c93e0e0e47b4a08bcec35db89bed",
       "IPY_MODEL_3eb8e4dca3614f81b633e77dc9af467e",
       "IPY_MODEL_c006df65d7924a1b9d695eb7e2ebe604"
      ],
      "layout": "IPY_MODEL_e646c5f80b524d8bad8843d04f9ce77c"
     }
    },
    "c006df65d7924a1b9d695eb7e2ebe604": {
     "model_module": "@jupyter-widgets/controls",
     "model_module_version": "1.5.0",
     "model_name": "HTMLModel",
     "state": {
      "_dom_classes": [],
      "_model_module": "@jupyter-widgets/controls",
      "_model_module_version": "1.5.0",
      "_model_name": "HTMLModel",
      "_view_count": null,
      "_view_module": "@jupyter-widgets/controls",
      "_view_module_version": "1.5.0",
      "_view_name": "HTMLView",
      "description": "",
      "description_tooltip": null,
      "layout": "IPY_MODEL_902b39273807455b9dfcb8433d09c624",
      "placeholder": "​",
      "style": "IPY_MODEL_5c3a82809cd249b994d7675b1eeaa3f9",
      "value": " 347M/347M [00:02&lt;00:00, 214MB/s]"
     }
    },
    "c505450c71ad499dbdf633452b96486a": {
     "model_module": "@jupyter-widgets/base",
     "model_module_version": "1.2.0",
     "model_name": "LayoutModel",
     "state": {
      "_model_module": "@jupyter-widgets/base",
      "_model_module_version": "1.2.0",
      "_model_name": "LayoutModel",
      "_view_count": null,
      "_view_module": "@jupyter-widgets/base",
      "_view_module_version": "1.2.0",
      "_view_name": "LayoutView",
      "align_content": null,
      "align_items": null,
      "align_self": null,
      "border": null,
      "bottom": null,
      "display": null,
      "flex": null,
      "flex_flow": null,
      "grid_area": null,
      "grid_auto_columns": null,
      "grid_auto_flow": null,
      "grid_auto_rows": null,
      "grid_column": null,
      "grid_gap": null,
      "grid_row": null,
      "grid_template_areas": null,
      "grid_template_columns": null,
      "grid_template_rows": null,
      "height": null,
      "justify_content": null,
      "justify_items": null,
      "left": null,
      "margin": null,
      "max_height": null,
      "max_width": null,
      "min_height": null,
      "min_width": null,
      "object_fit": null,
      "object_position": null,
      "order": null,
      "overflow": null,
      "overflow_x": null,
      "overflow_y": null,
      "padding": null,
      "right": null,
      "top": null,
      "visibility": null,
      "width": null
     }
    },
    "caebb13a1dd34b9b82106082c783781d": {
     "model_module": "@jupyter-widgets/controls",
     "model_module_version": "1.5.0",
     "model_name": "HBoxModel",
     "state": {
      "_dom_classes": [],
      "_model_module": "@jupyter-widgets/controls",
      "_model_module_version": "1.5.0",
      "_model_name": "HBoxModel",
      "_view_count": null,
      "_view_module": "@jupyter-widgets/controls",
      "_view_module_version": "1.5.0",
      "_view_name": "HBoxView",
      "box_style": "",
      "children": [
       "IPY_MODEL_a5a8fa22810b4ac2a030fb653a4fae82",
       "IPY_MODEL_a5ab9f1c8f1443aaa0eea96b3dff465e",
       "IPY_MODEL_5648fa8bb1f343ecb74479378eae4970"
      ],
      "layout": "IPY_MODEL_546bc3a336e04654a76846762a23e428"
     }
    },
    "e646c5f80b524d8bad8843d04f9ce77c": {
     "model_module": "@jupyter-widgets/base",
     "model_module_version": "1.2.0",
     "model_name": "LayoutModel",
     "state": {
      "_model_module": "@jupyter-widgets/base",
      "_model_module_version": "1.2.0",
      "_model_name": "LayoutModel",
      "_view_count": null,
      "_view_module": "@jupyter-widgets/base",
      "_view_module_version": "1.2.0",
      "_view_name": "LayoutView",
      "align_content": null,
      "align_items": null,
      "align_self": null,
      "border": null,
      "bottom": null,
      "display": null,
      "flex": null,
      "flex_flow": null,
      "grid_area": null,
      "grid_auto_columns": null,
      "grid_auto_flow": null,
      "grid_auto_rows": null,
      "grid_column": null,
      "grid_gap": null,
      "grid_row": null,
      "grid_template_areas": null,
      "grid_template_columns": null,
      "grid_template_rows": null,
      "height": null,
      "justify_content": null,
      "justify_items": null,
      "left": null,
      "margin": null,
      "max_height": null,
      "max_width": null,
      "min_height": null,
      "min_width": null,
      "object_fit": null,
      "object_position": null,
      "order": null,
      "overflow": null,
      "overflow_x": null,
      "overflow_y": null,
      "padding": null,
      "right": null,
      "top": null,
      "visibility": null,
      "width": null
     }
    }
   }
  }
 },
 "nbformat": 4,
 "nbformat_minor": 0
}
